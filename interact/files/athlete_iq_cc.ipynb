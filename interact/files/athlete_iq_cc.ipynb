{
 "cells": [
  {
   "cell_type": "markdown",
   "id": "5bb9fa42",
   "metadata": {},
   "source": [
    "# Association of athletic and IQ scores with $r$"
   ]
  },
  {
   "cell_type": "markdown",
   "id": "41e3cbb5",
   "metadata": {},
   "source": [
    "We use random pairings of the athletic and IQ scores to find the\n",
    "null-world distribution of the correlation coefficients of these scores."
   ]
  },
  {
   "cell_type": "code",
   "execution_count": null,
   "id": "b0073de2",
   "metadata": {},
   "outputs": [],
   "source": [
    "# Read the data file containing athletic and IQ scores.\n",
    "# Read data from web URL instead of local data directory\n",
    "# (so that notebook works in online version).\n",
    "ath_iq_df <- read.csv('https://resampling-stats.github.io/data/athletic_iq.csv')\n",
    "\n",
    "# Turn athletic and IQ scores into vectors.\n",
    "ath = ath_iq_df$athletic_score\n",
    "iq = ath_iq_df$iq_score\n",
    "\n",
    "# Calculate correlation coefficient.\n",
    "actual_r <- cor(ath, iq)\n",
    "\n",
    "# Set the number of trials for the null-world simulation.\n",
    "n_trials <- 10000\n",
    "\n",
    "# An empty array to store the trial results.\n",
    "results <- numeric(n_trials)\n",
    "\n",
    "# Do 10,000 experiments.\n",
    "for (i in 1:n_trials) {\n",
    "    # Shuffle the IQ scores so we can pair them against athletic scores.\n",
    "    shuffled <- sample(iq)\n",
    "    # Calculate the correlation coefficient.\n",
    "    fake_r <- cor(ath, shuffled)\n",
    "    # Keep track of the result in results array.\n",
    "    results[i] <- fake_r\n",
    "    # End one trial, go back and repeat until 10000 trials are complete.\n",
    "}\n",
    "\n",
    "# Obtain a histogram of the trial results.\n",
    "hist(results, breaks=25,\n",
    "    main='Random correlation coefficients',\n",
    "    xlab='Observed r values from random pairing')\n",
    "\n",
    "# Determine in how many trials the random r value was greater than\n",
    "# the observed r value.\n",
    "k <- sum(results >= actual_r)\n",
    "# Convert to a proportion.\n",
    "kk <- k / n_trials\n",
    "# Print the result.\n",
    "message('Proportion of random pairings giving r >= observed: ', kk)"
   ]
  }
 ],
 "metadata": {
  "jupytext": {
   "cell_metadata_filter": "-all",
   "main_language": "R",
   "notebook_metadata_filter": "-all"
  },
  "kernelspec": {
   "display_name": "R (webR)",
   "name": "webR"
  }
 },
 "nbformat": 4,
 "nbformat_minor": 5
}
