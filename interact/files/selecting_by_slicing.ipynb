{
 "cells": [
  {
   "cell_type": "markdown",
   "id": "b39101ba",
   "metadata": {},
   "source": [
    "# Selecting elements by slicing"
   ]
  },
  {
   "cell_type": "markdown",
   "id": "85eb69b7",
   "metadata": {},
   "source": [
    "As you saw in <a href=\"#sec-array-indexing\" class=\"quarto-xref\"><span\n",
    "class=\"quarto-unresolved-ref\">sec-array-indexing</span></a>, we do\n",
    "*indexing* when we put square brackets following a value that is a\n",
    "container, such as a vector. Inside the square brackets we put another\n",
    "value to specify which elements we want to fetch from the container.\n",
    "\n",
    "We will use the `some_numbers` vector as our container for indexing:"
   ]
  },
  {
   "cell_type": "code",
   "execution_count": null,
   "id": "34392e85",
   "metadata": {},
   "outputs": [],
   "source": [
    "some_numbers = c(3, 1, 4, 1, 5, 9, 2, 6)"
   ]
  },
  {
   "cell_type": "markdown",
   "id": "13e88037",
   "metadata": {},
   "source": [
    "In the indexing expression below, we have the vector `some_numbers`,\n",
    "followed by the value `3` inside the square brackets, telling R that we\n",
    "want the third value from the `some_numbers` container."
   ]
  },
  {
   "cell_type": "code",
   "execution_count": null,
   "id": "93316d92",
   "metadata": {},
   "outputs": [],
   "source": [
    "# Indexing with an integer inside the square brackets.\n",
    "some_numbers[3]"
   ]
  },
  {
   "cell_type": "markdown",
   "id": "03e4857d",
   "metadata": {},
   "source": [
    "In the example above, we put an integer (a whole number) inside the\n",
    "square brackets, to specify the position of the element we want to fetch\n",
    "from the container.\n"
   ]
  },
  {
   "cell_type": "markdown",
   "id": "a601116a",
   "metadata": {},
   "source": [
    "We can also put a *vector* inside the square brackets. If we put a\n",
    "vector inside the square brackets, the elements of that vector specify\n",
    "the positions of the elements we want to fetch.\n",
    "\n",
    "We have already seen that R can form a vector of sequential integers by\n",
    "using the colon (`:`) operator."
   ]
  },
  {
   "cell_type": "code",
   "execution_count": null,
   "id": "0780397b",
   "metadata": {},
   "outputs": [],
   "source": [
    "# The sequence of integers from 3 through 8\n",
    "3:8"
   ]
  },
  {
   "cell_type": "markdown",
   "id": "6e3d3144",
   "metadata": {},
   "source": [
    "See <a href=\"#sec-what-is-an-operator\" class=\"quarto-xref\"><span\n",
    "class=\"quarto-unresolved-ref\">sec-what-is-an-operator</span></a> for\n",
    "more on operators. The colon operator (the `:`) serves as a signal to R\n",
    "to create a new value by *operating* on the values to the left and right\n",
    "of the colon.\n",
    "\n",
    "The integer to the left of the colon specifies the *start* position;\n",
    "this is the position of the first element we want. The integer to the\n",
    "right of the colon gives the *stop* position. R interprets this as\n",
    "asking for a vector containing all the integers from (including) the\n",
    "*start* value (3 in the example above) through (including) the stop\n",
    "value (8 in the example above).\n",
    "\n",
    "For example, here we index the vector `some_numbers` with another vector\n",
    "having *start* position of 2 and *stop* position of 5. The result is\n",
    "another vector, that has the elements of `some_numbers` from positions 2\n",
    "through 5:"
   ]
  },
  {
   "cell_type": "code",
   "execution_count": null,
   "id": "721c29a5",
   "metadata": {},
   "outputs": [],
   "source": [
    "# Indexing a vector with a vector.\n",
    "our_positions <- 2:5\n",
    "some_numbers[our_positions]"
   ]
  },
  {
   "cell_type": "markdown",
   "id": "eece95cf",
   "metadata": {},
   "source": [
    "Of course we could also do the same thing in one line, by forming the\n",
    "vector of positions inside the square (indexing) brackets:"
   ]
  },
  {
   "cell_type": "code",
   "execution_count": null,
   "id": "2ced88eb",
   "metadata": {
    "lines_to_next_cell": 0
   },
   "outputs": [],
   "source": [
    "# Indexing a vector with a vector.\n",
    "some_numbers[2:5]"
   ]
  },
  {
   "cell_type": "markdown",
   "id": "724b4dc6",
   "metadata": {},
   "source": []
  }
 ],
 "metadata": {
  "jupytext": {
   "cell_metadata_filter": "-all",
   "main_language": "R",
   "notebook_metadata_filter": "-all"
  },
  "kernelspec": {
   "display_name": "R (webR)",
   "name": "webR"
  }
 },
 "nbformat": 4,
 "nbformat_minor": 5
}
