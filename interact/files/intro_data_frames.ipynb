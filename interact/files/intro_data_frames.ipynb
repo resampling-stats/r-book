{
 "cells": [
  {
   "cell_type": "markdown",
   "id": "362c09ff",
   "metadata": {},
   "source": [
    "# Introducing data frames"
   ]
  },
  {
   "cell_type": "markdown",
   "id": "8f20f6a2",
   "metadata": {},
   "source": [
    "R is a data analysis language, so, as you would expect, it is\n",
    "particularly good at loading data files, and presenting them to us as a\n",
    "useful table-like structure, called a *data frame*.\n",
    "\n",
    "We start by using R to load our data file. R has a special function to\n",
    "do this, called `read.csv`."
   ]
  },
  {
   "cell_type": "code",
   "execution_count": null,
   "id": "07634b94",
   "metadata": {},
   "outputs": [],
   "source": [
    "# Read data from web URL instead of local data directory\n",
    "# (so that notebook works in online version).\n",
    "district_income <- read.csv('https://resampling-stats.github.io/data/congress_2023.csv')"
   ]
  },
  {
   "cell_type": "markdown",
   "id": "51b598b5",
   "metadata": {},
   "source": [
    "We have thus far done many operations that returned R *vectors*.\n",
    "`read.csv` returns a new type of value, called a *data frame*:"
   ]
  },
  {
   "cell_type": "code",
   "execution_count": null,
   "id": "c1a344e8",
   "metadata": {},
   "outputs": [],
   "source": [
    "class(district_income)"
   ]
  },
  {
   "cell_type": "markdown",
   "id": "68f5537d",
   "metadata": {},
   "source": [
    "A data frame is R’s own way of representing a table, with columns and\n",
    "rows. You can think of it as R’s version of a spreadsheet. Data frames\n",
    "are a fundamental type in R, and there are many functions that operate\n",
    "on them. Among them is the function `head` which selects (by default)\n",
    "the first six rows of whatever you send it. Here we select the first six\n",
    "rows of the data frame."
   ]
  },
  {
   "cell_type": "code",
   "execution_count": null,
   "id": "d7100974",
   "metadata": {},
   "outputs": [],
   "source": [
    "# Show the first six rows in the data frame\n",
    "head(district_income)"
   ]
  },
  {
   "cell_type": "markdown",
   "id": "df3f684b",
   "metadata": {},
   "source": [
    "The data are in income order, sorted lowest to highest, so the first\n",
    "five districts are those with the lowest household income.\n",
    "\n",
    "We are particularly interested in the column named `Median_Income`.\n",
    "\n",
    "You can fetch columns of data from a data frame by using R’s `$` syntax.\n",
    "The `$` syntax means “fetch the thing named on the right of the `$`\n",
    "attached to the value given to the left of the `$`”.\n",
    "\n",
    "So, to get the data for the `Median_Income` column, we can write:"
   ]
  },
  {
   "cell_type": "code",
   "execution_count": null,
   "id": "c7f93b68",
   "metadata": {},
   "outputs": [],
   "source": [
    "# Use $ syntax to get a column of data from a data frame.\n",
    "# \"fetch the Median_Income thing from district_income\".\n",
    "incomes = district_income$Median_Income\n",
    "# The thing that comes back is our familiar R vector.\n",
    "# Show the first five values, by indexing with a slice.\n",
    "incomes[1:5]"
   ]
  }
 ],
 "metadata": {
  "jupytext": {
   "cell_metadata_filter": "-all",
   "main_language": "R",
   "notebook_metadata_filter": "-all"
  },
  "kernelspec": {
   "display_name": "R (webR)",
   "name": "webR"
  }
 },
 "nbformat": 4,
 "nbformat_minor": 5
}
