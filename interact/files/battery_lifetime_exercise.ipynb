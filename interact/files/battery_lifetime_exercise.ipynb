{
 "cells": [
  {
   "cell_type": "markdown",
   "id": "fce7e9ea",
   "metadata": {},
   "source": [
    "# Battery lifetime exercise"
   ]
  },
  {
   "cell_type": "markdown",
   "id": "512a2ca0",
   "metadata": {},
   "source": [
    "A sample of 20 batteries is tested, and the average lifetime is 28.85\n",
    "months. Establish a 95 percent confidence interval for the true average\n",
    "value. The sample values (lifetimes in months) are listed below."
   ]
  },
  {
   "cell_type": "code",
   "execution_count": null,
   "id": "b4c99b26",
   "metadata": {},
   "outputs": [],
   "source": [
    "lifetimes <- c(30, 32, 31, 28, 31, 29, 29, 24, 30, 31,\n",
    "               28, 28, 32, 31, 24, 23, 31, 27, 27, 31)\n",
    "\n",
    "message('Mean is: ', mean(lifetimes))"
   ]
  }
 ],
 "metadata": {
  "jupytext": {
   "cell_metadata_filter": "-all",
   "main_language": "R",
   "notebook_metadata_filter": "-all"
  },
  "kernelspec": {
   "display_name": "R (webR)",
   "name": "webR"
  }
 },
 "nbformat": 4,
 "nbformat_minor": 5
}
