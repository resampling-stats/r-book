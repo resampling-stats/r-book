{
 "cells": [
  {
   "cell_type": "markdown",
   "id": "7b6f9b46",
   "metadata": {},
   "source": [
    "# Paired differences solution\n"
   ]
  },
  {
   "cell_type": "code",
   "execution_count": null,
   "id": "e1ed738c",
   "metadata": {},
   "outputs": [],
   "source": [
    "# Read data from web URL instead of local data directory\n",
    "# (so that notebook works in online version).\n",
    "df <- read.csv('https://resampling-stats.github.io/data/hamilton.csv')\n",
    "before <- df$score_before\n",
    "after <- df$score_after\n",
    "\n",
    "observed_diff <- mean(after) - mean(before)\n",
    "\n",
    "# Let us start with a permutation test.\n",
    "both <- c(before, after)\n",
    "n_before <- length(before)\n",
    "\n",
    "# Samples in the null world.\n",
    "n_trials <- 10000\n",
    "results <- numeric(n_trials)\n",
    "for (i in 1:n_trials) {\n",
    "    shuffled <- sample(both)\n",
    "    fake_before <- shuffled[1:n_before]\n",
    "    fake_after <- shuffled[(n_before + 1):length(both)]\n",
    "    fake_diff <- mean(fake_after) - mean(fake_before)\n",
    "    results[i] <- fake_diff\n",
    "}\n",
    "\n",
    "# We are interested in fake differences that are larger\n",
    "# in magnitude than the observed difference (hence \"abs\").\n",
    "# Here we have no prior hypothesis about which direction the difference\n",
    "# will go.\n",
    "k <- sum(abs(results) >= abs(observed_diff))\n",
    "kk <- k / n_trials\n",
    "message('Permutation p null-world abs >= abs observed: ', kk)"
   ]
  },
  {
   "cell_type": "code",
   "execution_count": null,
   "id": "e901e950",
   "metadata": {},
   "outputs": [],
   "source": [
    "# Next a bootstrap test.\n",
    "n_after <- length(after)  # Of course, in our case, this will be == n_before\n",
    "results <- numeric(n_trials)\n",
    "for (i in 1:n_trials) {\n",
    "    fake_before <- sample(both, size=n_before, replace=TRUE)\n",
    "    fake_after <- sample(both, size=n_after, replace=TRUE)\n",
    "    fake_diff <- mean(fake_after) - mean(fake_before)\n",
    "    results[i] <- fake_diff\n",
    "}\n",
    "\n",
    "k <- sum(abs(results) >= abs(observed_diff))\n",
    "kk <- k / n_trials\n",
    "message('Bootstrap p null-world abs >= abs observed: ', kk)"
   ]
  },
  {
   "cell_type": "markdown",
   "id": "04b4d88e",
   "metadata": {},
   "source": [
    "Finally we consider the pairs. Here we *do* take the pairs into account.\n",
    "We have some reason to think that the patients or cars vary in some\n",
    "substantial way in their level of depression, or their tendency to break\n",
    "down, but we believe that the patients’ *response* to treatment or the\n",
    "difference between the mechanics is the value of interest.\n",
    "\n",
    "In that case, we are interested in the *differences* between the pairs.\n",
    "In the null world, these before / after (mechanic A / mechanic B)\n",
    "differences are random. In the null-world, where there is no difference\n",
    "between before/after or mechanics 1 and 2, we can flip the before /\n",
    "after (A / B) pairs and be in the same world.\n",
    "\n",
    "Notice that flipping the before / after or A / B in the pair just\n",
    "changes the sign of the difference.\n",
    "\n",
    "So we will simulate the effect of flipping the values in the pair, by\n",
    "choosing a random sign for the pair, where -1 means pair is flipped, and\n",
    "1 means pair is in original order. We recalculated the mean difference\n",
    "with these random signs (flips) applied, and these will be our values in\n",
    "the null-world."
   ]
  },
  {
   "cell_type": "code",
   "execution_count": null,
   "id": "37e645ec",
   "metadata": {},
   "outputs": [],
   "source": [
    "# A test of paired difference with sign flips for the null world.\n",
    "differences <- after - before\n",
    "observed_mdiff <- mean(differences)\n",
    "n_both <- length(differences)\n",
    "\n",
    "results <- numeric(n_trials)\n",
    "for (i in 1:n_trials) {\n",
    "    # Choose random signs to perform random flips of the pairs.\n",
    "    signs <- sample(c(-1, 1), size=n_both, replace=TRUE)\n",
    "    # Do flips.\n",
    "    fake_differences <- signs * differences\n",
    "    # Calculate mean difference and store result.\n",
    "    results[i] <- mean(fake_differences)\n",
    "}\n",
    "\n",
    "k <- sum(abs(results) >= abs(observed_mdiff))\n",
    "kk <- k / n_trials\n",
    "message('Sign-flip p null-world abs >= abs observed: ', kk)"
   ]
  },
  {
   "cell_type": "markdown",
   "id": "770457b1",
   "metadata": {},
   "source": [
    "Notice that the sign-flip test, in which we preserve the information\n",
    "about the patients / cars, is much more convincing than the permutation\n",
    "or bootstrap tests above, where we choose to ignore that information.\n",
    "\n",
    "This can occur when the values within the pairs (rows) are similar to\n",
    "each other, but less similar across different pairs (rows)."
   ]
  }
 ],
 "metadata": {
  "jupytext": {
   "cell_metadata_filter": "-all",
   "main_language": "R",
   "notebook_metadata_filter": "-all"
  },
  "kernelspec": {
   "display_name": "R (webR)",
   "name": "webR"
  }
 },
 "nbformat": 4,
 "nbformat_minor": 5
}
