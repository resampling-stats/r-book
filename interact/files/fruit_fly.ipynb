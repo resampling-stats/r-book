{
 "cells": [
  {
   "cell_type": "markdown",
   "id": "e622d1e5",
   "metadata": {},
   "source": [
    "# Fruit fly simulation"
   ]
  },
  {
   "cell_type": "markdown",
   "id": "0b592200",
   "metadata": {},
   "source": [
    "This notebook uses simulation to test the null hypothesis that it is\n",
    "equally likely that new fruit files are male or female.\n",
    "\n",
    "#### 21.2.1.1 `paste` to concatenate strings\n",
    "\n",
    "We are going to make a rather verbose label for the plot below. In order\n",
    "to do this, we will need to compile a set of strings and numbers\n",
    "together into a string.\n",
    "\n",
    "One useful R function to do this is `paste`.\n",
    "\n",
    "We pass `paste` the strings and values we want it to combine, as\n",
    "arguments. It converts each argument to a string, and concatenates the\n",
    "resulting strings, separating them with a space (by default).\n",
    "\n",
    "For example, to make a new string that concatenates the strings\n",
    "`'resampling'`, `'is'` and `'better'`, separated by spaces, we could\n",
    "use:"
   ]
  },
  {
   "cell_type": "code",
   "execution_count": null,
   "id": "e1f773e7",
   "metadata": {},
   "outputs": [],
   "source": [
    "paste('resampling', 'is', 'better')"
   ]
  },
  {
   "cell_type": "markdown",
   "id": "a86b4caa",
   "metadata": {},
   "source": [
    "If we wanted to insert a number as a string into this sequence, we can\n",
    "send the number as an argument. `paste` converts the number to a string\n",
    "before concatenation."
   ]
  },
  {
   "cell_type": "code",
   "execution_count": null,
   "id": "f0c32f62",
   "metadata": {},
   "outputs": [],
   "source": [
    "paste('resampling', 'is', 100, 'times', 'better')"
   ]
  },
  {
   "cell_type": "markdown",
   "id": "ad6fb3c1",
   "metadata": {},
   "source": [
    "`paste` is useful for compiling messages to print, or labels for plots,\n",
    "as you will see below.\n",
    "\n",
    "#### 21.2.1.2 Simulation for irradiation and sex of fruit-flies\n",
    "\n"
   ]
  },
  {
   "cell_type": "code",
   "execution_count": null,
   "id": "2203a722",
   "metadata": {},
   "outputs": [],
   "source": [
    "# Set the number of trials\n",
    "n_trials <- 10000\n",
    "\n",
    "# set the sample size for each trial\n",
    "sample_size <- 20\n",
    "\n",
    "# An empty array to store the trials\n",
    "scores <- numeric(n_trials)\n",
    "\n",
    "# Do 10000 trials\n",
    "for (i in 1:n_trials) {\n",
    "    # Generate 20 simulated fruit flies, where each has an equal chance of being\n",
    "    # male or female\n",
    "    a <- sample(c('male', 'female'),\n",
    "                size=sample_size,\n",
    "                prob=c(0.5, 0.5),\n",
    "                replace=TRUE)\n",
    "\n",
    "    # count the number of males in the sample\n",
    "    b <- sum(a == 'male')\n",
    "\n",
    "    # store the result of this trial\n",
    "    scores[i] <- b\n",
    "}\n",
    "\n",
    "# Produce a histogram of the trial results\n",
    "title_of_plot <- paste(\"Number of males in\", n_trials,\n",
    "                       \"samples of\", sample_size,\n",
    "                       \"simulated fruit flies\")\n",
    "hist(scores, xlab='Number of Males', main=title_of_plot)"
   ]
  },
  {
   "cell_type": "markdown",
   "id": "bac2118a",
   "metadata": {},
   "source": [
    "In the histogram above, we see that in about 12 percent of the trials,\n",
    "the number of males was 14 or more, or 6 or fewer. Or instead of reading\n",
    "the results from the histogram, we can calculate the result by tacking\n",
    "on the following commands to the above program:"
   ]
  },
  {
   "cell_type": "code",
   "execution_count": null,
   "id": "4d2aa438",
   "metadata": {},
   "outputs": [],
   "source": [
    "# Determine the number of trials in which we had 14 or more males.\n",
    "j <- sum(scores >= 14)\n",
    "\n",
    "# Determine the number of trials in which we had 6 or fewer males.\n",
    "k <- sum(scores <= 6)\n",
    "\n",
    "# Add the two results together.\n",
    "m <- j + k\n",
    "\n",
    "# Convert to a proportion.\n",
    "mm <- m/n_trials\n",
    "\n",
    "# Print the results.\n",
    "print(mm)"
   ]
  }
 ],
 "metadata": {
  "jupytext": {
   "cell_metadata_filter": "-all",
   "main_language": "R",
   "notebook_metadata_filter": "-all"
  },
  "kernelspec": {
   "display_name": "R (webR)",
   "name": "webR"
  }
 },
 "nbformat": 4,
 "nbformat_minor": 5
}
