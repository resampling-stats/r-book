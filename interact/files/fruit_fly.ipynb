{
 "cells": [
  {
   "cell_type": "markdown",
   "id": "6c346255",
   "metadata": {},
   "source": [
    "# Fruit fly simulation"
   ]
  },
  {
   "cell_type": "markdown",
   "id": "5399e947",
   "metadata": {},
   "source": [
    "This notebook uses simulation to test the null hypothesis that it is\n",
    "equally likely that new fruit files are male or female."
   ]
  },
  {
   "cell_type": "code",
   "execution_count": null,
   "id": "541af756",
   "metadata": {},
   "outputs": [],
   "source": [
    "# Set the number of trials\n",
    "n_trials <- 10000\n",
    "\n",
    "# set the sample size for each trial\n",
    "sample_size <- 20\n",
    "\n",
    "# An empty array to store the trials\n",
    "scores <- numeric(n_trials)\n",
    "\n",
    "# Do 10000 trials\n",
    "for (i in 1:n_trials) {\n",
    "    # Generate 20 simulated fruit flies, where each has an equal chance of being\n",
    "    # male or female\n",
    "    a <- sample(c('male', 'female'),\n",
    "                size=sample_size,\n",
    "                prob=c(0.5, 0.5),\n",
    "                replace=TRUE)\n",
    "\n",
    "    # count the number of males in the sample\n",
    "    b <- sum(a == 'male')\n",
    "\n",
    "    # store the result of this trial\n",
    "    scores[i] <- b\n",
    "}\n",
    "\n",
    "# Produce a histogram of the trial results\n",
    "title_of_plot <- paste(\"Number of males in\", n_trials,\n",
    "                       \"samples of\", sample_size,\n",
    "                       \"simulated fruit flies\")\n",
    "hist(scores, xlab='Number of Males', main=title_of_plot)"
   ]
  },
  {
   "cell_type": "markdown",
   "id": "6dea94a0",
   "metadata": {},
   "source": [
    "In the histogram above, we see that in about 12 percent of the trials,\n",
    "the number of males was 14 or more, or 6 or fewer. Or instead of reading\n",
    "the results from the histogram, we can calculate the result by tacking\n",
    "on the following commands to the above program:"
   ]
  },
  {
   "cell_type": "code",
   "execution_count": null,
   "id": "db8e7a1a",
   "metadata": {},
   "outputs": [],
   "source": [
    "# Determine the number of trials in which we had 14 or more males.\n",
    "j <- sum(scores >= 14)\n",
    "\n",
    "# Determine the number of trials in which we had 6 or fewer males.\n",
    "k <- sum(scores <= 6)\n",
    "\n",
    "# Add the two results together.\n",
    "m <- j + k\n",
    "\n",
    "# Convert to a proportion.\n",
    "mm <- m/n_trials\n",
    "\n",
    "# Print the results.\n",
    "print(mm)"
   ]
  }
 ],
 "metadata": {
  "jupytext": {
   "cell_metadata_filter": "-all",
   "main_language": "R",
   "notebook_metadata_filter": "-all"
  },
  "kernelspec": {
   "display_name": "R (webR)",
   "name": "webR"
  }
 },
 "nbformat": 4,
 "nbformat_minor": 5
}
