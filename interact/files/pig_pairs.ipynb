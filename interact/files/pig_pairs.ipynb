{
 "cells": [
  {
   "cell_type": "markdown",
   "id": "5edf5a2b",
   "metadata": {},
   "source": [
    "# Paired test for pig rations"
   ]
  },
  {
   "cell_type": "markdown",
   "id": "fd284409",
   "metadata": {},
   "source": [
    "Use simulation to test for a difference in pig rations, by pairing pigs\n",
    "and testing the probability of observed differences within the pairs."
   ]
  },
  {
   "cell_type": "code",
   "execution_count": null,
   "id": "7587a29a",
   "metadata": {},
   "outputs": [],
   "source": [
    "n_iters <- 10000\n",
    "\n",
    "# Make array to store results for each trial.\n",
    "results <- numeric(n_iters)\n",
    "\n",
    "# Do 10000 trials\n",
    "for (i in 1:n_iters) {\n",
    "    # Generate randomly 12 \"A\" or \"B\"s.  Each of the 12 values represents\n",
    "    # one \"pairing\" where \"A\" <- ration A \"wins,\" \"B\" <- ration B \"wins.\".\n",
    "    wins <- sample(c('A', 'B'), replace=TRUE, size=12)\n",
    "    # Count the number of \"pairings\" where ration A won, put the result in\n",
    "    # \"n_a_wins\".\n",
    "    n_a_wins <- sum(wins == 'A')\n",
    "    # Keep track of the result in results.\n",
    "    results[i] <- n_a_wins\n",
    "    # End the trial, go back and repeat until all 10000 trials are complete.\n",
    "}\n",
    "# Determine how often we got 9 or more \"wins\" for ration A.\n",
    "high <- sum(results >= 9)\n",
    "# Determine how often we got 3 or fewer \"wins\" for ration A.\n",
    "low <- sum(results <= 3)\n",
    "# Add the two together\n",
    "k <- high + low\n",
    "#  Convert to a proportion\n",
    "kk <- k / n_iters\n",
    "# Print the result.\n",
    "message('Proportion >=9 or <=3: ', kk)"
   ]
  }
 ],
 "metadata": {
  "jupytext": {
   "cell_metadata_filter": "-all",
   "main_language": "R",
   "notebook_metadata_filter": "-all"
  },
  "kernelspec": {
   "display_name": "R (webR)",
   "name": "webR"
  }
 },
 "nbformat": 4,
 "nbformat_minor": 5
}
