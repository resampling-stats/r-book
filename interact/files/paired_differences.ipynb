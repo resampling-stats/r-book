{
 "cells": [
  {
   "cell_type": "markdown",
   "id": "065ac228",
   "metadata": {},
   "source": [
    "# Paired differences exercise\n"
   ]
  },
  {
   "cell_type": "code",
   "execution_count": null,
   "id": "c928a29f",
   "metadata": {},
   "outputs": [],
   "source": [
    "# Read data from web URL instead of local data directory\n",
    "# (so that notebook works in online version).\n",
    "df <- read.csv('https://resampling-stats.github.io/data/hamilton.csv')\n",
    "before <- df$score_before\n",
    "after <- df$score_after\n",
    "\n",
    "# Your code here."
   ]
  }
 ],
 "metadata": {
  "jupytext": {
   "cell_metadata_filter": "-all",
   "main_language": "R",
   "notebook_metadata_filter": "-all"
  },
  "kernelspec": {
   "display_name": "R (webR)",
   "name": "webR"
  }
 },
 "nbformat": 4,
 "nbformat_minor": 5
}
