{
 "cells": [
  {
   "cell_type": "markdown",
   "id": "a3935742",
   "metadata": {},
   "source": [
    "# Billie's Bill"
   ]
  },
  {
   "cell_type": "markdown",
   "id": "98346ee3",
   "metadata": {},
   "source": [
    "The text in this notebook section assumes you have opened the page as an\n",
    "interactive notebook on the web. In that case, you are running the\n",
    "notebook in a version of Jupyter. We will assume you are using Jupyter\n",
    "in the description that follows. You can also run R in Jupyter on your\n",
    "own computer, although we recommend that you use RStudio to work with R\n",
    "notebook files (see\n",
    "<a href=\"#sec-running-own-computer\" class=\"quarto-xref\"><span\n",
    "class=\"quarto-unresolved-ref\">sec-running-own-computer</span></a>). The\n",
    "procedure for working with notebooks in RStudio is not the same as that\n",
    "for Jupyter. We will cover RStudio, briefly, in another notebook\n",
    "tutorial after this one.\n",
    "\n",
    "A notebook can contain blocks of text — like this one — as well as code,\n",
    "and the results from running the code.\n",
    "\n",
    "Jupyter Notebooks are made up of *cells*.\n",
    "\n",
    "We assume you are running this notebook via the interactive web pages,\n",
    "and therefore, that you are running the notebook with Jupyter, not\n",
    "RStudio.\n",
    "\n",
    "RStudio differs a little from Jupyter, because it does not have the idea\n",
    "of a text “cell” — instead it distinguishes between the main body of the\n",
    "notebook, made up of text, and *code chunks* — delimited sections in the\n",
    "notebook that contain code, instead of text. Jupyter would refer to\n",
    "these code chunks as *code cells*. We will go into more detail in\n",
    "<a href=\"#sec-running-rstudio\" class=\"quarto-xref\"><span\n",
    "class=\"quarto-unresolved-ref\">sec-running-rstudio</span></a>.\n",
    "\n",
    "Jupyter cells can contain text or code.\n",
    "\n",
    "This is a cell with text — a text cell.\n",
    "\n",
    "Notebook text can have formatting, such as links.\n",
    "\n",
    "For example, this sentence ends with a link to the earlier [second\n",
    "edition of this\n",
    "book](https://resample.statistics.com/intro-text-online).\n",
    "\n",
    "If you are in the interactive notebook interface (rather than reading\n",
    "this in the textbook), you will see the Jupyter menu bar near the top of\n",
    "the page, with headings “File”, “Edit” and so on.\n",
    "\n",
    "In Jupyter, underneath the File … menu bar, by default, you may see a\n",
    "row of icons - the “Toolbar”.\n",
    "\n",
    "In the Jupyter toolbar, you may see icons to run the current cell, among\n",
    "others.\n",
    "\n",
    "To move from one cell to the next, you can click the run icon in the\n",
    "toolbar, but it is more efficient to press the Shift key, and press\n",
    "Enter (with Shift still held down). We will write this as\n",
    "Ctl/Cmd-Shift-Enter.\n",
    "\n",
    "In this, our first notebook, we will be using R to solve one of those\n",
    "difficult and troubling problems in life — working out the bill in a\n",
    "restaurant.\n",
    "\n",
    "## 4.3 The meal in question\n",
    "\n",
    "Alex and Billie are at a restaurant, getting ready to order. They do not\n",
    "have much money, so they are calculating the expected bill before they\n",
    "order.\n",
    "\n",
    "Alex is thinking of having the fish for £10.50, and Billie is leaning\n",
    "towards the chicken, at £9.25. First they calculate their combined bill.\n",
    "\n",
    "Below this text you see a *code* chunk. It contains the R code to\n",
    "calculate the total bill. Press Control-Shift-Enter or Cmd-Shift-Enter\n",
    "(on Mac) in the chunk below, to see the total.(Remember, this is what\n",
    "you should do when running the code in Jupyter, via the interactive web\n",
    "pages. If you are using RStudio on your own computer, you should use\n",
    "different commands — see\n",
    "<a href=\"#sec-running-rstudio\" class=\"quarto-xref\"><span\n",
    "class=\"quarto-unresolved-ref\">sec-running-rstudio</span></a>.)."
   ]
  },
  {
   "cell_type": "code",
   "execution_count": null,
   "id": "435d693e",
   "metadata": {},
   "outputs": [],
   "source": [
    "10.50 + 9.25"
   ]
  },
  {
   "cell_type": "markdown",
   "id": "81ff285f",
   "metadata": {},
   "source": [
    "The contents of the chunk above is R code. As you would predict, R\n",
    "understands numbers like `10.50`, and it understands `+` between the\n",
    "numbers as an instruction to add the numbers.\n",
    "\n",
    "When you press Ctl/Cmd-Shift-Enter, R finds `10.50`, realizes it is a\n",
    "number, and stores that number somewhere in memory. It does the same\n",
    "thing for `9.25`, and then it runs the *addition* operation on these two\n",
    "numbers in memory, which gives the number 19.75.\n",
    "\n",
    "Finally, R sends the resulting number (19.75) back to the notebook for\n",
    "display. The notebook detects that R sent back a value, and shows it to\n",
    "us.\n",
    "\n",
    "This is exactly what a calculator would do.\n",
    "\n",
    "## 4.4 Comments\n",
    "\n",
    "Unlike a calculator, we can also put notes next to our calculations, to\n",
    "remind us what they are for. One way of doing this is to use a\n",
    "“comment”. You have already seen comments in the previous chapter.\n",
    "\n",
    "A comment is some text that the computer will ignore. In R, you can make\n",
    "a comment by starting a line with the `#` (hash) character. For example,\n",
    "the next cell is a code cell, but when you run it, it does not show any\n",
    "result. In this case, that is because the computer sees the `#` at the\n",
    "beginning of the line, and then ignores the rest."
   ]
  },
  {
   "cell_type": "code",
   "execution_count": null,
   "id": "a3eae6e3",
   "metadata": {},
   "outputs": [],
   "source": [
    "# This bit of text is for us to read, and the computer to ignore."
   ]
  },
  {
   "cell_type": "markdown",
   "id": "e23f0758",
   "metadata": {},
   "source": [
    "Many of the code cells you see will have comments in them, to explain\n",
    "what the code is doing.\n",
    "\n",
    "Practice writing comments for your own code. It is a very good habit to\n",
    "get into. You will find that experienced programmers write many comments\n",
    "on their code. They do not do this to show off, but because they have a\n",
    "lot of experience in reading code, and they know that comments make it\n",
    "much easier to read and understand code.\n",
    "\n",
    "## 4.5 More calculations\n",
    "\n",
    "Let us continue with the struggle that Alex and Billie are having with\n",
    "their bill.\n",
    "\n",
    "They realize that they will also need to pay a tip.\n",
    "\n",
    "They think it would be reasonable to leave a 15% tip. Now they need to\n",
    "multiply their total bill by 0.15, to get the tip. The bill is about\n",
    "£20, so they know that the tip will be about £3.\n",
    "\n",
    "In R `*` means multiplication. This is the equivalent of the “×” key on\n",
    "a calculator.\n",
    "\n",
    "What about this, for the correct calculation?"
   ]
  },
  {
   "cell_type": "code",
   "execution_count": null,
   "id": "d0fb737c",
   "metadata": {},
   "outputs": [],
   "source": [
    "# The tip - with a nasty mistake.\n",
    "10.50 + 9.25 * 0.15"
   ]
  },
  {
   "cell_type": "markdown",
   "id": "3cc12f24",
   "metadata": {},
   "source": [
    "Oh dear, no, that isn’t doing the right calculation.\n",
    "\n",
    "R follows the normal rules of *precedence* with calculations. These\n",
    "rules tell us to do multiplication before addition.\n",
    "\n",
    "See <https://en.wikipedia.org/wiki/Order_of_operations> for more detail\n",
    "on the standard rules.\n",
    "\n",
    "In the case above the rules tell R to first calculate `9.25 * 0.15` (to\n",
    "get `1.3875`) and then to add the result to `10.50`, giving `11.8875`.\n",
    "\n",
    "We need to tell R we want it to do the *addition* and *then* the\n",
    "multiplication. We do this with round brackets (parentheses):\n",
    "\n",
    "**Note: Note 4.1: Three types of brackets in R**\n",
    "\n",
    "There are three types of brackets in R.\n",
    "\n",
    "These are:\n",
    "\n",
    "- *round brackets* or *parentheses*: `()`;\n",
    "- *square brackets*: `[]`;\n",
    "- *curly brackets*: `{}`.\n",
    "\n",
    "Each type of bracket has a different meaning in R. In the examples, play\n",
    "close to attention to the type of brackets we are using.\n",
    "\n",
    "**End of note**"
   ]
  },
  {
   "cell_type": "code",
   "execution_count": null,
   "id": "8bd18371",
   "metadata": {},
   "outputs": [],
   "source": [
    "# The bill plus tip - mistake fixed.\n",
    "(10.50 + 9.25) * 0.15"
   ]
  },
  {
   "cell_type": "markdown",
   "id": "b11efc74",
   "metadata": {},
   "source": [
    "The obvious next step is to calculate the bill *including the tip*."
   ]
  },
  {
   "cell_type": "code",
   "execution_count": null,
   "id": "1fe67d5c",
   "metadata": {},
   "outputs": [],
   "source": [
    "# The bill, including the tip\n",
    "10.50 + 9.25 + (10.50 + 9.25) * 0.15"
   ]
  },
  {
   "cell_type": "markdown",
   "id": "77e23f83",
   "metadata": {},
   "source": [
    "At this stage we start to feel that we are doing too much typing. Notice\n",
    "that we had to type out `10.50 + 9.25` twice there. That is a little\n",
    "boring, but it also makes it easier to make mistakes. The more we have\n",
    "to type, the greater the chance we have to make a mistake.\n",
    "\n",
    "## 4.6 Variables\n",
    "\n",
    "To make things simpler, we would like to be able to *store* the result\n",
    "of the calculation `10.50 + 9.25`, and then re-use this value, to\n",
    "calculate the tip.\n",
    "\n",
    "This is the role of *variables*. A *variable* is a value with a name.\n",
    "\n",
    "Here is a variable:"
   ]
  },
  {
   "cell_type": "code",
   "execution_count": null,
   "id": "0340d568",
   "metadata": {},
   "outputs": [],
   "source": [
    "# The cost of Alex's meal.\n",
    "a <- 10.50"
   ]
  },
  {
   "cell_type": "markdown",
   "id": "75fa2f04",
   "metadata": {},
   "source": [
    "`a` is a *name* we give to the value 10.50. You can read the line above\n",
    "as “The variable `a` *gets the value* 10.50”. We can also talk of\n",
    "*setting* the variable. Here we are *setting* `a` to equal 10.50.\n",
    "\n",
    "Now, when we use `a` in code, it refers to the value we gave it. For\n",
    "example, we can put `a` on a line on its own, and R will show us the\n",
    "*value* of `a`:"
   ]
  },
  {
   "cell_type": "code",
   "execution_count": null,
   "id": "f607f8c8",
   "metadata": {},
   "outputs": [],
   "source": [
    "# The value of a\n",
    "a"
   ]
  },
  {
   "cell_type": "markdown",
   "id": "0f4938bd",
   "metadata": {},
   "source": [
    "We did not have to use the name `a` — we can choose almost any name we\n",
    "like. For example, we could have chosen `alex_meal` instead:"
   ]
  },
  {
   "cell_type": "code",
   "execution_count": null,
   "id": "0df56b99",
   "metadata": {},
   "outputs": [],
   "source": [
    "# The cost of Alex's meal.\n",
    "# alex_meal gets the value 10.50\n",
    "alex_meal <- 10.50"
   ]
  },
  {
   "cell_type": "markdown",
   "id": "a98e5636",
   "metadata": {},
   "source": [
    "We often set variables like this, and then display the result, all in\n",
    "the same chunk. We do this by first setting the variable, as above, and\n",
    "then, on the final line of the chunk, we put the variable name on a line\n",
    "on its own, to ask R to show us the value of the variable. Here we set\n",
    "`billie_meal` to have the value 9.25, and then show the value of\n",
    "`billie_meal`, all in the same chunk."
   ]
  },
  {
   "cell_type": "code",
   "execution_count": null,
   "id": "f83ccaf5",
   "metadata": {},
   "outputs": [],
   "source": [
    "# The cost of Alex's meal.\n",
    "# billie_meal gets the value 10.50\n",
    "billie_meal <- 10.50\n",
    "# Show the value of billie_meal\n",
    "billie_meal"
   ]
  },
  {
   "cell_type": "markdown",
   "id": "66747614",
   "metadata": {},
   "source": [
    "Of course, here, we did not learn much, but we often set variable values\n",
    "with the results of a calculation. For example:"
   ]
  },
  {
   "cell_type": "code",
   "execution_count": null,
   "id": "cf3218b6",
   "metadata": {},
   "outputs": [],
   "source": [
    "# The cost of both meals, before tip.\n",
    "bill_before_tip <- 10.50 + 9.25\n",
    "# Show the value of both meals.\n",
    "bill_before_tip"
   ]
  },
  {
   "cell_type": "markdown",
   "id": "d223059e",
   "metadata": {},
   "source": [
    "But wait — we can do better than typing in the calculation like this. We\n",
    "can use the values of our variables, instead of typing in the values\n",
    "again."
   ]
  },
  {
   "cell_type": "code",
   "execution_count": null,
   "id": "f4d8683c",
   "metadata": {},
   "outputs": [],
   "source": [
    "# The cost of both meals, before tip, using variables.\n",
    "bill_before_tip <- alex_meal + billie_meal\n",
    "# Show the value of both meals.\n",
    "bill_before_tip"
   ]
  },
  {
   "cell_type": "markdown",
   "id": "c8955b26",
   "metadata": {},
   "source": [
    "We make the calculation clearer by writing the calculation this way — we\n",
    "are calculating the bill before the tip by adding the cost of Alex’s and\n",
    "Billie’s meal — and that’s what the code looks like. But this also\n",
    "allows us to *change* the variable value, and recalculate. For example,\n",
    "say Alex decided to go for the hummus plate, at £7.75. Now we can tell R\n",
    "that we want `alex_meal` to have the value 7.75 instead of 10.50:"
   ]
  },
  {
   "cell_type": "code",
   "execution_count": null,
   "id": "f9f53ce2",
   "metadata": {},
   "outputs": [],
   "source": [
    "# The new cost of Alex's meal.\n",
    "# alex_meal gets the value 7.75\n",
    "alex_meal = 7.75\n",
    "# Show the value of alex_meal\n",
    "alex_meal"
   ]
  },
  {
   "cell_type": "markdown",
   "id": "d988936b",
   "metadata": {},
   "source": [
    "Notice that `alex_meal` now has a new value. It was 10.50, but now it is\n",
    "7.75. We have *reset* the value of `alex_meal`. In order to use the new\n",
    "value for `alex_meal`, we must *recalculate* the bill before tip with\n",
    "*exactly the same code as before*:"
   ]
  },
  {
   "cell_type": "code",
   "execution_count": null,
   "id": "7eac7b7f",
   "metadata": {},
   "outputs": [],
   "source": [
    "# The new cost of both meals, before tip.\n",
    "bill_before_tip <- alex_meal + billie_meal\n",
    "# Show the value of both meals.\n",
    "bill_before_tip"
   ]
  },
  {
   "cell_type": "markdown",
   "id": "f86e7e77",
   "metadata": {},
   "source": [
    "Notice that, now we have rerun this calculation, we have *reset* the\n",
    "value for `bill_before_tip` to the correct value corresponding to the\n",
    "new value for `alex_meal`.\n",
    "\n",
    "All that remains is to recalculate the bill plus tip, using the new\n",
    "value for the variable:"
   ]
  },
  {
   "cell_type": "code",
   "execution_count": null,
   "id": "24fc3cb5",
   "metadata": {},
   "outputs": [],
   "source": [
    "# The cost of both meals, after tip.\n",
    "bill_after_tip = bill_before_tip + bill_before_tip * 0.15\n",
    "# Show the value of both meals, after tip.\n",
    "bill_after_tip"
   ]
  },
  {
   "cell_type": "markdown",
   "id": "c547f4c2",
   "metadata": {},
   "source": [
    "Now we are using variables with relevant names, the calculation looks\n",
    "right to our eye. The code expresses the calculation as we mean it: the\n",
    "bill after tip is equal to the bill before the tip, plus the bill before\n",
    "the tip times 0.15.\n",
    "\n",
    "## 4.7 And so, on\n",
    "\n",
    "Now you have done some practice with the notebook, and with variables,\n",
    "you are ready for a new problem in probability and statistics, in the\n",
    "next chapter."
   ]
  }
 ],
 "metadata": {
  "jupytext": {
   "cell_metadata_filter": "-all",
   "main_language": "R",
   "notebook_metadata_filter": "-all"
  },
  "kernelspec": {
   "display_name": "R (webR)",
   "name": "webR"
  }
 },
 "nbformat": 4,
 "nbformat_minor": 5
}
