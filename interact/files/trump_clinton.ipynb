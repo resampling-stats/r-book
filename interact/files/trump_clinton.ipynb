{
 "cells": [
  {
   "cell_type": "markdown",
   "id": "9f7fd80a",
   "metadata": {},
   "source": [
    "# Trump/Clinton poll simulation"
   ]
  },
  {
   "cell_type": "markdown",
   "id": "0c804c05",
   "metadata": {},
   "source": [
    "What is the probability that a sample outcome such as actually observed\n",
    "(840 Trump, 660 Clinton) would occur by chance if Clinton is “really”\n",
    "ahead — that is, if Clinton has 50 percent (or more) of the support? To\n",
    "restate in sharper statistical language: What is the probability that\n",
    "the observed sample or one even more favorable to Trump would occur if\n",
    "the universe has a mean of 50 percent or below?\n",
    "\n",
    "Here is a procedure that responds to that question:\n",
    "\n",
    "1.  Create a benchmark universe with one ball marked “Trump” and another\n",
    "    marked “Clinton”\n",
    "2.  Draw a ball, record its marking, and replace. (We sample with\n",
    "    replacement to simulate the practically-infinite population of U. S.\n",
    "    voters.)\n",
    "3.  Repeat step 2 1500 times and count the number of “Trump”s. If 840 or\n",
    "    greater, record “Y”; otherwise, record “N.”\n",
    "4.  Repeat steps 3 and 4 perhaps 1000 or 10,000 times, and count the\n",
    "    number of “Y”s. The outcome estimates the probability that 840 or\n",
    "    more Trump choices would occur if the universe is “really” half or\n",
    "    more in favor of Clinton.\n",
    "\n",
    "This procedure may be done as follows with R."
   ]
  },
  {
   "cell_type": "code",
   "execution_count": null,
   "id": "26541eae",
   "metadata": {},
   "outputs": [],
   "source": [
    "# Number of repeats we will run.\n",
    "n <- 10000\n",
    "\n",
    "# Make an array to store the counts.\n",
    "trumps <- numeric(n)\n",
    "\n",
    "for (i in 1:n) {\n",
    "    votes <- sample(c('Trump', 'Clinton'), size=1500, replace=TRUE)\n",
    "    trumps[i] <- sum(votes == 'Trump')\n",
    "}\n",
    "\n",
    "# Integer bins from 670 through 830 in steps of 5.\n",
    "hist(trumps, breaks=seq(670, 830, by=5),\n",
    "     main='Number of Trump voters of 1500 in null-world simulation')\n",
    "\n",
    "# How often >= 840 Trump votes in random draw?\n",
    "k <- sum(trumps >= 840)\n",
    "# As a proportion of simulated resamples.\n",
    "kk <- k / n\n",
    "\n",
    "message('Proportion voting for Trump: ', kk)"
   ]
  },
  {
   "cell_type": "markdown",
   "id": "c7cf50d1",
   "metadata": {},
   "source": [
    "The value for `kk` is our estimate of the probability that Trump’s\n",
    "“victory” in the sample would occur by chance if he really were behind.\n",
    "In this case, our probability estimate is less than 1 in 10,000 (\\<\n",
    "0.0001)."
   ]
  }
 ],
 "metadata": {
  "jupytext": {
   "cell_metadata_filter": "-all",
   "main_language": "R",
   "notebook_metadata_filter": "-all"
  },
  "kernelspec": {
   "display_name": "R (webR)",
   "name": "webR"
  }
 },
 "nbformat": 4,
 "nbformat_minor": 5
}
