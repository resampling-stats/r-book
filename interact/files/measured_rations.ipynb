{
 "cells": [
  {
   "cell_type": "markdown",
   "id": "73d0c512",
   "metadata": {},
   "source": [
    "# Pig rations via bootstrap"
   ]
  },
  {
   "cell_type": "markdown",
   "id": "6477ee00",
   "metadata": {},
   "source": [
    "Use the bootstrap (resampling with replacement) procedure to test\n",
    "whether the observed differences are surprising in the distribution of\n",
    "difference between new simulated samples.\n",
    "\n",
    "First we need to get the measured data from the data file using R:\n",
    "\n",
    "We load the file containing the data:"
   ]
  },
  {
   "cell_type": "code",
   "execution_count": null,
   "id": "e21a8155",
   "metadata": {},
   "outputs": [],
   "source": [
    "# Read the data file containing pig ration data.\n",
    "# Read data from web URL instead of local data directory\n",
    "# (so that notebook works in online version).\n",
    "rations_df <- read.csv('https://resampling-stats.github.io/data/pig_rations.csv')\n",
    "# Show the first 6 rows.\n",
    "head(rations_df)"
   ]
  },
  {
   "cell_type": "markdown",
   "id": "9c2737e1",
   "metadata": {},
   "source": [
    "Let us first select the rows containing data for ration B (we will get\n",
    "the rows for ration A afterwards):"
   ]
  },
  {
   "cell_type": "code",
   "execution_count": null,
   "id": "38178877",
   "metadata": {},
   "outputs": [],
   "source": [
    "# Select ration B rows.\n",
    "ration_b_df <- subset(rations_df, rations_df['ration'] == 'B')\n",
    "#  Show the first six rows.\n",
    "head(ration_b_df)"
   ]
  },
  {
   "cell_type": "markdown",
   "id": "85e7fbe5",
   "metadata": {},
   "source": [
    "Finally for ration B, convert the weights to a vector for use in the\n",
    "simulation."
   ]
  },
  {
   "cell_type": "code",
   "execution_count": null,
   "id": "ed4598cc",
   "metadata": {},
   "outputs": [],
   "source": [
    "b_weights <- ration_b_df$weight_gain\n",
    "# Show the result.\n",
    "b_weights"
   ]
  },
  {
   "cell_type": "markdown",
   "id": "50813114",
   "metadata": {},
   "source": [
    "Select ration A rows, and get the weights as a vector:"
   ]
  },
  {
   "cell_type": "code",
   "execution_count": null,
   "id": "be5a004d",
   "metadata": {},
   "outputs": [],
   "source": [
    "ration_a_df <- subset(rations_df, rations_df['ration'] == 'A')\n",
    "a_weights <- ration_a_df$weight_gain\n",
    "# Show the result.\n",
    "a_weights"
   ]
  },
  {
   "cell_type": "markdown",
   "id": "dc418767",
   "metadata": {},
   "source": [
    "We will use the `a_weights` and `b_weights` vectors for our simulation.\n",
    "We are going to shuffle these weights, so we first *concatenate* the two\n",
    "vectors (see <a href=\"#sec-concatenate\" class=\"quarto-xref\"><span\n",
    "class=\"quarto-unresolved-ref\">sec-concatenate</span></a>) so we can\n",
    "shuffle them:"
   ]
  },
  {
   "cell_type": "code",
   "execution_count": null,
   "id": "95774a3d",
   "metadata": {},
   "outputs": [],
   "source": [
    "both <- c(a_weights, b_weights)\n",
    "both"
   ]
  },
  {
   "cell_type": "markdown",
   "id": "5b740e4e",
   "metadata": {},
   "source": [
    "Now do the simulation:"
   ]
  },
  {
   "cell_type": "code",
   "execution_count": null,
   "id": "0c0f8d87",
   "metadata": {},
   "outputs": [],
   "source": [
    "# Set the number of trials\n",
    "n_trials <- 10000\n",
    "\n",
    "# An empty array to store the trial results.\n",
    "results <- numeric(n_trials)\n",
    "\n",
    "# Do 10,000 experiments.\n",
    "for (i in 1:n_trials) {\n",
    "    # Take a \"resample\" of 12 with replacement from both and put it in fake_a\n",
    "    fake_a <- sample(both, size=12, replace=TRUE)\n",
    "    # Likewise to make fake_b\n",
    "    fake_b <- sample(both, size=12, replace=TRUE)\n",
    "    # Sum the first \"resample.\"\n",
    "    fake_a_sum <- sum(fake_a)\n",
    "    # Sum the second \"resample.\"\n",
    "    fake_b_sum <- sum(fake_b)\n",
    "    # Calculate the difference between the two resamples.\n",
    "    fake_diff <- fake_a_sum - fake_b_sum\n",
    "    # Keep track of each trial result.\n",
    "    results[i] <- fake_diff\n",
    "    # End one experiment, go back and repeat until all trials are complete,\n",
    "    # then proceed.\n",
    "}\n",
    "# Produce a histogram of trial results.\n",
    "hist(results, breaks=25,\n",
    "      xlab='Second resample minus first',\n",
    "      main='Distribution difference in sums of resamples')"
   ]
  },
  {
   "cell_type": "markdown",
   "id": "c5122974",
   "metadata": {},
   "source": [
    "From this histogram we see that a very small proportion of the trials\n",
    "produced a difference between groups as large as that observed (or\n",
    "larger). R will calculate this for us with the following code:"
   ]
  },
  {
   "cell_type": "code",
   "execution_count": null,
   "id": "b414e9e6",
   "metadata": {},
   "outputs": [],
   "source": [
    "# Determine how many of the trials produced a difference between resamples.\n",
    "count_more <- sum(results >= 38)\n",
    "# Likewise for a difference of -38.\n",
    "count_less <- sum(results <= -38)\n",
    "# Add the two together.\n",
    "k = count_more + count_less\n",
    "# Divide by number of trials to convert to proportion.\n",
    "kk = k / n_trials\n",
    "# Print the result.\n",
    "message('Proportion of trials with either >=38 or <=-38: ', kk)"
   ]
  }
 ],
 "metadata": {
  "jupytext": {
   "cell_metadata_filter": "-all",
   "main_language": "R",
   "notebook_metadata_filter": "-all"
  },
  "kernelspec": {
   "display_name": "R (webR)",
   "name": "webR"
  }
 },
 "nbformat": 4,
 "nbformat_minor": 5
}
