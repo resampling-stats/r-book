{
 "cells": [
  {
   "cell_type": "markdown",
   "id": "e83ff0aa",
   "metadata": {},
   "source": [
    "# Homeruns and strikeout sum of products."
   ]
  },
  {
   "cell_type": "markdown",
   "id": "d1606a20",
   "metadata": {},
   "source": [
    "Solution to exercise on relationship of home runs and strikeouts, using\n",
    "sum of products."
   ]
  },
  {
   "cell_type": "code",
   "execution_count": null,
   "id": "ce49cf1c",
   "metadata": {},
   "outputs": [],
   "source": [
    "homeruns <- c(14, 20, 0, 38, 9, 38, 22, 31, 33,\n",
    "              11, 40, 5, 15, 32, 3, 29, 5, 32)\n",
    "strikeout <- c(135, 153, 120, 161, 138, 175, 126, 200, 205,\n",
    "               147, 165, 124, 169, 156, 36, 98, 82, 131)"
   ]
  },
  {
   "cell_type": "code",
   "execution_count": null,
   "id": "e713e744",
   "metadata": {},
   "outputs": [],
   "source": [
    "# The sum of products approach.\n",
    "actual_sop <- sum(homeruns * strikeout)\n",
    "\n",
    "n_trials <- 10000\n",
    "results <- numeric(n_trials)\n",
    "\n",
    "for (i in 1:n_trials) {\n",
    "    shuffled_runs <- sample(homeruns)\n",
    "    fake_sop <- sum(shuffled_runs * strikeout)\n",
    "    results[i] <- fake_sop\n",
    "}\n",
    "\n",
    "hist(results, breaks=25,\n",
    "     main='Distribution of shuffled sum of products',\n",
    "     xlab='Sum of products for shuffled homeruns')\n",
    "\n",
    "k <- sum(results >= actual_sop)\n",
    "kk <- k / n_trials\n",
    "\n",
    "message('p shuffled sum of products >= actual: ', round(kk, 3))"
   ]
  },
  {
   "cell_type": "markdown",
   "id": "17d1e598",
   "metadata": {},
   "source": [
    "Interpretation: In 10,000 simulations, random shuffling very rarely\n",
    "produced a value as high as observed. Therefore, we conclude that random\n",
    "chance could not reasonably be responsible for the observed degree of\n",
    "correlation."
   ]
  }
 ],
 "metadata": {
  "jupytext": {
   "cell_metadata_filter": "-all",
   "main_language": "R",
   "notebook_metadata_filter": "-all"
  },
  "kernelspec": {
   "display_name": "R (webR)",
   "name": "webR"
  }
 },
 "nbformat": 4,
 "nbformat_minor": 5
}
