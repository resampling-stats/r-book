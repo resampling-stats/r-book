{
 "cells": [
  {
   "cell_type": "markdown",
   "id": "5afa9e3d",
   "metadata": {},
   "source": [
    "# Twenty executives, two divisions"
   ]
  },
  {
   "cell_type": "markdown",
   "id": "175b6fd3",
   "metadata": {},
   "source": [
    "The top manager wants to spread the talent reasonably evenly, but she\n",
    "does not want to label particular executives with a quality rating and\n",
    "therefore considers distributing them with a random selection. She\n",
    "therefore wonders: What are probabilities of the best ten among the\n",
    "twenty being split among the divisions in the ratios 5 and 5, 4 and 6, 3\n",
    "and 7, etc., if their names are drawn from a hat? One might imagine much\n",
    "the same sort of problem in choosing two teams for a football or\n",
    "baseball contest.\n",
    "\n",
    "One may proceed as follows:\n",
    "\n",
    "1.  Put 10 balls labeled “W” (for “worst”) and 10 balls labeled “B”\n",
    "    (best) in a bucket.\n",
    "2.  Draw 10 balls without replacement and count the W’s.\n",
    "3.  Repeat (say) 400 times.\n",
    "4.  Count the number of times each split — 5 W’s and 5 B’s, 4 and 6,\n",
    "    etc. — appears in the results.\n",
    "\n",
    "The problem can be done with R as follows:"
   ]
  },
  {
   "cell_type": "code",
   "execution_count": null,
   "id": "06ea259e",
   "metadata": {},
   "outputs": [],
   "source": [
    "N <- 10000\n",
    "trial_results <- numeric(N)\n",
    "\n",
    "managers <- rep(c('Worst', 'Best'), c(10, 10))\n",
    "\n",
    "for (i in 1:N) {\n",
    "    chosen <- sample(managers, 10)  # replace=FALSE is the default.\n",
    "    trial_results[i] <- sum(chosen == 'Best')\n",
    "}\n",
    "\n",
    "hist(trial_results, breaks=0:max(trial_results),\n",
    "     main= 'Number of best managers chosen')"
   ]
  }
 ],
 "metadata": {
  "jupytext": {
   "cell_metadata_filter": "-all",
   "main_language": "R",
   "notebook_metadata_filter": "-all"
  },
  "kernelspec": {
   "display_name": "R (webR)",
   "name": "webR"
  }
 },
 "nbformat": 4,
 "nbformat_minor": 5
}
