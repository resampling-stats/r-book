{
 "cells": [
  {
   "cell_type": "markdown",
   "id": "b473d9fa",
   "metadata": {},
   "source": [
    "# A problem of black and brown mice"
   ]
  },
  {
   "cell_type": "markdown",
   "id": "5a0f026e",
   "metadata": {},
   "source": [
    "Solve the Box and Tao problem of parental probabilities for black and\n",
    "brown mice. See the text for full explanation."
   ]
  },
  {
   "cell_type": "code",
   "execution_count": null,
   "id": "a1463827",
   "metadata": {},
   "outputs": [],
   "source": [
    "n_trials <- 100000\n",
    "\n",
    "# Make a vector to store results for each trial.\n",
    "# The results are strings, so use \"character\" type.\n",
    "# Many of these we will not set, for example, for brown mice (see below).\n",
    "parents <- character(n_trials)\n",
    "\n",
    "for (i in 1:n_trials) {\n",
    "    test_mouse <- sample(c('BB', 'Bb', 'bb'),\n",
    "                         size=1,\n",
    "                         prob=c(0.25, 0.5, 0.25))\n",
    "\n",
    "    # The test mouse is black; since we drew a brown mouse skip this trial.\n",
    "    if (test_mouse == 'bb') {\n",
    "        # \"mext\" has the effect of aborting this iteration of the loop\n",
    "        # and going back to start the next iteration.  If the code gets\n",
    "        # to \"next\", none of the rest of the loop (within the curly brackets\n",
    "        # code  will run.\n",
    "        next\n",
    "    }\n",
    "\n",
    "    # If the test mouse is 'BB', all 7 children are guaranteed to\n",
    "    # be 'Bb' black.\n",
    "    # Therefore, add 'BB' to the parent list.\n",
    "    if (test_mouse == 'BB') {\n",
    "        parents[i] <- 'BB'\n",
    "    }\n",
    "\n",
    "    # If the parent mouse is 'Bb', we draw 7 children to\n",
    "    # see whether all of them are black ('Bb').\n",
    "    # The probabilities come from the middle row of the table.\n",
    "    if (test_mouse == 'Bb') {\n",
    "        children <- sample(c('Bb', 'bb'),\n",
    "                            size=7,\n",
    "                            replace=TRUE,\n",
    "                            prob=c(0.5, 0.5))\n",
    "        if (all(children == 'Bb')) {\n",
    "            parents[i] <- 'Bb'\n",
    "        }\n",
    "    }\n",
    "}\n",
    "\n",
    "# Now, count how many parents were 'BB' vs 'Bb'\n",
    "n_parents_BB <- sum(parents == 'BB')\n",
    "n_parents_Bb <- sum(parents == 'Bb')\n",
    "n_B <- n_parents_BB + n_parents_Bb\n",
    "\n",
    "p_BB <- n_parents_BB / n_B\n",
    "p_Bb <- n_parents_Bb / n_B\n",
    "\n",
    "message('p_BB = ', round(p_BB, 3))"
   ]
  },
  {
   "cell_type": "code",
   "execution_count": null,
   "id": "45de79cb",
   "metadata": {},
   "outputs": [],
   "source": [
    "message('p_Bb = ', round(p_Bb, 3))"
   ]
  },
  {
   "cell_type": "code",
   "execution_count": null,
   "id": "17afae19",
   "metadata": {},
   "outputs": [],
   "source": [
    "message('Ratio = ', round(p_BB / p_Bb, 1))"
   ]
  },
  {
   "cell_type": "markdown",
   "id": "cf380846",
   "metadata": {},
   "source": [
    "We see that all the offspring being black considerably changes the\n",
    "situation! We started with the odds being 2:1 in favor of Bb vs BB. The\n",
    "“posterior” or “after the evidence” ratio is closer to 64:1 in favor of\n",
    "*BB*! (1973, pp. 12-14)\n",
    "\n",
    "Let’s tune the code a bit to run faster. Instead of doing the trials one\n",
    "mouse at a time, we will do the whole bunch together.\n",
    "\n",
    "To do this, we will use matrices.\n",
    "\n",
    "So far, we have used one-dimensional *vectors* in R. A vector is a\n",
    "sequence of values. Let us generate a vector with `sample`, as we have\n",
    "many times in this book, and in this chapter."
   ]
  },
  {
   "cell_type": "code",
   "execution_count": null,
   "id": "5bf7e1eb",
   "metadata": {},
   "outputs": [],
   "source": [
    "# A vector with five elements.\n",
    "a_vector <- sample(c(1, 2), size=5, replace=TRUE)\n",
    "a_vector"
   ]
  },
  {
   "cell_type": "markdown",
   "id": "3b3cda35",
   "metadata": {},
   "source": [
    "However, we can also generate *matrices* in R. Matrices have two\n",
    "dimensions; it has rows and columns, much like a data frame. Here is a\n",
    "matrix we create with `sample`, by first making a vector, and then\n",
    "reshaping the vector into a matrix."
   ]
  },
  {
   "cell_type": "code",
   "execution_count": null,
   "id": "f4656982",
   "metadata": {},
   "outputs": [],
   "source": [
    "# A vector with 15 values.\n",
    "another_vector <- sample(c(1, 2), size=15, replace=TRUE)\n",
    "# A matrix with five rows and three columns.\n",
    "a_matrix <- matrix(another_vector, ncol=3)\n",
    "a_matrix"
   ]
  },
  {
   "cell_type": "markdown",
   "id": "3f9f6f9b",
   "metadata": {},
   "source": [
    "As usual, we can apply Boolean comparison operations to this matrix, to\n",
    "get a Boolean matrix:"
   ]
  },
  {
   "cell_type": "code",
   "execution_count": null,
   "id": "4250d7ad",
   "metadata": {},
   "outputs": [],
   "source": [
    "is_2 <- a_matrix == 2\n",
    "is_2"
   ]
  },
  {
   "cell_type": "markdown",
   "id": "b2cfeb8c",
   "metadata": {},
   "source": [
    "R has functions to operate over rows and columns of a matrix. In\n",
    "particular, is has a function `rowSums` that gives the sum of values in\n",
    "the row (and therefore, the sum over the columns, for each row). For\n",
    "example, to see how many of the values in each row are equal to 2, we\n",
    "can do:"
   ]
  },
  {
   "cell_type": "code",
   "execution_count": null,
   "id": "4cdcf37c",
   "metadata": {},
   "outputs": [],
   "source": [
    "n_2s_in_rows <- rowSums(is_2)\n",
    "n_2s_in_rows"
   ]
  },
  {
   "cell_type": "markdown",
   "id": "32ad753c",
   "metadata": {},
   "source": [
    "Notice that we get one answer for each row, where the answer is the\n",
    "`sum` across the columns, for that row."
   ]
  },
  {
   "cell_type": "code",
   "execution_count": null,
   "id": "e04803bc",
   "metadata": {},
   "outputs": [],
   "source": [
    "n_trials <- 1000000\n",
    "\n",
    "# In n_trials trials, pair two Bb mice and generate a child.\n",
    "test_mice <- sample(c('BB', 'Bb', 'bb'),\n",
    "                    size=n_trials,\n",
    "                    replace=TRUE,\n",
    "                    prob=c(0.25, 0.5, 0.25))\n",
    "\n",
    "# The resulting test mouse is black, so filter out all brown ones.\n",
    "test_mice <- test_mice[test_mice != 'bb']\n",
    "n_test_mice <- length(test_mice)\n",
    "\n",
    "# Each test mouse will now be mated with a brown mouse, producing 7 offspring.\n",
    "# We then store whether all the offspring were black or not.\n",
    "all_offspring_black <- logical(n_test_mice)\n",
    "\n",
    "# If a test mouse is 'BB', we are assured that all its offspring\n",
    "# will be black.\n",
    "all_offspring_black[test_mice == 'BB'] <- TRUE\n",
    "\n",
    "# If a test mouse is 'Bb', we have to generate its offspring and\n",
    "# see whether they are all black or not\n",
    "test_mice_Bb <- (test_mice == 'Bb')\n",
    "n_test_mice_Bb <- sum(test_mice_Bb)\n",
    "\n",
    "# Generate all offspring of all 'Bb' test mice\n",
    "# This gives 7 children for each Bb mouse.\n",
    "offspring <- sample(c('Bb', 'bb'),\n",
    "                    size=n_test_mice_Bb * 7,\n",
    "                    replace=TRUE,\n",
    "                    prob=c(0.5, 0.5))\n",
    "# This gives a 2-dimensional matrix, with one row per Bb mouse,\n",
    "# and 7 columns, one for each child.\n",
    "offspring_mat = matrix(offspring, ncol=7)\n",
    "# Check whether all 7 children (columns) are Bb, for each row.\n",
    "all_offspring_black[test_mice_Bb] <- rowSums(offspring_mat == 'Bb') == 7\n",
    "\n",
    "# Find the genetic types of the parents of all-black offspring.\n",
    "parents <- test_mice[all_offspring_black]\n",
    "\n",
    "# Calculate what fraction of parents were 'BB' vs 'Bb'.\n",
    "parents_BB <- (parents == 'BB')\n",
    "parents_Bb <- (parents == 'Bb')\n",
    "n_B <- sum(all_offspring_black)\n",
    "\n",
    "p_BB <- sum(parents_BB) / n_B\n",
    "p_Bb <- sum(parents_Bb) / n_B\n",
    "\n",
    "message('p_BB = ', round(p_BB, 3))"
   ]
  },
  {
   "cell_type": "code",
   "execution_count": null,
   "id": "7b299f6e",
   "metadata": {},
   "outputs": [],
   "source": [
    "message('p_Bb = ', round(p_Bb, 3))"
   ]
  },
  {
   "cell_type": "code",
   "execution_count": null,
   "id": "86b37a7c",
   "metadata": {},
   "outputs": [],
   "source": [
    "message('Ratio = ', round(p_BB / p_Bb, 1))"
   ]
  },
  {
   "cell_type": "markdown",
   "id": "96a5543a",
   "metadata": {},
   "source": [
    "This yields a similar result, but in much shorter time — which means we\n",
    "can increase the number of trials and get a more accurate result."
   ]
  }
 ],
 "metadata": {
  "jupytext": {
   "cell_metadata_filter": "-all",
   "main_language": "R",
   "notebook_metadata_filter": "-all"
  },
  "kernelspec": {
   "display_name": "R (webR)",
   "name": "webR"
  }
 },
 "nbformat": 4,
 "nbformat_minor": 5
}
