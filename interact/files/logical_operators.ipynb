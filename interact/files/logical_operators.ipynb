{
 "cells": [
  {
   "cell_type": "markdown",
   "id": "20631577",
   "metadata": {},
   "source": [
    "# Logical operators"
   ]
  },
  {
   "cell_type": "markdown",
   "id": "b5018a4f",
   "metadata": {},
   "source": [
    "This section continues our programme of expanding the range of R\n",
    "features that you can use to clear code. As we introduce each feature,\n",
    "we will use them in the following examples.\n",
    "\n",
    "As motivation, we are about to do some simulations where we are\n",
    "interested in the number of some particular type of observations in each\n",
    "trial. For example, let’s do 10 coin tosses with `sample`:"
   ]
  },
  {
   "cell_type": "code",
   "execution_count": null,
   "id": "10bdd089",
   "metadata": {},
   "outputs": [],
   "source": [
    "# For each element, heads of tails is equally likely.\n",
    "coins <- sample(c('heads', 'tails'), size=10, replace=TRUE)\n",
    "coins"
   ]
  },
  {
   "cell_type": "markdown",
   "id": "faa34565",
   "metadata": {},
   "source": [
    "Let us now say that we are interested to record if the trial had\n",
    "*either* 2 or fewer “heads” *or* two or fewer “tails”.\n",
    "\n",
    "We could write it like this:"
   ]
  },
  {
   "cell_type": "code",
   "execution_count": null,
   "id": "71ed07b1",
   "metadata": {},
   "outputs": [],
   "source": [
    "if (sum(coins == 'heads') <= 2) {\n",
    "    message('Trial is of interest')\n",
    "}"
   ]
  },
  {
   "cell_type": "code",
   "execution_count": null,
   "id": "5dcb6f0f",
   "metadata": {},
   "outputs": [],
   "source": [
    "if (sum(coins == 'tails') <= 2) {\n",
    "    message('Trial is of interest')\n",
    "}"
   ]
  },
  {
   "cell_type": "markdown",
   "id": "271bb347",
   "metadata": {},
   "source": [
    "It is a little repetitive to have to repeat the code identical code to\n",
    "print the same message for either of the two cases, and it would be even\n",
    "more repetitive if there were more lines of identical code to run for\n",
    "each of the two cases.\n",
    "\n",
    "R solves this problem with the `|` (*or*) operator, like this:"
   ]
  },
  {
   "cell_type": "code",
   "execution_count": null,
   "id": "f0af2c2e",
   "metadata": {},
   "outputs": [],
   "source": [
    "if (sum(coins == 'heads') <= 2 | sum(coins == 'tails') <= 2) {\n",
    "    message('Trial is of interest')\n",
    "}"
   ]
  },
  {
   "cell_type": "markdown",
   "id": "954c660d",
   "metadata": {},
   "source": [
    "**Note: Note 23.1: What is an operator?**\n",
    "\n",
    "Above, we called `|` an *operator*. An operator, for our purposes, is a\n",
    "special character that sits between two values, and that tells R how to\n",
    "combine these values.\n",
    "\n",
    "For example `+` is an operator. When `+` sits between two numbers in\n",
    "code, R interprets this to mean “take the two numbers on either side,\n",
    "and make a new number that is the result of adding the two numbers”:"
   ]
  },
  {
   "cell_type": "code",
   "execution_count": null,
   "id": "6d117b92",
   "metadata": {},
   "outputs": [],
   "source": [
    "# + is an operator that, between two numbers, means \"add the numbers\".\n",
    "1 + 3"
   ]
  },
  {
   "cell_type": "markdown",
   "id": "7338dccf",
   "metadata": {},
   "source": [
    "`+`, `-`, `/` and `*` are all examples of operators that do *arithmetic*\n",
    "on the numbers to either side — they are *arithmetic* operators."
   ]
  },
  {
   "cell_type": "code",
   "execution_count": null,
   "id": "6562e70e",
   "metadata": {},
   "outputs": [],
   "source": [
    "# * is an operator that, between two numbers, means \"multiply the numbers\".\n",
    "2 * 4"
   ]
  },
  {
   "cell_type": "markdown",
   "id": "c81a6eae",
   "metadata": {},
   "source": [
    "**End of note**\n"
   ]
  },
  {
   "cell_type": "markdown",
   "id": "ac1ae1ab",
   "metadata": {},
   "source": [
    "We are about to use the operator `|` (*or*). `|` is a *logical*\n",
    "operator. It is a logical operator because it does not operate on\n",
    "*numbers* (as arithmetic operators do), but on *logical* (*Boolean*)\n",
    "values — values that can be either `TRUE` or `FALSE`.\n",
    "\n",
    "For example, here we use `|` (*or*). to combine a `TRUE` value (on the\n",
    "left) with a `FALSE` value (on the right). It gives a result — `TRUE`."
   ]
  },
  {
   "cell_type": "code",
   "execution_count": null,
   "id": "23317ef2",
   "metadata": {},
   "outputs": [],
   "source": [
    "# Read \"|\" here as \"or\".\n",
    "TRUE | FALSE"
   ]
  },
  {
   "cell_type": "markdown",
   "id": "8b59c237",
   "metadata": {},
   "source": [
    "`|` (*or*) applies a very simple rule: if *either* the left-hand (LH)\n",
    "*or* the right-hand (RH) values are `TRUE`, then `|` (*or*) evaluates to\n",
    "`TRUE`. Only if *neither* of the LH and RH values are `TRUE`, does it\n",
    "return `FALSE`."
   ]
  },
  {
   "cell_type": "code",
   "execution_count": null,
   "id": "0838fc2c",
   "metadata": {},
   "outputs": [],
   "source": [
    "# Both LH and RH are TRUE, return TRUE.\n",
    "message('TRUE | (or) TRUE result: ', TRUE | TRUE)"
   ]
  },
  {
   "cell_type": "code",
   "execution_count": null,
   "id": "a62a831d",
   "metadata": {},
   "outputs": [],
   "source": [
    "# Only LH is TRUE, return TRUE.\n",
    "message('TRUE | (or) FALSE result: ', TRUE | FALSE)"
   ]
  },
  {
   "cell_type": "code",
   "execution_count": null,
   "id": "1975bd74",
   "metadata": {},
   "outputs": [],
   "source": [
    "# Only RH is TRUE, return TRUE.\n",
    "message('FALSE | (or) TRUE result: ', FALSE | TRUE)"
   ]
  },
  {
   "cell_type": "code",
   "execution_count": null,
   "id": "df475867",
   "metadata": {},
   "outputs": [],
   "source": [
    "# Neither LH nor RH are TRUE, return FALSE.\n",
    "message('FALSE | (or) FALSE result: ', FALSE | FALSE)"
   ]
  },
  {
   "cell_type": "markdown",
   "id": "6952809d",
   "metadata": {},
   "source": [
    "Now let’s go back to the `if` statement above. The conditional part of\n",
    "the header line is:"
   ]
  },
  {
   "cell_type": "code",
   "execution_count": null,
   "id": "10f2e980",
   "metadata": {},
   "outputs": [],
   "source": [
    "sum(coins == 'heads') <=2 | sum(coins == 'tails') <= 2"
   ]
  },
  {
   "cell_type": "markdown",
   "id": "f3f376c0",
   "metadata": {},
   "source": [
    "This will be `TRUE` *either* when there there are two or fewer “heads”,\n",
    "*or* when there are two or fewer tails. Therefore, when we use this\n",
    "conditional in an `if` statement, we make the *body* of the `if`\n",
    "statement run only if either of the two conditions are `TRUE`."
   ]
  },
  {
   "cell_type": "code",
   "execution_count": null,
   "id": "80a346c8",
   "metadata": {},
   "outputs": [],
   "source": [
    "if (sum(coins == 'heads') <= 2 | sum(coins == 'tails') <= 2) {\n",
    "    message('Trial is of interest')\n",
    "}"
   ]
  },
  {
   "cell_type": "markdown",
   "id": "24fc662b",
   "metadata": {},
   "source": [
    "While we are here, R has another very useful logical operator: ‘&’\n",
    "(*and*).\n",
    "\n",
    "‘&’ takes the LH and RH values, and returns `TRUE` only if *both* values\n",
    "are `TRUE`."
   ]
  },
  {
   "cell_type": "code",
   "execution_count": null,
   "id": "3187fe3d",
   "metadata": {},
   "outputs": [],
   "source": [
    "# Both LH and RH are TRUE, return TRUE.\n",
    "message('TRUE & (and) TRUE result: ', TRUE & TRUE)"
   ]
  },
  {
   "cell_type": "code",
   "execution_count": null,
   "id": "79b50a6f",
   "metadata": {},
   "outputs": [],
   "source": [
    "# Only LH is TRUE, return FALSE.\n",
    "message('TRUE & (and) FALSE result: ', TRUE & FALSE)"
   ]
  },
  {
   "cell_type": "code",
   "execution_count": null,
   "id": "1a445b7b",
   "metadata": {},
   "outputs": [],
   "source": [
    "# Only RH is TRUE, return FALSE.\n",
    "message('FALSE & (and) TRUE result: ', FALSE & TRUE)"
   ]
  },
  {
   "cell_type": "code",
   "execution_count": null,
   "id": "c82ac24c",
   "metadata": {},
   "outputs": [],
   "source": [
    "# Neither LH nor RH are TRUE, return FALSE.\n",
    "message('FALSE & (and) FALSE result: ', FALSE & FALSE)"
   ]
  },
  {
   "cell_type": "markdown",
   "id": "2e90fde1",
   "metadata": {},
   "source": [
    "We could, for example, ask whether the number of heads is \\>=3 *and*\n",
    "\\<=7 (is in the range 3 through 7)."
   ]
  },
  {
   "cell_type": "code",
   "execution_count": null,
   "id": "0db82dfa",
   "metadata": {
    "lines_to_next_cell": 0
   },
   "outputs": [],
   "source": [
    "if (sum(coins == 'heads') <= 3 | sum(coins == 'heads') <= 7) {\n",
    "    message('Trial is of interest')\n",
    "}"
   ]
  },
  {
   "cell_type": "markdown",
   "id": "4e9a1a79",
   "metadata": {},
   "source": []
  }
 ],
 "metadata": {
  "jupytext": {
   "cell_metadata_filter": "-all",
   "main_language": "R",
   "notebook_metadata_filter": "-all"
  },
  "kernelspec": {
   "display_name": "R (webR)",
   "name": "webR"
  }
 },
 "nbformat": 4,
 "nbformat_minor": 5
}
