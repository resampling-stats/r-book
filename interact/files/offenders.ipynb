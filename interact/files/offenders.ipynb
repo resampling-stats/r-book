{
 "cells": [
  {
   "cell_type": "markdown",
   "id": "9d248ae4",
   "metadata": {},
   "source": [
    "# Simulation of offender strategies"
   ]
  },
  {
   "cell_type": "markdown",
   "id": "6a2f7068",
   "metadata": {},
   "source": [
    "This notebook uses simulation to test the null hypothesis that the four\n",
    "treatments in question were each equally effective."
   ]
  },
  {
   "cell_type": "code",
   "execution_count": null,
   "id": "85a3c77e",
   "metadata": {},
   "outputs": [],
   "source": [
    "# Set the number of trials\n",
    "n_trials <- 10000\n",
    "\n",
    "# Set the sample size for each trial\n",
    "sample_size <- 20\n",
    "\n",
    "# An empty array to store the trials\n",
    "scores <- numeric(n_trials)\n",
    "\n",
    "# Do 10000 trials\n",
    "for (i in 1:n_trials) {\n",
    "    # The first treatment group\n",
    "    a <- sample(c('success', 'failure'),\n",
    "                size=sample_size,\n",
    "                prob=c(0.55, 0.45),\n",
    "                replace=TRUE)\n",
    "    # Count successes.\n",
    "    a_count <- sum(a == 'success')\n",
    "    # Second, third and fourth treatment groups, and successes.\n",
    "    b <- sample(c('success', 'failure'),\n",
    "                size=sample_size,\n",
    "                prob=c(0.55, 0.45),\n",
    "                replace=TRUE)\n",
    "    b_count <- sum(b == 'success')\n",
    "    c <- sample(c('success', 'failure'),\n",
    "                size=sample_size,\n",
    "                prob=c(0.55, 0.45),\n",
    "                replace=TRUE)\n",
    "    c_count <- sum(c == 'success')\n",
    "    d <- sample(c('success', 'failure'),\n",
    "                size=sample_size,\n",
    "                prob=c(0.55, 0.45),\n",
    "                replace=TRUE)\n",
    "    d_count <- sum(d == 'success')\n",
    "\n",
    "    # Now find all the pairwise differences in successes among the groups.\n",
    "    a_minus_b <- a_count - b_count\n",
    "    a_minus_c <- a_count - c_count\n",
    "    a_minus_d <- a_count - d_count\n",
    "    b_minus_c <- b_count - c_count\n",
    "    b_minus_d <- b_count - d_count\n",
    "    c_minus_d <- c_count - d_count\n",
    "\n",
    "    # Concatenate, or join, all the differences in a single array \"diffs\".\n",
    "    diffs <- c(a_minus_b, a_minus_c, a_minus_d,\n",
    "               b_minus_c, b_minus_d, c_minus_d)\n",
    "    # Since we are interested only in the magnitude of the difference, not its\n",
    "    # direction, we take the absolute value of all the differences (we remove\n",
    "    # any minus signs, making all values positive).\n",
    "    abs_diffs <- abs(diffs)\n",
    "    # Find the largest of all the differences\n",
    "    max_abs_diff <- max(abs_diffs)\n",
    "    # Keep score of the largest\n",
    "    scores[i] <- max_abs_diff\n",
    "\n",
    "    # End a trial, go back and repeat until all 10000 are complete.\n",
    "}\n",
    "\n",
    "# How many of the trials yielded a maximum difference greater than the\n",
    "# observed maximum difference?\n",
    "k <- sum(scores >= 10)\n",
    "# Convert to a proportion\n",
    "kk <- k / n_trials\n",
    "\n",
    "message('Proportion >= 10 was: ', kk)"
   ]
  }
 ],
 "metadata": {
  "jupytext": {
   "cell_metadata_filter": "-all",
   "main_language": "R",
   "notebook_metadata_filter": "-all"
  },
  "kernelspec": {
   "display_name": "R (webR)",
   "name": "webR"
  }
 },
 "nbformat": 4,
 "nbformat_minor": 5
}
