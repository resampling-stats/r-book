{
 "cells": [
  {
   "cell_type": "markdown",
   "id": "b50e3b56",
   "metadata": {},
   "source": [
    "# Fruit fly simulation of four groups"
   ]
  },
  {
   "cell_type": "markdown",
   "id": "7b7ea59c",
   "metadata": {},
   "source": [
    "This notebook uses simulation to test whether a result of 14 or more\n",
    "males, or 14 or more females, can frequently arise by chance, if we look\n",
    "at four groups at a time, in one trial.\n",
    "\n",
    "A key point of the notebook here is that each trial consists of *four\n",
    "groups* of 20 randomly generated hypothetical fruit flies. And if we\n",
    "consider 10,000 trials, we will be examining 40,000 sets of 20 fruit\n",
    "flies.\n",
    "\n",
    "In each trial we generate 4 random samples (groups) of 20 fruit flies,\n",
    "and for each, we count the number of males (“males”s) and then check\n",
    "whether that group has more than 13 of either sex (actually, more than\n",
    "13 “males”s or less than 7 “males”). If it does, then we change a\n",
    "variable called `unusual` to 1, which informs us that for this sample,\n",
    "at least 1 group of 20 fruit flies had results as unusual as the results\n",
    "from the fruit flies exposed to the four treatments.\n",
    "\n",
    "After the 10,000 runs are made, we count the number of trials where one\n",
    "sample had a group of fruit flies with 14 or more of either sex, and\n",
    "show the results."
   ]
  },
  {
   "cell_type": "code",
   "execution_count": null,
   "id": "979daf5a",
   "metadata": {},
   "outputs": [],
   "source": [
    "n_iters <- 10000\n",
    "\n",
    "# Make vector to store results for each trial.\n",
    "results <- numeric(n_iters)\n",
    "\n",
    "for (i in 1:n_iters) {\n",
    "    # unusual indicates whether we have obtained any trial group with more\n",
    "    # than 13 of either sex. We start at 0 (= no).\n",
    "    unusual <- 0\n",
    "    # Repeat the following steps 4 times to constitute 4 trial groups\n",
    "    # (representing treatments A, B, C, and D) of 20 flies each.\n",
    "    for (j in 1:4) {\n",
    "        flies <- sample(c('male', 'female'), replace=TRUE, size=20)\n",
    "        n_males <- sum(flies == 'male')\n",
    "        if (n_males >= 13 | n_males <= 6) {\n",
    "            unusual <- 1\n",
    "        }\n",
    "    }\n",
    "    # unusual now tells us whether we got a result as extreme as that\n",
    "    # observed (unusual == 1 if we did, unusual == 0 if not). We must\n",
    "    # keep track of this result in the results variable, for each experiment.\n",
    "    results[i] <- unusual\n",
    "}\n",
    "\n",
    "# The number of trials for which at least one of the four tests\n",
    "# exceeded 13 males or 13 females.\n",
    "k <- sum(results)\n",
    "kk <- k / n_iters\n",
    "\n",
    "message('Proportion of trials with one or more group >=14 or <=6 :', kk)"
   ]
  }
 ],
 "metadata": {
  "jupytext": {
   "cell_metadata_filter": "-all",
   "main_language": "R",
   "notebook_metadata_filter": "-all"
  },
  "kernelspec": {
   "display_name": "R (webR)",
   "name": "webR"
  }
 },
 "nbformat": 4,
 "nbformat_minor": 5
}
