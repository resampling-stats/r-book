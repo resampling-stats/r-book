{
 "cells": [
  {
   "cell_type": "markdown",
   "id": "c81d429b",
   "metadata": {},
   "source": [
    "# Santas' hats"
   ]
  },
  {
   "cell_type": "markdown",
   "id": "59361619",
   "metadata": {},
   "source": [
    "**The welcome staff at a restaurant mix up the hats of a party of six\n",
    "Christmas Santas. What is the probability that at least one will get\n",
    "their own hat?**.\n",
    "\n",
    "After a long Christmas day, six Santas meet in the pub to let off steam.\n",
    "However, as luck would have it, their hosts have mixed up their hats.\n",
    "When the hats are returned, what is the chance that at least one Santa\n",
    "will get his own hat back?\n",
    "\n",
    "First, assign each of the six Santas a number, and place these numbers\n",
    "in an array. Next, shuffle the array (this represents the mixed-up hats)\n",
    "and compare to the original. The rest of the problem is the same as the\n",
    "pairs one from before, except that we are now interested in any trial\n",
    "where at least one ($\\ge\n",
    "1$) Santa received the right hat."
   ]
  },
  {
   "cell_type": "code",
   "execution_count": null,
   "id": "febfb4e8",
   "metadata": {},
   "outputs": [],
   "source": [
    "N <- 10000\n",
    "trial_results <- numeric(N)\n",
    "\n",
    "# Assign numbers to each owner\n",
    "owners <- 1:6\n",
    "\n",
    "# Each hat gets the number of their owner\n",
    "hats <- 1:6\n",
    "\n",
    "for (i in 1:N) {\n",
    "    # Randomly shuffle the hats and compare to their owners\n",
    "    shuffled_hats <- sample(hats)\n",
    "\n",
    "    # In how many cases did at least one person get their hat back?\n",
    "    trial_results[i] <- sum(shuffled_hats == owners) >= 1\n",
    "}\n",
    "\n",
    "# How many times, over all trials, did at least one person get their hat back?\n",
    "k <- sum(trial_results)\n",
    "\n",
    "# Convert to a proportion.\n",
    "kk <- k / N\n",
    "\n",
    "# Print the result.\n",
    "print(kk)"
   ]
  },
  {
   "cell_type": "markdown",
   "id": "4752169c",
   "metadata": {},
   "source": [
    "We see that in roughly 63 percent of the trials at least one Santa\n",
    "received their own hat back."
   ]
  }
 ],
 "metadata": {
  "jupytext": {
   "cell_metadata_filter": "-all",
   "main_language": "R",
   "notebook_metadata_filter": "-all"
  },
  "kernelspec": {
   "display_name": "R (webR)",
   "name": "webR"
  }
 },
 "nbformat": 4,
 "nbformat_minor": 5
}
