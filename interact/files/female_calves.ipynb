{
 "cells": [
  {
   "cell_type": "markdown",
   "id": "22aaed4e",
   "metadata": {},
   "source": [
    "# Female calf numbers simulation"
   ]
  },
  {
   "cell_type": "markdown",
   "id": "7f1ee893",
   "metadata": {},
   "source": [
    "This notebook uses simulation to test the null hypothesis that the\n",
    "chances of any one calf being female is 100 / 206."
   ]
  },
  {
   "cell_type": "code",
   "execution_count": null,
   "id": "f5f303da",
   "metadata": {},
   "outputs": [],
   "source": [
    "# Set the number of trials.\n",
    "n_trials <- 10000\n",
    "\n",
    "# Set the size of each sample.\n",
    "sample_size <- 10\n",
    "\n",
    "# Probability of any one calf being female.\n",
    "p_female <- 100 / 206\n",
    "\n",
    "# A vector to store the results.\n",
    "scores <- numeric(n_trials)\n",
    "\n",
    "# for 10000 repeats.\n",
    "for (i in 1:n_trials) {\n",
    "\n",
    "    a <- sample(c('female', 'male'),\n",
    "                size=sample_size,\n",
    "                prob=c(p_female, 1 - p_female),\n",
    "                replace=TRUE)\n",
    "    b <- sum(a == 'female')\n",
    "\n",
    "    # Store the result of the current trial.\n",
    "    scores[i] <- b\n",
    "}\n",
    "\n",
    "# Plot a histogram of the scores.\n",
    "title_of_plot <- paste0(\"Number of females in\", n_trials, \" samples of \\n\", sample_size, \" simulated calves\")\n",
    "hist(scores, xlab = 'Number of Females', main=title_of_plot)\n",
    "\n",
    "# Count the number of scores that were greater than or equal to 9.\n",
    "k <- sum(scores >= 9)\n",
    "\n",
    "# Express as a proportion.\n",
    "kk <- k / n_trials\n",
    "\n",
    "# Show the proportion.\n",
    "message(\"Probability of 9 or 10 females occurring by chance: \", kk)"
   ]
  },
  {
   "cell_type": "markdown",
   "id": "ae2087c7",
   "metadata": {},
   "source": [
    "We read from the result in variable `kk` that the probability of 9 or 10\n",
    "females occurring by chance is a bit more than one percent."
   ]
  }
 ],
 "metadata": {
  "jupytext": {
   "cell_metadata_filter": "-all",
   "main_language": "R",
   "notebook_metadata_filter": "-all"
  },
  "kernelspec": {
   "display_name": "R (webR)",
   "name": "webR"
  }
 },
 "nbformat": 4,
 "nbformat_minor": 5
}
