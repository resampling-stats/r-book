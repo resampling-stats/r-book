{
 "cells": [
  {
   "cell_type": "markdown",
   "id": "b349a0a3",
   "metadata": {},
   "source": [
    "# Association of athletic and IQ scores"
   ]
  },
  {
   "cell_type": "markdown",
   "id": "afd560ec",
   "metadata": {},
   "source": [
    "We use random pairings of the athletic and IQ scores to find the\n",
    "null-world distribution of the sum of the products of these scores.\n",
    "\n",
    "We load the file containing the data:"
   ]
  },
  {
   "cell_type": "code",
   "execution_count": null,
   "id": "80d4a82d",
   "metadata": {},
   "outputs": [],
   "source": [
    "# Read the data file containing athletic and IQ scores.\n",
    "# Read data from web URL instead of local data directory\n",
    "# (so that notebook works in online version).\n",
    "ath_iq_df <- read.csv('https://resampling-stats.github.io/data/athletic_iq.csv')\n",
    "# Show the data frame.\n",
    "ath_iq_df"
   ]
  },
  {
   "cell_type": "code",
   "execution_count": null,
   "id": "4fb45480",
   "metadata": {},
   "outputs": [],
   "source": [
    "# Turn athletic and IQ scores into vectors.\n",
    "ath = ath_iq_df$athletic_score\n",
    "iq = ath_iq_df$iq_score"
   ]
  },
  {
   "cell_type": "code",
   "execution_count": null,
   "id": "cf29e8ff",
   "metadata": {},
   "outputs": [],
   "source": [
    "# Multiply the two sets of scores together.\n",
    "actual_prod <- ath * iq\n",
    "# Sum the results — the \"observed value.\"\n",
    "actual_sum <- sum(actual_prod)\n",
    "actual_sum"
   ]
  },
  {
   "cell_type": "code",
   "execution_count": null,
   "id": "eda9ddf2",
   "metadata": {},
   "outputs": [],
   "source": [
    "# Set the number of trials\n",
    "n_trials <- 10000\n",
    "\n",
    "# An empty array to store the trial results.\n",
    "results <- numeric(n_trials)\n",
    "\n",
    "# Do 10,000 experiments.\n",
    "for (i in 1:n_trials) {\n",
    "    # Shuffle the IQ scores so we can pair them against athletic scores.\n",
    "    shuffled <- sample(iq)\n",
    "    # Multiply the shuffled IQ scores by the athletic scores. (Note that we\n",
    "    # could shuffle the athletic scores too but it would not achieve any\n",
    "    # greater randomization, because shuffling one of the set of scores\n",
    "    # already gives a random pairing between the sets of scores.\n",
    "    fake_prod <- ath * shuffled\n",
    "    # Sum the randomized multiplications.\n",
    "    fake_sum <- sum(fake_prod)\n",
    "    # Subtract the sum from the sum of the \"observed\" multiplication.\n",
    "    diff <- actual_sum - fake_sum\n",
    "    # Keep track of the result in results array.\n",
    "    results[i] <- diff\n",
    "    # End one trial, go back and repeat until 10000 trials are complete.\n",
    "}\n",
    "\n",
    "# Obtain a histogram of the trial results.\n",
    "hist(results, breaks=25,\n",
    "    main='Random sums of products',\n",
    "    xlab='Observed sum minus sum of random pairing')"
   ]
  },
  {
   "cell_type": "markdown",
   "id": "bf2828c4",
   "metadata": {},
   "source": [
    "We see that obtaining a chance trial result as great as that observed\n",
    "was rare. R will calculate this proportion for us:"
   ]
  },
  {
   "cell_type": "code",
   "execution_count": null,
   "id": "36483ecd",
   "metadata": {},
   "outputs": [],
   "source": [
    "# Determine in how many trials the random sum of products was less than\n",
    "# the observed sum of products.\n",
    "k <- sum(results <= 0)\n",
    "# Convert to a proportion.\n",
    "kk <- k / n_trials\n",
    "# Print the result.\n",
    "message('Proportion of random pairings giving sum <= observed: ', kk)"
   ]
  }
 ],
 "metadata": {
  "jupytext": {
   "cell_metadata_filter": "-all",
   "main_language": "R",
   "notebook_metadata_filter": "-all"
  },
  "kernelspec": {
   "display_name": "R (webR)",
   "name": "webR"
  }
 },
 "nbformat": 4,
 "nbformat_minor": 5
}
