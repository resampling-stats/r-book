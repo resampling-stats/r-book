{
 "cells": [
  {
   "cell_type": "markdown",
   "id": "694b8589",
   "metadata": {},
   "source": [
    "# Number of viewers"
   ]
  },
  {
   "cell_type": "markdown",
   "id": "e5bdf0fc",
   "metadata": {},
   "source": [
    "The notebook calculates the expected number of viewers in a sample of\n",
    "400, given that there is a 30% chance of any one person being a viewer,\n",
    "and then calculates how far that value is from 120."
   ]
  },
  {
   "cell_type": "code",
   "execution_count": null,
   "id": "d7404aaf",
   "metadata": {
    "lines_to_next_cell": 0
   },
   "outputs": [],
   "source": [
    "# set the number of trials\n",
    "n_trials <- 10000\n",
    "\n",
    "# an empty array to store the results\n",
    "results <- numeric(n_trials)\n",
    "\n",
    "# What are the options to choose from?\n",
    "options <- c('viewer', 'not viewer')\n",
    "\n",
    "# do n_trials trials\n",
    "for (i in 1:n_trials) {\n",
    "\n",
    "    # Choose 'viewer' 30% of the time.\n",
    "    a <- sample(options, size=400, prob=c(0.3, 0.7), replace=TRUE)\n",
    "\n",
    "    # count the viewers\n",
    "    b <- sum(a == 'viewer')\n",
    "\n",
    "    # how different from expected?\n",
    "    c <- 120 - b\n",
    "\n",
    "    # absolute value of the difference\n",
    "    d <- abs(c)\n",
    "\n",
    "    # express as a proportion of sample\n",
    "    e <- d / 400\n",
    "\n",
    "    # keep score of the result\n",
    "    results[i] <- e\n",
    "}\n",
    "\n",
    "# find the mean divergence\n",
    "k <- mean(results)\n",
    "\n",
    "# Show the result\n",
    "k"
   ]
  },
  {
   "cell_type": "markdown",
   "id": "fadb0697",
   "metadata": {},
   "source": []
  }
 ],
 "metadata": {
  "jupytext": {
   "cell_metadata_filter": "-all",
   "main_language": "R",
   "notebook_metadata_filter": "-all"
  },
  "kernelspec": {
   "display_name": "R (webR)",
   "name": "webR"
  }
 },
 "nbformat": 4,
 "nbformat_minor": 5
}
