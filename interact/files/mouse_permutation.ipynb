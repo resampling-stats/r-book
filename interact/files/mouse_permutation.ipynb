{
 "cells": [
  {
   "cell_type": "markdown",
   "id": "fb671d70",
   "metadata": {},
   "source": [
    "# Permutation test for mouse survival data"
   ]
  },
  {
   "cell_type": "markdown",
   "id": "ef84e48c",
   "metadata": {},
   "source": [
    "Use permutation (shuffle-and-split) samples from mouse survival data to\n",
    "compare actual mean difference to those observed in the null-\n",
    "(permutation) world."
   ]
  },
  {
   "cell_type": "code",
   "execution_count": null,
   "id": "3990d6b6",
   "metadata": {},
   "outputs": [],
   "source": [
    "# Treatment group.\n",
    "treat <- c(94, 38, 23, 197, 99, 16, 141)\n",
    "# control group\n",
    "control <- c(52, 10, 40, 104, 51, 27, 146, 30, 46)\n",
    "\n",
    "# Observed difference in real world.\n",
    "actual_diff <- mean(treat) - mean(control)\n",
    "\n",
    "# Set the number of trials.\n",
    "n_trials <- 10000\n",
    "\n",
    "# An empty array to store the trials.\n",
    "results <- numeric(n_trials)\n",
    "\n",
    "# U is our universe (Step 2 above)\n",
    "u <- c(treat, control)\n",
    "\n",
    "# step 5 above.\n",
    "for (i in 1:n_trials) {\n",
    "    # Step 3b above.\n",
    "    shuffled <- sample(u)\n",
    "    # Step 3b - take the first 7 values.\n",
    "    fake_treat <- shuffled[1:7]\n",
    "    # Step 3b - take the remaining values.\n",
    "    fake_control <- shuffled[8:16]\n",
    "    # Step 4.\n",
    "    mt <- mean(fake_treat)\n",
    "    # Step 4.\n",
    "    mc <- mean(fake_control)\n",
    "    # Step 4.\n",
    "    diff <- mt - mc\n",
    "    # Step 4.\n",
    "    results[i] <- diff\n",
    "}\n",
    "\n",
    "# Step 6\n",
    "hist(results, breaks=25,\n",
    "    main='Permutation distribution of mean differences in survival',\n",
    "    xlab='Permutation mean treatment - mean control')\n",
    "\n",
    "# Step 6\n",
    "k <- sum(results >= actual_diff)\n",
    "kk <- k / n_trials\n",
    "message('Proportion permutation mean difference >= actual difference: ', kk)"
   ]
  }
 ],
 "metadata": {
  "jupytext": {
   "cell_metadata_filter": "-all",
   "main_language": "R",
   "notebook_metadata_filter": "-all"
  },
  "kernelspec": {
   "display_name": "R (webR)",
   "name": "webR"
  }
 },
 "nbformat": 4,
 "nbformat_minor": 5
}
