{
 "cells": [
  {
   "cell_type": "markdown",
   "id": "e39524cd",
   "metadata": {},
   "source": [
    "# Three or more basketball shots"
   ]
  },
  {
   "cell_type": "markdown",
   "id": "d468c18c",
   "metadata": {},
   "source": [
    "We simulate the probability of scoring three or more baskets from five\n",
    "shots, if each shot has a 25% probability of success."
   ]
  },
  {
   "cell_type": "code",
   "execution_count": null,
   "id": "0e3a1331",
   "metadata": {},
   "outputs": [],
   "source": [
    "n_baskets <- numeric(10000)\n",
    "\n",
    "# Do 10000 experimental trials.\n",
    "for (i in 1:10000) {\n",
    "\n",
    "    # Generate 5 random numbers, each between 1 and 4, put them in \"a\".\n",
    "    # Let \"1\" represent a basket, \"2\" through \"4\" be a miss.\n",
    "    a <- sample(1:4, size=5, replace=TRUE)\n",
    "\n",
    "    # Count the number of baskets, put that result in b.\n",
    "    b <- sum(a == 1)\n",
    "\n",
    "    # Keep track of each experiment's results in z.\n",
    "    n_baskets[i] <- b\n",
    "\n",
    "    # End the experiment, go back and repeat until all 10000 are completed, then\n",
    "    # proceed.\n",
    "}\n",
    "\n",
    "# Determine how many experiments produced more than two baskets, put that\n",
    "# result in k.\n",
    "n_more_than_2 <- sum(n_baskets > 2)\n",
    "\n",
    "# Convert to a proportion.\n",
    "prop_more_than_2 <- n_more_than_2 / 10000\n",
    "\n",
    "# Print the result.\n",
    "message(prop_more_than_2)"
   ]
  }
 ],
 "metadata": {
  "jupytext": {
   "cell_metadata_filter": "-all",
   "main_language": "R",
   "notebook_metadata_filter": "-all"
  },
  "kernelspec": {
   "display_name": "R (webR)",
   "name": "webR"
  }
 },
 "nbformat": 4,
 "nbformat_minor": 5
}
