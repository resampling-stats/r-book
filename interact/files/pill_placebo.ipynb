{
 "cells": [
  {
   "cell_type": "markdown",
   "id": "99ab6ec0",
   "metadata": {},
   "source": [
    "# Cures for pill vs placebo"
   ]
  },
  {
   "cell_type": "markdown",
   "id": "68b41b92",
   "metadata": {},
   "source": [
    "Now for a R solution. Again, the benchmark hypothesis is that pill P has\n",
    "no effect, and we ask how often, on this assumption, the results that\n",
    "were obtained from the actual test of the pill would occur by chance.\n",
    "\n",
    "Given that in the test 7 of 12 patients overall got well, the benchmark\n",
    "hypothesis assumes 7/12 to be the chances of any random patient being\n",
    "cured. We generate two similar samples of 6 patients, both taken from\n",
    "the same universe composed of the combined samples — the bootstrap\n",
    "procedure. We count (`sum`) the number who are “get well” in each\n",
    "sample. Then we subtract the number who got well in the “pill” sample\n",
    "from the number who got well in the “no-pill” sample. We record the\n",
    "resulting difference for each trial in the variable `pill_betters`.\n",
    "\n",
    "In the actual test, 3 more patients got well in the sample given the\n",
    "pill than in the sample given the placebo. We therefore count how many\n",
    "of the trials yield results where the difference between the sample\n",
    "given the pill and the sample not given the pill was greater than 2\n",
    "(equal to or greater than 3). This result is the probability that the\n",
    "results derived from the actual test would be obtained from random\n",
    "samples drawn from a population which has a constant cure rate, pill or\n",
    "no pill."
   ]
  },
  {
   "cell_type": "code",
   "execution_count": null,
   "id": "831dfa3a",
   "metadata": {},
   "outputs": [],
   "source": [
    "# The bucket with the pieces of paper.\n",
    "options <- rep(c('get well', 'not well'), c(7, 5))\n",
    "\n",
    "n <- 10000\n",
    "\n",
    "pill_betters <- numeric(n)\n",
    "\n",
    "for (i in 1:n) {\n",
    "    pill <- sample(options, size=6, replace=TRUE)\n",
    "    pill_cures <- sum(pill == 'get well')\n",
    "    placebo <- sample(options, size=6, replace=TRUE)\n",
    "    placebo_cures <- sum(placebo == 'get well')\n",
    "    pill_betters[i] <- pill_cures - placebo_cures\n",
    "}\n",
    "\n",
    "hist(pill_betters, breaks=-6:6,\n",
    "     main='Number of extra cures pill vs placebo in null universe')"
   ]
  },
  {
   "cell_type": "markdown",
   "id": "88280b54",
   "metadata": {},
   "source": [
    "Recall our actual observed results: In the medicine group, three more\n",
    "patients were cured than in the placebo group. From the histogram, we\n",
    "see that in only about 8 percent of the simulated trials did the\n",
    "“medicine” group do as well or better. The results seem to suggest — but\n",
    "by no means conclusively — that the medicine’s performance is not due to\n",
    "chance. Further study would probably be warranted. The following\n",
    "commands added to the above program will calculate this proportion\n",
    "directly:"
   ]
  }
 ],
 "metadata": {
  "jupytext": {
   "cell_metadata_filter": "-all",
   "main_language": "R",
   "notebook_metadata_filter": "-all"
  },
  "kernelspec": {
   "display_name": "R (webR)",
   "name": "webR"
  }
 },
 "nbformat": 4,
 "nbformat_minor": 5
}
