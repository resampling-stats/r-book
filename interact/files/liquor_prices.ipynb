{
 "cells": [
  {
   "cell_type": "markdown",
   "id": "d7c271dd",
   "metadata": {},
   "source": [
    "# Public and private liquor prices"
   ]
  },
  {
   "cell_type": "markdown",
   "id": "ece6d0b0",
   "metadata": {},
   "source": [
    "This notebook asks the question whether the difference in the means of\n",
    "private and government-specified prices of a particular whiskey could\n",
    "plausibly have come about as a result of random sampling."
   ]
  },
  {
   "cell_type": "code",
   "execution_count": null,
   "id": "d1d2fcb7",
   "metadata": {},
   "outputs": [],
   "source": [
    "fake_diffs <- numeric(10000)\n",
    "\n",
    "priv <- c(4.82, 5.29, 4.89, 4.95, 4.55, 4.90, 5.25, 5.30, 4.29, 4.85, 4.54,\n",
    "          4.75, 4.85, 4.85, 4.50, 4.75, 4.79, 4.85, 4.79, 4.95, 4.95, 4.75,\n",
    "          5.20, 5.10, 4.80, 4.29)\n",
    "\n",
    "govt <- c(4.65, 4.55, 4.11, 4.15, 4.20, 4.55, 3.80, 4.00, 4.19, 4.75, 4.74,\n",
    "          4.50, 4.10, 4.00, 5.05, 4.20)\n",
    "\n",
    "actual_diff <- mean(priv) - mean(govt)\n",
    "\n",
    "# Join the two vectors of data into one vector.\n",
    "both <- c(priv, govt)\n",
    "\n",
    "# Repeat 10000 simulation trials.\n",
    "for (i in 1:10000) {\n",
    "\n",
    "    # Sample 26 with replacement for private group\n",
    "    fake_priv <- sample(both, size=26, replace=TRUE)\n",
    "\n",
    "    # Sample 16 with replacement for govt. group\n",
    "    fake_govt <- sample(both, size=16, replace=TRUE)\n",
    "\n",
    "    # Find the mean of the \"private\" group.\n",
    "    p <- mean(fake_priv)\n",
    "\n",
    "    # Mean of the \"govt.\" group\n",
    "    g <- mean(fake_govt)\n",
    "\n",
    "    # Difference in the means\n",
    "    diff <- p - g\n",
    "\n",
    "    # Keep score of the trials\n",
    "    fake_diffs[i] <- diff\n",
    "}\n",
    "\n",
    "# Graph of simulation results to compare with the observed result.\n",
    "# The paste function sticks the strings together into a single string.\n",
    "fig_title <- paste('Average price difference (Actual difference = ',\n",
    "                   round(actual_diff * 100),\n",
    "                   'cents)')\n",
    "hist(fake_diffs, main=fig_title, xlab='Difference in average prices (cents)')"
   ]
  }
 ],
 "metadata": {
  "jupytext": {
   "cell_metadata_filter": "-all",
   "main_language": "R",
   "notebook_metadata_filter": "-all"
  },
  "kernelspec": {
   "display_name": "R (webR)",
   "name": "webR"
  }
 },
 "nbformat": 4,
 "nbformat_minor": 5
}
