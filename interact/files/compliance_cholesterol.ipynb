{
 "cells": [
  {
   "cell_type": "markdown",
   "id": "6a2fbd21",
   "metadata": {},
   "source": [
    "# Testing association of compliance and cholesterol values"
   ]
  },
  {
   "cell_type": "markdown",
   "id": "3cef3286",
   "metadata": {},
   "source": [
    "We have 164 rows, each representing a person taking a medication. For\n",
    "each row (each person) we have a pair of measurements. The first is\n",
    "their percent compliance in taking their prescribed medication. The\n",
    "second is the decrease of their blood cholesterol. We want to see\n",
    "whether the observed association of these values is plausible on the\n",
    "null hypothesis — that there is no association."
   ]
  },
  {
   "cell_type": "code",
   "execution_count": null,
   "id": "b6aeb3df",
   "metadata": {},
   "outputs": [],
   "source": [
    "# Data as vectors.\n",
    "# Read data from web URL instead of local data directory\n",
    "# (so that notebook works in online version).\n",
    "df <- read.csv('https://resampling-stats.github.io/data/cholost.csv')\n",
    "compliance <- df$percent_compliance\n",
    "cholesterol <- df$cholesterol_decrease\n",
    "\n",
    "# Rename the two sequences to match the description in the text.\n",
    "x <- compliance\n",
    "y <- cholesterol\n",
    "\n",
    "# Step 1 above\n",
    "actual_prod <- x * y\n",
    "# Note: actual_sum <- 439,141\n",
    "actual_sum <- sum(actual_prod)\n",
    "# Show the result.\n",
    "actual_sum"
   ]
  },
  {
   "cell_type": "code",
   "execution_count": null,
   "id": "f3715871",
   "metadata": {},
   "outputs": [],
   "source": [
    "# Set the number of trials\n",
    "n_trials <- 10000\n",
    "\n",
    "# An empty array to store the trial results.\n",
    "results <- numeric(n_trials)\n",
    "\n",
    "# Do 10,000 experiments (step 4)\n",
    "for (i in 1:n_trials) {\n",
    "    # Step 2 above.\n",
    "    y_random <- sample(y)\n",
    "    # Step 3 above.\n",
    "    fake_prod <- x * y_random\n",
    "    fake_sum <- sum(fake_prod)\n",
    "    # Step 3 above\n",
    "    results[i] <- fake_sum\n",
    "    # Step 4 above\n",
    "}\n",
    "\n",
    "# Step 5 above\n",
    "k <- sum(results >= actual_sum)\n",
    "kk <- k / n_trials\n",
    "\n",
    "message('Proportion product sums >= observed: ', kk)"
   ]
  }
 ],
 "metadata": {
  "jupytext": {
   "cell_metadata_filter": "-all",
   "main_language": "R",
   "notebook_metadata_filter": "-all"
  },
  "kernelspec": {
   "display_name": "R (webR)",
   "name": "webR"
  }
 },
 "nbformat": 4,
 "nbformat_minor": 5
}
