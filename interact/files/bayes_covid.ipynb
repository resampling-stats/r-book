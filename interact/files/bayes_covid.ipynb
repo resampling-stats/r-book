{
 "cells": [
  {
   "cell_type": "markdown",
   "id": "11853f38",
   "metadata": {},
   "source": [
    "# Bayesian analysis of Covid test result"
   ]
  },
  {
   "cell_type": "markdown",
   "id": "80c89e51",
   "metadata": {},
   "source": [
    "You get a COVID test, and the test is negative. Now, you would like to\n",
    "know what the chance is of you having COVID."
   ]
  },
  {
   "cell_type": "code",
   "execution_count": null,
   "id": "8fc78fb2",
   "metadata": {},
   "outputs": [],
   "source": [
    "# The number of people.\n",
    "n_trials <- 1000000\n",
    "\n",
    "# For each person, generate a True or False label,\n",
    "# indicating that they have / don't have COVID.\n",
    "person_has_covid <- sample(\n",
    "    c(TRUE, FALSE),\n",
    "    size=n_trials,\n",
    "    replace=TRUE,\n",
    "    prob=c(0.015, 0.985)\n",
    ")\n",
    "\n",
    "# Calculate the numbers of people with and without COVID.\n",
    "n_with_covid <- sum(person_has_covid)\n",
    "n_without_covid <- n_trials - n_with_covid\n",
    "\n",
    "# In this array, we will store, for each person, whether they\n",
    "# had a positive or a negative test.\n",
    "test_result <- logical(n_trials)\n",
    "\n",
    "# Draw test results for people with COVID.\n",
    "test_result[person_has_covid] <- sample(\n",
    "    c(TRUE, FALSE),\n",
    "    size=n_with_covid,\n",
    "    replace=TRUE,\n",
    "    prob=c(0.6, 0.4)\n",
    ")\n",
    "\n",
    "# Draw test results for people without COVID.\n",
    "# !person_has_covid` flips all Boolean values from FALSE to TRUE\n",
    "# and from TRUE to FALSE.\n",
    "test_result[!person_has_covid] <- sample(\n",
    "    c(TRUE, FALSE),\n",
    "    size=n_without_covid,\n",
    "    replace=TRUE,\n",
    "    prob=c(0.005, 0.995)\n",
    ")\n",
    "\n",
    "# Get the COVID statuses of all those with negative tests\n",
    "# (`test_result` is a Boolean mask, like `[TRUE, FALSE, FALSE, TRUE, ...]`,\n",
    "# and `!test_result` flips all Boolean values to `[FALSE, TRUE, TRUE, FALSE, ...]`.\n",
    "covid_status_negative_test <- person_has_covid[!test_result]\n",
    "\n",
    "# Now, count how many with COVID had a negative test results.\n",
    "n_with_covid_and_negative_test <- sum(covid_status_negative_test)\n",
    "\n",
    "# And how many people, overall, had negative test results.\n",
    "n_with_negative_test <- length(covid_status_negative_test)\n",
    "\n",
    "k <- n_with_covid_and_negative_test / n_with_negative_test\n",
    "\n",
    "message('Proportion with Covid of those with negative test: ', round(k, 4))"
   ]
  },
  {
   "cell_type": "markdown",
   "id": "f33b3d99",
   "metadata": {},
   "source": [
    "This gives around 0.006 or 0.6%."
   ]
  }
 ],
 "metadata": {
  "jupytext": {
   "cell_metadata_filter": "-all",
   "main_language": "R",
   "notebook_metadata_filter": "-all"
  },
  "kernelspec": {
   "display_name": "R (webR)",
   "name": "webR"
  }
 },
 "nbformat": 4,
 "nbformat_minor": 5
}
