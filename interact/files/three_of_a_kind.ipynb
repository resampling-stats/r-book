{
 "cells": [
  {
   "cell_type": "markdown",
   "id": "3f2e1522",
   "metadata": {},
   "source": [
    "# Three of a kind"
   ]
  },
  {
   "cell_type": "markdown",
   "id": "a36b0b76",
   "metadata": {},
   "source": [
    "We count the number of times we get three of a kind in a random hand of\n",
    "five cards."
   ]
  },
  {
   "cell_type": "code",
   "execution_count": null,
   "id": "2ee6b252",
   "metadata": {},
   "outputs": [],
   "source": [
    "one_suit <- 1:13\n",
    "deck <- rep(one_suit, 4)"
   ]
  },
  {
   "cell_type": "code",
   "execution_count": null,
   "id": "2e83662e",
   "metadata": {},
   "outputs": [],
   "source": [
    "triples_per_trial <- numeric(10000)\n",
    "\n",
    "# Repeat the following steps 10000 times\n",
    "for (i in 1:10000) {\n",
    "    # Shuffle the deck\n",
    "    shuffled <- sample(deck)\n",
    "\n",
    "    # Take the first five cards.\n",
    "    hand <- shuffled[1:5]\n",
    "\n",
    "    # How many triples?\n",
    "    repeat_nos <- tabulate(hand)\n",
    "    n_triples <- sum(repeat_nos == 3)\n",
    "\n",
    "    # Keep score of # of triples\n",
    "    triples_per_trial[i] <- n_triples\n",
    "\n",
    "    # End loop, go back and repeat\n",
    "}\n",
    "\n",
    "# How often was there 1 pair?\n",
    "n_triples <- sum(triples_per_trial == 1)\n",
    "\n",
    "# Convert to proportion\n",
    "message(n_triples / 10000)"
   ]
  }
 ],
 "metadata": {
  "jupytext": {
   "cell_metadata_filter": "-all",
   "main_language": "R",
   "notebook_metadata_filter": "-all"
  },
  "kernelspec": {
   "display_name": "R (webR)",
   "name": "webR"
  }
 },
 "nbformat": 4,
 "nbformat_minor": 5
}
