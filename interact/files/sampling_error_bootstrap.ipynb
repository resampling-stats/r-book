{
 "cells": [
  {
   "cell_type": "markdown",
   "id": "0adb48b5",
   "metadata": {},
   "source": [
    "# Sampling error for pig ration weight gain via bootstrap"
   ]
  },
  {
   "cell_type": "markdown",
   "id": "9db507fb",
   "metadata": {},
   "source": [
    "Use the bootstrap (resampling with replacement) procedure to estimate\n",
    "how much error to expect when taking samples of different sizes."
   ]
  },
  {
   "cell_type": "code",
   "execution_count": null,
   "id": "366595bb",
   "metadata": {},
   "outputs": [],
   "source": [
    "sampsize <- 12\n",
    "\n",
    "gains <- c(31, 34, 29, 26, 32, 35, 38, 34, 32, 31, 30, 29)\n",
    "\n",
    "n_trials <- 10000\n",
    "results <- numeric(n_trials)\n",
    "\n",
    "for (i in 1:n_trials) {\n",
    "    fake_gains <- sample(gains, size=sampsize, replace=TRUE)\n",
    "    results[i] <- mean(fake_gains)\n",
    "}\n",
    "\n",
    "title <- paste('Distribution of mean of', sampsize,\n",
    "               'weights from', n_trials, 'bootstrap samples')\n",
    "hist(results, breaks=25,\n",
    "     main=title,\n",
    "     xlab='Mean weight')\n",
    "\n",
    "# Find values such that to 5%, 95% of values are below given value.\n",
    "# (These are the 5% and 95% percentile values).\n",
    "hi_lo_range <- quantile(results, c(0.05, 0.95))\n",
    "rounded =  round(hi_lo_range, 2)\n",
    "\n",
    "message('5% and 95% percentiles of bootstrap means: ',\n",
    "        rounded[1], ' ', rounded[2])"
   ]
  }
 ],
 "metadata": {
  "jupytext": {
   "cell_metadata_filter": "-all",
   "main_language": "R",
   "notebook_metadata_filter": "-all"
  },
  "kernelspec": {
   "display_name": "R (webR)",
   "name": "webR"
  }
 },
 "nbformat": 4,
 "nbformat_minor": 5
}
