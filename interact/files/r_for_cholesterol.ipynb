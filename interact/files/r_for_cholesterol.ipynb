{
 "cells": [
  {
   "cell_type": "markdown",
   "id": "9f90ed0d",
   "metadata": {},
   "source": [
    "# Correlation coefficient for compliance and cholesterol"
   ]
  },
  {
   "cell_type": "markdown",
   "id": "d7506807",
   "metadata": {},
   "source": [
    "Calculate correlation coefficient for compliance and cholesterol."
   ]
  },
  {
   "cell_type": "code",
   "execution_count": null,
   "id": "ece9b6c4",
   "metadata": {},
   "outputs": [],
   "source": [
    "# Read data from web URL instead of local data directory\n",
    "# (so that notebook works in online version).\n",
    "df <- read.csv('https://resampling-stats.github.io/data/cholost.csv')\n",
    "compliance <- df$percent_compliance\n",
    "cholesterol <- df$cholesterol_decrease\n",
    "\n",
    "# Compliance as standard scores.\n",
    "dev_compliance <- compliance - mean(compliance)  # Deviations.\n",
    "stdev_compliance <- sqrt(mean(dev_compliance ** 2))  # Standard deviation.\n",
    "std_compliance <- dev_compliance / stdev_compliance  # Standard scores.\n",
    "\n",
    "# Cholesterol as standard scores.\n",
    "dev_cholesterol <- cholesterol - mean(cholesterol)  # Deviations.\n",
    "stdev_cholesterol <- sqrt(mean(dev_cholesterol ** 2))  # Standard deviation.\n",
    "std_cholesterol <- dev_cholesterol / stdev_cholesterol  # Standard scores.\n",
    "\n",
    "# r value is mean of product for standardized scores.\n",
    "r <- mean(std_compliance * std_cholesterol)\n",
    "\n",
    "message('r for compliance / cholesterol is: ', round(r, 2))"
   ]
  }
 ],
 "metadata": {
  "jupytext": {
   "cell_metadata_filter": "-all",
   "main_language": "R",
   "notebook_metadata_filter": "-all"
  },
  "kernelspec": {
   "display_name": "R (webR)",
   "name": "webR"
  }
 },
 "nbformat": 4,
 "nbformat_minor": 5
}
