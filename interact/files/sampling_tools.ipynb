{
 "cells": [
  {
   "cell_type": "markdown",
   "id": "eac84d82",
   "metadata": {},
   "source": [
    "# Sampling tools"
   ]
  },
  {
   "cell_type": "markdown",
   "id": "b15fdc26",
   "metadata": {},
   "source": [
    "## 7.2 Samples and labels\n",
    "\n",
    "Thus far we have used numbers such as 1 and 0 and 10 to represent the\n",
    "elements we are sampling from. For example, in\n",
    "<a href=\"#sec-resampling-two\" class=\"quarto-xref\"><span\n",
    "class=\"quarto-unresolved-ref\">sec-resampling-two</span></a>, we were\n",
    "simulating the chance of a particular juror being black, given that 26%\n",
    "of the eligible jurors in the county were black. We used *integers* for\n",
    "that task, where we started with all the integers from 0 through 99, and\n",
    "asked R to select values at random from those integers. When R selected\n",
    "an integer from 0 through 25, we chose to label the resulting simulated\n",
    "juror as black — there are 26 integers in the range 0 through 25, so\n",
    "there is a 26% chance that any one integer will be in that range. If the\n",
    "integer was from 26 through 99, the simulated juror was white (there are\n",
    "74 integers in the range 26 through 99).\n",
    "\n",
    "Here is the process of simulating a single juror, adapted from\n",
    "<a href=\"#sec-random-zero-through-ninety-nine\" class=\"quarto-xref\"><span\n",
    "class=\"quarto-unresolved-ref\">sec-random-zero-through-ninety-nine</span></a>:"
   ]
  },
  {
   "cell_type": "code",
   "execution_count": null,
   "id": "b511f520",
   "metadata": {},
   "outputs": [],
   "source": [
    "# Get 1 random number from 0 through 99\n",
    "# replace=TRUE is redundant here (why?), but we leave it for consistency.\n",
    "a <- sample(0:99, 1, replace=TRUE)\n",
    "\n",
    "# Show the result\n",
    "a"
   ]
  },
  {
   "cell_type": "markdown",
   "id": "46d9d2e8",
   "metadata": {},
   "source": [
    "After that, we have to unpack our labeling of 0 through 25 as being\n",
    "“black” and 26 through 99 as being “white”. We might do that like this:"
   ]
  },
  {
   "cell_type": "code",
   "execution_count": null,
   "id": "40c064c0",
   "metadata": {},
   "outputs": [],
   "source": [
    "this_juror_is_black <- a < 26\n",
    "this_juror_is_black"
   ]
  },
  {
   "cell_type": "markdown",
   "id": "42ed9ab6",
   "metadata": {},
   "source": [
    "This all works as we want it to, but it’s just a little bit difficult to\n",
    "remember the coding (less than 26 means “black”, greater than 25 means\n",
    "“white”). We had to use that coding because we committed ourselves to\n",
    "using random numbers to simulate the outcomes.\n",
    "\n",
    "However, R can also store bits of text, called *strings*. Values that\n",
    "are bits of text can be very useful because the text values can be\n",
    "memorable labels for the entities we are sampling from, in our\n",
    "simulations.\n",
    "\n",
    "## 7.3 String values\n",
    "\n",
    "So far, all the values you have seen in R vectors have been numbers. Now\n",
    "we get on to values that are bits of text. These are called *strings*.\n",
    "\n",
    "Here is a single R string value:"
   ]
  },
  {
   "cell_type": "code",
   "execution_count": null,
   "id": "da4ff309",
   "metadata": {},
   "outputs": [],
   "source": [
    "s <- \"Resampling\"\n",
    "s"
   ]
  },
  {
   "cell_type": "markdown",
   "id": "68bc593d",
   "metadata": {},
   "source": [
    "We can see what type of value `v` holds by using the `class` function.\n",
    "\n",
    "For example, for a number value, you will usually find the `class` is\n",
    "`numeric`:"
   ]
  },
  {
   "cell_type": "code",
   "execution_count": null,
   "id": "edb1a88f",
   "metadata": {},
   "outputs": [],
   "source": [
    "v <- 10\n",
    "class(v)"
   ]
  },
  {
   "cell_type": "markdown",
   "id": "89ad378c",
   "metadata": {},
   "source": [
    "What is the `class` of the new bit-of-text value `s`?"
   ]
  },
  {
   "cell_type": "code",
   "execution_count": null,
   "id": "00e94123",
   "metadata": {},
   "outputs": [],
   "source": [
    "class(s)"
   ]
  },
  {
   "cell_type": "markdown",
   "id": "0d38f129",
   "metadata": {},
   "source": [
    "The R `character` value is a bit of text, and therefore consists of a\n",
    "sequence of characters.\n",
    "\n",
    "As vectors are containers for other things, such as numbers, strings are\n",
    "containers for characters.\n",
    "\n",
    "To get the length of a string, use the `nchar` function (Number of\n",
    "Characters):"
   ]
  },
  {
   "cell_type": "code",
   "execution_count": null,
   "id": "efcbcd75",
   "metadata": {},
   "outputs": [],
   "source": [
    "# Number of characters in s\n",
    "nchar(s)"
   ]
  },
  {
   "cell_type": "markdown",
   "id": "0bfc6bd5",
   "metadata": {},
   "source": [
    "R has a `substring` function that allows you to select individual\n",
    "characters or sequences of characters from a string. The arguments to\n",
    "`substring` are: first — the string; second — the index of the first\n",
    "character you want to select; and third — the index of the last\n",
    "character you want to select. For example to select the second character\n",
    "in the string you would specify 2 as the starting index, and 2 as the\n",
    "ending index, like this:"
   ]
  },
  {
   "cell_type": "code",
   "execution_count": null,
   "id": "856a4d85",
   "metadata": {},
   "outputs": [],
   "source": [
    "# Get the second character of the string\n",
    "second_char <- substring(s, 2, 2)\n",
    "second_char"
   ]
  },
  {
   "cell_type": "markdown",
   "id": "3b43ec3f",
   "metadata": {},
   "source": [
    "## 7.4 Strings in vectors\n",
    "\n",
    "As we can store numbers as elements in vectors, we can also store\n",
    "strings as vector elements."
   ]
  },
  {
   "cell_type": "code",
   "execution_count": null,
   "id": "cc8ebdd6",
   "metadata": {},
   "outputs": [],
   "source": [
    "vector_of_strings = c('Julian', 'Lincoln', 'Simon')\n",
    "vector_of_strings"
   ]
  },
  {
   "cell_type": "markdown",
   "id": "42b9fd0e",
   "metadata": {},
   "source": [
    "As for any vector, you can select elements with *indexing*. When you\n",
    "select an element with a given position (index), you get the *string* at\n",
    "at that position:"
   ]
  },
  {
   "cell_type": "code",
   "execution_count": null,
   "id": "3ff37274",
   "metadata": {},
   "outputs": [],
   "source": [
    "# Julian Lincoln Simon's second name\n",
    "middle_name <- vector_of_strings[2]\n",
    "middle_name"
   ]
  },
  {
   "cell_type": "markdown",
   "id": "f1746bd2",
   "metadata": {},
   "source": [
    "As for numbers, we can compare strings with, for example, the `==`\n",
    "operator, that asks whether the two strings are equal:"
   ]
  },
  {
   "cell_type": "code",
   "execution_count": null,
   "id": "1f7553a9",
   "metadata": {},
   "outputs": [],
   "source": [
    "middle_name == 'Lincoln'"
   ]
  },
  {
   "cell_type": "markdown",
   "id": "0e49f975",
   "metadata": {},
   "source": [
    "## 7.5 Repeating elements\n",
    "\n",
    "Now let us go back to the problem of selecting black and white jurors.\n",
    "\n",
    "We started with the strategy of using numbers 0 through 25 to mean\n",
    "“black” jurors, and 26 through 99 to mean “white” jurors. We selected\n",
    "values at random from 0 through 99, and then worked out whether the\n",
    "number meant a “black” juror (was less than 26) or a “white” juror (was\n",
    "greater than 25).\n",
    "\n",
    "It would be good to use strings instead of numbers to identify the\n",
    "potential jurors. Then we would not have to remember our coding of 0\n",
    "through 25 and 26 through 99.\n",
    "\n",
    "If only there was a way to make a vector of 100 strings, where 26 of the\n",
    "strings were “black” and 74 were “white”. Then we could select randomly\n",
    "from that array, and it would be immediately obvious that we had a\n",
    "“black” or “white” juror.\n",
    "\n",
    "Luckily, of course, we can do that, by using the `rep` function to\n",
    "construct the vector.\n",
    "\n",
    "Here is how that works:"
   ]
  },
  {
   "cell_type": "code",
   "execution_count": null,
   "id": "8f73073e",
   "metadata": {},
   "outputs": [],
   "source": [
    "# The values that we will repeat to fill up the larger array.\n",
    "juror_types <- c('black', 'white')\n",
    "# The number of times we want to repeat \"black\" and \"white\".\n",
    "repeat_nos <- c(26, 74)\n",
    "# Repeat \"black\" 26 times and \"white\" 74 times.\n",
    "jury_pool <- rep(juror_types, repeat_nos)\n",
    "# Show the result\n",
    "jury_pool"
   ]
  },
  {
   "cell_type": "markdown",
   "id": "440fffee",
   "metadata": {},
   "source": [
    "We can use this vector of repeats of strings, to sample from. The result\n",
    "is easier to grasp, because we are using the string labels, instead of\n",
    "numbers:"
   ]
  },
  {
   "cell_type": "code",
   "execution_count": null,
   "id": "3cbc8e56",
   "metadata": {},
   "outputs": [],
   "source": [
    "# Select one juror at random from the black / white pool.\n",
    "# replace=TRUE is redundant here, but we leave it for consistency.\n",
    "one_juror <- sample(jury_pool, 1, replace=TRUE)\n",
    "one_juror"
   ]
  },
  {
   "cell_type": "markdown",
   "id": "091e4392",
   "metadata": {},
   "source": [
    "We can select our full jury of 12 jurors, and see the results in a more\n",
    "obvious form:"
   ]
  },
  {
   "cell_type": "code",
   "execution_count": null,
   "id": "2718cfb6",
   "metadata": {},
   "outputs": [],
   "source": [
    "# Select one juror at random from the black / white pool.\n",
    "one_jury <- sample(jury_pool, 12, replace=TRUE)\n",
    "one_jury"
   ]
  },
  {
   "cell_type": "markdown",
   "id": "38caba5a",
   "metadata": {},
   "source": [
    "<div class=\"callout callout-style-default callout-note callout-titled\">\n",
    "\n",
    "<div class=\"callout-header d-flex align-content-center\">\n",
    "\n",
    "<div class=\"callout-icon-container\">\n",
    "\n",
    "<i class='callout-icon'></i>\n",
    "\n",
    "</div>\n",
    "\n",
    "<div class=\"callout-title-container flex-fill\">\n",
    "\n",
    "Using the `size` argument to `sample`\n",
    "\n",
    "</div>\n",
    "\n",
    "</div>\n",
    "\n",
    "<div class=\"callout-body-container callout-body\">\n",
    "\n",
    "In the code above, we have specified the *size* of the sample we want\n",
    "(12) with the second argument to `sample`. As you saw in\n",
    "<a href=\"#sec-named-arguments\" class=\"quarto-xref\"><span\n",
    "class=\"quarto-unresolved-ref\">sec-named-arguments</span></a>, we can\n",
    "also give names to the function arguments, in this case, to make it\n",
    "clearer what we mean by “12” in the code above. In fact, from now on,\n",
    "that is what we will do; we will specify the *size* of our sample by\n",
    "using the *name* for the function argument to `sample` — `size` — like\n",
    "this:"
   ]
  },
  {
   "cell_type": "code",
   "execution_count": null,
   "id": "1ab91c68",
   "metadata": {},
   "outputs": [],
   "source": [
    "# Select one juror at random from the black / white pool.\n",
    "# Specify the sample size using the \"size\" named argument.\n",
    "one_jury <- sample(jury_pool, size=12, replace=TRUE)\n",
    "one_jury"
   ]
  },
  {
   "cell_type": "markdown",
   "id": "5e385a97",
   "metadata": {},
   "source": [
    "</div>\n",
    "\n",
    "</div>\n",
    "\n",
    "We can use `==` on the vector to get `TRUE` values where the juror was\n",
    "“black” and `FALSE` values otherwise:"
   ]
  },
  {
   "cell_type": "code",
   "execution_count": null,
   "id": "fe731641",
   "metadata": {},
   "outputs": [],
   "source": [
    "are_black <- one_jury == 'black'\n",
    "are_black"
   ]
  },
  {
   "cell_type": "markdown",
   "id": "607e2934",
   "metadata": {},
   "source": [
    "Finally, we can `sum` to find the number of black jurors\n",
    "(<a href=\"#sec-count-with-sum\" class=\"quarto-xref\"><span\n",
    "class=\"quarto-unresolved-ref\">sec-count-with-sum</span></a>):"
   ]
  },
  {
   "cell_type": "code",
   "execution_count": null,
   "id": "32e5066e",
   "metadata": {},
   "outputs": [],
   "source": [
    "# Number of black jurors in this simulated jury.\n",
    "n_black <- sum(are_black)\n",
    "n_black"
   ]
  },
  {
   "cell_type": "markdown",
   "id": "91f02216",
   "metadata": {},
   "source": [
    "Putting that all together, this is our new procedure to select one jury\n",
    "and count the number of black jurors:"
   ]
  },
  {
   "cell_type": "code",
   "execution_count": null,
   "id": "fb00d253",
   "metadata": {},
   "outputs": [],
   "source": [
    "one_jury <- sample(jury_pool, size=12, replace=TRUE)\n",
    "are_black <- one_jury == 'black'\n",
    "n_black <- sum(are_black)\n",
    "n_black"
   ]
  },
  {
   "cell_type": "markdown",
   "id": "d28276e5",
   "metadata": {},
   "source": [
    "Or we can be even more compact by putting several statements together\n",
    "into one line:"
   ]
  },
  {
   "cell_type": "code",
   "execution_count": null,
   "id": "ec57391c",
   "metadata": {},
   "outputs": [],
   "source": [
    "# The same as above, but on one line.\n",
    "n_black = sum(sample(jury_pool, size=12, replace=TRUE) == 'black')\n",
    "n_black"
   ]
  },
  {
   "cell_type": "markdown",
   "id": "4c46c864",
   "metadata": {},
   "source": [
    "## 7.6 Resampling with and without replacement\n",
    "\n",
    "Now let us return to the details of Robert Swain’s case, that you first\n",
    "saw in <a href=\"#sec-resampling-two\" class=\"quarto-xref\"><span\n",
    "class=\"quarto-unresolved-ref\">sec-resampling-two</span></a>.\n",
    "\n",
    "We looked at the composition of Robert Swain’s 12-person jury — but in\n",
    "fact, by law, that does not have to be representative of the eligible\n",
    "jurors. The 12-person jury is drawn from a jury *panel*, of 100 people,\n",
    "and this should, in turn, be drawn from the population of all eligible\n",
    "jurors in the county, consisting, at the time, of “all male citizens in\n",
    "the community over 21 who are reputed to be honest, intelligent men and\n",
    "are esteemed for their integrity, good character and sound judgment.”\n",
    "So, unless there was some bias against black jurors, we might expect the\n",
    "100-person jury panel to be a plausibly random sample of the eligible\n",
    "jurors, of whom 26% were black. See [the Supreme Court case\n",
    "judgement](https://supreme.justia.com/cases/federal/us/380/202) for\n",
    "details.\n",
    "\n",
    "In fact, in Robert Swain’s trial, there were 8 black members in the\n",
    "100-person jury panel. We will leave it to you to adapt the simulation\n",
    "from <a href=\"#sec-resampling-two\" class=\"quarto-xref\"><span\n",
    "class=\"quarto-unresolved-ref\">sec-resampling-two</span></a> to ask the\n",
    "question — is 8% surprising as a random sample from a population with\n",
    "26% black people?\n",
    "\n",
    "But we have a different question: given that 8 out of 100 of the jury\n",
    "panel were black, is it surprising that none of the 12-person jury were\n",
    "black? As usual, we can answer that question with simulation.\n",
    "\n",
    "Let’s think about what a single simulated jury selection would look\n",
    "like.\n",
    "\n",
    "First we compile a representation of the actual jury panel, using the\n",
    "tools we have used above."
   ]
  },
  {
   "cell_type": "code",
   "execution_count": null,
   "id": "eef4672d",
   "metadata": {},
   "outputs": [],
   "source": [
    "juror_types <- c('black', 'white')\n",
    "# in fact there were 8 black jurors and 92 white jurors.\n",
    "panel_nos <- c(8, 92)\n",
    "jury_panel <- rep(juror_types, panel_nos)\n",
    "# Show the result\n",
    "jury_panel"
   ]
  },
  {
   "cell_type": "markdown",
   "id": "df0625d3",
   "metadata": {},
   "source": [
    "Now consider taking a 12-person jury at random from this panel. We\n",
    "select the first juror at random, so that juror has an 8 out of 100\n",
    "chance of being black. But when we select the second jury member, the\n",
    "situation has changed slightly. We can’t select the first juror again,\n",
    "so our panel is now 99 people. If our first juror was black, then the\n",
    "chances of selecting another black juror next are not 8 out of 100, but\n",
    "7 out of 99 — a smaller chance. The problem is, as we shall see in more\n",
    "detail later, the chances of getting a black juror as the second, and\n",
    "third and fourth members of the jury depend on whether we selected a\n",
    "black juror as the first and second and third jury members. At its most\n",
    "extreme, imagine we had already selected eight jurors, and by some\n",
    "strange chance, all eight were black. Now our chances of selecting a\n",
    "black juror as the ninth juror are zero — there are no black jurors left\n",
    "to select from the panel.\n",
    "\n",
    "In this case we are selecting jurors from the panel *without\n",
    "replacement*, meaning, that once we have selected a particular juror, we\n",
    "cannot select them again, and we do not put them back into the panel\n",
    "when we select our next juror.\n",
    "\n",
    "This is the probability equivalent of the situation when you are dealing\n",
    "a hand of cards. Let’s say someone is dealing you, and you only, a hand\n",
    "of five cards. You get an ace as your first card. Your chances of\n",
    "getting an ace as your first card were just the number of aces in the\n",
    "deck divided by the number of cards — four in 52 – $\\frac{4}{52}$. But\n",
    "for your second card, the probability has changed, because there is one\n",
    "less ace remaining in the pack, and one less card, so your chances of\n",
    "getting an ace as your second card are now $\\frac{3}{51}$. This is\n",
    "sampling without replacement — in a normal game, you can’t get the same\n",
    "card twice. Of course, you could imagine getting a hand where you\n",
    "sampled *with replacement*. In that case, you’d get a card, you’d write\n",
    "down what it was, and you’d give the card back to the dealer, who would\n",
    "*replace* the card in the deck, shuffle again, and give you another\n",
    "card.\n",
    "\n",
    "As you can see, the chances change if you are sampling with or without\n",
    "replacement, and the kind of sampling you do, will dictate how you model\n",
    "your chances in your simulations.\n",
    "\n",
    "Because this distinction is so common, and so important, the machinery\n",
    "you have already seen in `sample` has simple ways for you to select your\n",
    "sampling type. You have already seen sampling *with replacement*, and it\n",
    "looks like this:"
   ]
  },
  {
   "cell_type": "code",
   "execution_count": null,
   "id": "436a74fc",
   "metadata": {},
   "outputs": [],
   "source": [
    "# Take a sample of 12 jurors from the panel *with replacement*\n",
    "strange_jury <- sample(jury_panel, size=12, replace=TRUE)\n",
    "strange_jury"
   ]
  },
  {
   "cell_type": "markdown",
   "id": "787df0e6",
   "metadata": {},
   "source": [
    "This is a strange jury, because it can select any member of the jury\n",
    "pool more than once. Perhaps that juror would have to fill two (or\n",
    "more!) seats, or run quickly between them. But of course, that is not\n",
    "how juries are selected. They are selected *without replacement*:\n",
    "\n",
    "Thus far, we have always done sampling *with replacement*, and, in order\n",
    "to do that with `sample`, we pass the argument `replace=TRUE`. We do\n",
    "that because the default for `sample` is `replace=FALSE`, that is, by\n",
    "default, `sample` does sampling without replacement. If you want to do\n",
    "sampling without replacement, you can just omit the `replace=TRUE`\n",
    "argument to `sample`, or you can specify `replace=FALSE` explicitly,\n",
    "perhaps to remind yourself that this is sampling without replacement.\n",
    "Whether you omit the `replace` argument, or specify `replace=FALSE`, the\n",
    "behavior is the same."
   ]
  },
  {
   "cell_type": "code",
   "execution_count": null,
   "id": "c13820d4",
   "metadata": {},
   "outputs": [],
   "source": [
    "# Take a sample of 12 jurors from the panel *with replacement*\n",
    "# replace=FALSE is the default for sample.\n",
    "ok_jury <- sample(jury_panel, size=12)\n",
    "ok_jury"
   ]
  },
  {
   "cell_type": "markdown",
   "id": "47f2a18d",
   "metadata": {},
   "source": [
    "<div class=\"callout callout-style-default callout-note callout-titled\">\n",
    "\n",
    "<div class=\"callout-header d-flex align-content-center\">\n",
    "\n",
    "<div class=\"callout-icon-container\">\n",
    "\n",
    "<i class='callout-icon'></i>\n",
    "\n",
    "</div>\n",
    "\n",
    "<div class=\"callout-title-container flex-fill\">\n",
    "\n",
    "Comments at the end of lines\n",
    "\n",
    "</div>\n",
    "\n",
    "</div>\n",
    "\n",
    "<div class=\"callout-body-container callout-body\">\n",
    "\n",
    "You have already seen comment lines. These are lines beginning with `#`,\n",
    "to signal to R that the rest of the line is text for humans to read, but\n",
    "R to ignore."
   ]
  },
  {
   "cell_type": "code",
   "execution_count": null,
   "id": "c061a086",
   "metadata": {},
   "outputs": [],
   "source": [
    "# This is a comment.  R ignores this line."
   ]
  },
  {
   "cell_type": "markdown",
   "id": "25a79053",
   "metadata": {},
   "source": [
    "You can also put comments at the *end of code lines*, by finishing the\n",
    "code part of the line, and then putting a `#`, followed by more text.\n",
    "Again, R will ignore everything after the `#` as a text for humans, but\n",
    "not for R."
   ]
  },
  {
   "cell_type": "code",
   "execution_count": null,
   "id": "a3572901",
   "metadata": {},
   "outputs": [],
   "source": [
    "message('Hello')  # This is a comment at the end of the line."
   ]
  },
  {
   "cell_type": "markdown",
   "id": "dd6dcf74",
   "metadata": {},
   "source": [
    "</div>\n",
    "\n",
    "</div>\n",
    "\n",
    "To finish the procedure for simulating a single jury selection, we count\n",
    "the number of black jurors:"
   ]
  },
  {
   "cell_type": "code",
   "execution_count": null,
   "id": "11c4cee5",
   "metadata": {},
   "outputs": [],
   "source": [
    "n_black <- sum(ok_jury == 'black')  # How many black jurors?\n",
    "n_black"
   ]
  },
  {
   "cell_type": "markdown",
   "id": "74175f76",
   "metadata": {},
   "source": [
    "Now we have the procedure for one simulated trial, here is the procedure\n",
    "for 10000 simulated trials."
   ]
  },
  {
   "cell_type": "code",
   "execution_count": null,
   "id": "3482eff9",
   "metadata": {},
   "outputs": [],
   "source": [
    "counts <- numeric(10000)\n",
    "for (i in 1:10000) {\n",
    "    # Single trial procedure\n",
    "    jury <- sample(jury_panel, size=12)  # replace=FALSE is the default.\n",
    "    n_black <- sum(jury == 'black')  # How many black jurors?\n",
    "    # Store the result\n",
    "    counts[i] <- n_black\n",
    "}\n",
    "# Number of juries with 0 black jurors.\n",
    "zero_black <- sum(counts == 0)\n",
    "# Proportion\n",
    "p_zero_black <- zero_black / 10000\n",
    "message(p_zero_black)"
   ]
  },
  {
   "cell_type": "markdown",
   "id": "82987b8f",
   "metadata": {},
   "source": [
    "We have found that, when there are only 8% black jurors in the jury\n",
    "panel, having no black jurors in the final jury happens about 34% of the\n",
    "time, even in this case, where the jury is selected completely at random\n",
    "from the jury panel.\n",
    "\n",
    "We should look for the main source of bias in the initial selection of\n",
    "the jury panel, not in the selection of the jury from the panel.\n"
   ]
  }
 ],
 "metadata": {
  "jupytext": {
   "cell_metadata_filter": "-all",
   "main_language": "R",
   "notebook_metadata_filter": "-all"
  },
  "kernelspec": {
   "display_name": "R (webR)",
   "name": "webR"
  }
 },
 "nbformat": 4,
 "nbformat_minor": 5
}
