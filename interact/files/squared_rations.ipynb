{
 "cells": [
  {
   "cell_type": "markdown",
   "id": "9a120ee9",
   "metadata": {},
   "source": [
    "# Sum of squared differences for pig rations"
   ]
  },
  {
   "cell_type": "markdown",
   "id": "77d6d52b",
   "metadata": {},
   "source": [
    "Here we are working on the question — are the observed differences\n",
    "between pig ration measured weight gains for different rations greater\n",
    "than we would expect to see as a result of random sampling in the\n",
    "null-world."
   ]
  },
  {
   "cell_type": "code",
   "execution_count": null,
   "id": "d2269c2c",
   "metadata": {},
   "outputs": [],
   "source": [
    "# Load data file.\n",
    "# Read data from web URL instead of local data directory\n",
    "# (so that notebook works in online version).\n",
    "rations_df <- read.csv('https://resampling-stats.github.io/data/pig_rations.csv')\n",
    "# Show the first six rows.\n",
    "head(rations_df)"
   ]
  },
  {
   "cell_type": "code",
   "execution_count": null,
   "id": "0f3072f4",
   "metadata": {},
   "outputs": [],
   "source": [
    "# Get vectors for each ration.\n",
    "# A\n",
    "a_rows <- subset(rations_df, rations_df$ration == 'A')\n",
    "a_weights <- a_rows$weight_gain\n",
    "# B\n",
    "b_rows <- subset(rations_df, rations_df$ration == 'B')\n",
    "b_weights <- b_rows$weight_gain\n",
    "# C\n",
    "c_rows <- subset(rations_df, rations_df$ration == 'C')\n",
    "c_weights <- c_rows$weight_gain\n",
    "# D\n",
    "d_rows <- subset(rations_df, rations_df$ration == 'D')\n",
    "d_weights <- d_rows$weight_gain\n",
    "# Concatenate into one long vector.\n",
    "all_weights <- c(a_weights, b_weights, c_weights, d_weights)\n",
    "# Show the concatenated vector.\n",
    "all_weights"
   ]
  },
  {
   "cell_type": "code",
   "execution_count": null,
   "id": "2d1686ff",
   "metadata": {},
   "outputs": [],
   "source": [
    "n_trials <- 10000\n",
    "\n",
    "# An vector to store the result of each trial.\n",
    "results <- numeric(n_trials)\n",
    "\n",
    "# Do 10000 trials\n",
    "for (i in 1:n_trials) {\n",
    "    # Shuffle all the weight gains.\n",
    "    shuffled <- sample(all_weights)\n",
    "    # Split into 4 now random samples.\n",
    "    fake_a <- shuffled[1:12]\n",
    "    fake_b <- shuffled[13:24]\n",
    "    fake_c <- shuffled[25:36]\n",
    "    fake_d <- shuffled[37:48]\n",
    "    # Sum the weight gains for the 4 resamples.\n",
    "    sum_a <- sum(fake_a)\n",
    "    sum_b <- sum(fake_b)\n",
    "    sum_c <- sum(fake_c)\n",
    "    sum_d <- sum(fake_d)\n",
    "    # Find the differences between all the possible pairs of resamples.\n",
    "    a_b <- sum_a - sum_b\n",
    "    a_c <- sum_a - sum_c\n",
    "    a_d <- sum_a - sum_d\n",
    "    b_c <- sum_b - sum_c\n",
    "    b_d <- sum_b - sum_d\n",
    "    c_d <- sum_c - sum_d\n",
    "    # Put the differences into an vector.\n",
    "    fake_diffs <- c(a_b, a_c, a_d, b_c, b_d, c_d)\n",
    "    # Square them to give six squared differences.\n",
    "    sq_fake_diffs <- fake_diffs ** 2\n",
    "    # Sum the squares.\n",
    "    sum_sq_fake_diffs <- sum(sq_fake_diffs)\n",
    "    # Keep track of the total for each trial.\n",
    "    results[i] <- sum_sq_fake_diffs\n",
    "    # End one trial, go back and repeat until 10000 trials are complete.\n",
    "}\n",
    "\n",
    "# Produce a histogram of the trial results.\n",
    "hist(results, breaks=25,\n",
    "    main='Null distribution of sum of squared differences',\n",
    "    xlab='Sum of squared differences in null world')\n",
    "\n",
    "# Find out how many trials produced differences among groups as great as\n",
    "# or greater than those observed.\n",
    "k <- sum(results >= 5299)\n",
    "# Convert to a proportion.\n",
    "kk <- k / n_trials\n",
    "# Print the result.\n",
    "message('Number of sum of squared differences >= 5299: ', kk)"
   ]
  }
 ],
 "metadata": {
  "jupytext": {
   "cell_metadata_filter": "-all",
   "main_language": "R",
   "notebook_metadata_filter": "-all"
  },
  "kernelspec": {
   "display_name": "R (webR)",
   "name": "webR"
  }
 },
 "nbformat": 4,
 "nbformat_minor": 5
}
