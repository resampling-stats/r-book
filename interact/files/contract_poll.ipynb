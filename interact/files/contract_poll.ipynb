{
 "cells": [
  {
   "cell_type": "markdown",
   "id": "132021ef",
   "metadata": {},
   "source": [
    "# Contract poll simulation"
   ]
  },
  {
   "cell_type": "markdown",
   "id": "09075217",
   "metadata": {},
   "source": [
    "This R notebook generates samples of 50 simulated voters on the\n",
    "assumption that only 50 percent are in favor of the contract. Then it\n",
    "counts (`sum`s) the number of samples where over 29 (30 or more) of the\n",
    "50 respondents said they were in favor of the contract. (That is, we use\n",
    "a “one-tailed test.”) The result in the `kk` variable is the chance of a\n",
    "“false positive,” that is, 30 or more people saying they favor a\n",
    "contract when support for the proposal is actually split evenly down the\n",
    "middle."
   ]
  },
  {
   "cell_type": "code",
   "execution_count": null,
   "id": "e8b0c358",
   "metadata": {},
   "outputs": [],
   "source": [
    "# We will do 10,000 iterations.\n",
    "n <- 10000\n",
    "\n",
    "# Make an array of integers to store the \"Yes\" counts.\n",
    "yeses <- numeric(n)\n",
    "\n",
    "for (i in 1:n) {\n",
    "    answers <- sample(c('No', 'Yes'), size=50, replace=TRUE)\n",
    "    yeses[i] <- sum(answers == 'Yes')\n",
    "}\n",
    "\n",
    "# Produce a histogram of the trial results.\n",
    "# Use integer bins for histogram, from 10 through 40.\n",
    "hist(yeses, breaks=10:40,\n",
    "     main='Number of yes votes out of 50, in null universe')"
   ]
  },
  {
   "cell_type": "markdown",
   "id": "f2649c7a",
   "metadata": {},
   "source": [
    "In the histogram above, we see that about 11 percent of our trials had\n",
    "30 or more voters in favor, despite the fact that they were drawn from a\n",
    "population that was split 50-50. R will calculate this proportion\n",
    "directly if we add the following commands to the above:"
   ]
  },
  {
   "cell_type": "code",
   "execution_count": null,
   "id": "11f2d180",
   "metadata": {},
   "outputs": [],
   "source": [
    "k <- sum(yeses >= 30)\n",
    "kk <- k / n\n",
    "message('Proportion >= 30: ', round(kk, 2))"
   ]
  }
 ],
 "metadata": {
  "jupytext": {
   "cell_metadata_filter": "-all",
   "main_language": "R",
   "notebook_metadata_filter": "-all"
  },
  "kernelspec": {
   "display_name": "R (webR)",
   "name": "webR"
  }
 },
 "nbformat": 4,
 "nbformat_minor": 5
}
