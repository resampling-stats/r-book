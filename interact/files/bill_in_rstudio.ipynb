{
 "cells": [
  {
   "cell_type": "markdown",
   "id": "9f54091a",
   "metadata": {},
   "source": [
    "# The Bill but in RStudio"
   ]
  },
  {
   "cell_type": "markdown",
   "id": "8e659a47",
   "metadata": {},
   "source": [
    "Notice that the Download link gave you a file ending in `.Rmd`, where\n",
    "“Rmd” is short for *RMarkdown*. *RMarkdown* is the name of the notebook\n",
    "format — and it is the native notebook format for RStudio. The `.Rmd`\n",
    "file is an RMarkdown version of the notebook.\n",
    "\n",
    "Open the `bill_in_rstudio.Rmd` file in RStudio.\n",
    "\n",
    "RStudio’s idea of a notebook is very similar to Jupyter’s — and this is\n",
    "not a coincidence, the Jupyter notebook was already popular when RStudio\n",
    "came up with its own take on this idea.\n",
    "\n",
    "However, there are some differences between Jupyter and RStudio in the\n",
    "way that they think about notebooks, and in the notebook interface.\n",
    "\n",
    "To start with the interface, notice that RStudio has its own menu, with\n",
    "“File”, “Edit”, etc. Each notebook has its own tab in the interface. If\n",
    "you have just opened this notebook, and no others, you will only have\n",
    "one tab, corresponding to this notebook. Depending on your\n",
    "configuration, you may also have other windows inside the RStudio\n",
    "window, for example, showing the variables defined in R, and the files\n",
    "in the same directory as the notebook.\n",
    "\n",
    "Identify the notebook tab — the tab containing this file. You will\n",
    "notice that the notebook tab has a *notebook toolbar* at the top. We\n",
    "will come to that soon.\n",
    "\n",
    "We have started with the interface, but now we return to RStudio’s\n",
    "slightly different concept of a notebook, compared to Jupyter.\n",
    "\n",
    "For example, Jupyter thinks in terms of *cells*. All content in a\n",
    "Jupyter notebook has a containing cell; text cells contain text, and\n",
    "code cells contain code. In a Jupyter notebook, this text would be\n",
    "inside a text cell.\n",
    "\n",
    "RStudio notebook thinks of the notebook differently. It conceives of the\n",
    "notebook as being text, by default. Within the text, there may be *code\n",
    "chunks*. These are the equivalent of Jupyter’s code cells — they are\n",
    "blocks of code you can execute within the notebook. The notebook\n",
    "interface displays any output from the code, including plots.\n",
    "\n",
    "For example, the following is a *code chunk* (in RMarkdown terms):"
   ]
  },
  {
   "cell_type": "code",
   "execution_count": null,
   "id": "d4f79ce8",
   "metadata": {},
   "outputs": [],
   "source": [
    "# The cost of Alex's meal.\n",
    "# alex_meal gets the value 10.50\n",
    "alex_meal <- 10.50\n",
    "# Display the cost of Alex's meal.\n",
    "alex_meal"
   ]
  },
  {
   "cell_type": "markdown",
   "id": "9ccd345a",
   "metadata": {},
   "source": [
    "Now we return to the interface. Click inside the code chunk above.\n",
    "Notice that the code chunk is grey, compared to the usual default white\n",
    "for the rest of the notebook. At the top left of the code chunk, you\n",
    "will see a *play* icon. Click this to run the code and see the results.\n",
    "\n",
    "There are various other ways of running code chunks. For example, the\n",
    "*notebook toolbar* that you identified about has icons that allow you\n",
    "run the code. In particular, there is a “Run” icon that triggers a\n",
    "drop-down menu, with options for running this and other code chunks. You\n",
    "will soon find yourself wanting the keyboard shortcuts to run\n",
    "code-chunks — please do start using these as early as you can — you will\n",
    "find they make you much more efficient and fluent in using notebooks in\n",
    "RStudio. To see the shortcuts, find the main RStudio menu, and select\n",
    "“Keyboard Shortcuts Help” for more information.\n",
    "\n",
    "We will leave you with this brief introduction, and point you out into\n",
    "the interwebs to search for good tutorials on using RStudio. Books\n",
    "always get out of date quickly, so we won’t risk instant obsolescence by\n",
    "recommending particular pages or videos here."
   ]
  }
 ],
 "metadata": {
  "jupytext": {
   "cell_metadata_filter": "-all",
   "main_language": "R",
   "notebook_metadata_filter": "-all"
  },
  "kernelspec": {
   "display_name": "R (webR)",
   "name": "webR"
  }
 },
 "nbformat": 4,
 "nbformat_minor": 5
}
