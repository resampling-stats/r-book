{
 "cells": [
  {
   "cell_type": "markdown",
   "id": "2ba01018",
   "metadata": {},
   "source": [
    "# One pair"
   ]
  },
  {
   "cell_type": "markdown",
   "id": "d394db4b",
   "metadata": {},
   "source": [
    "This is a simulation to find the probability of exactly one pair in a\n",
    "poker hand of five cards."
   ]
  },
  {
   "cell_type": "code",
   "execution_count": null,
   "id": "2d7e09d5",
   "metadata": {},
   "outputs": [],
   "source": [
    "# Create a bucket (vector) called a with four \"1's,\" four \"2's,\" four \"3's,\"\n",
    "# etc., to represent a deck of cards\n",
    "one_suit = 1:13\n",
    "one_suit"
   ]
  },
  {
   "cell_type": "code",
   "execution_count": null,
   "id": "547ec51e",
   "metadata": {},
   "outputs": [],
   "source": [
    "# Repeat values for one suit four times to make a 52 card deck of values.\n",
    "deck <- rep(one_suit, 4)\n",
    "deck"
   ]
  },
  {
   "cell_type": "code",
   "execution_count": null,
   "id": "dcb8bccd",
   "metadata": {},
   "outputs": [],
   "source": [
    "# Vector to store result of each trial.\n",
    "z <- numeric(10000)\n",
    "\n",
    "# Repeat the following steps 10000 times\n",
    "for (i in 1:10000) {\n",
    "    # Shuffle the deck\n",
    "    shuffled <- sample(deck)\n",
    "\n",
    "    # Take the first five cards to make a hand.\n",
    "    hand = shuffled[1:5]\n",
    "\n",
    "    # How many pairs?\n",
    "    # Counts for each card rank.\n",
    "    repeat_nos <- tabulate(hand)\n",
    "    n_pairs <- sum(repeat_nos == 2)\n",
    "\n",
    "    # Keep score of # of pairs\n",
    "    z[i] <- n_pairs\n",
    "\n",
    "    # End loop, go back and repeat\n",
    "}\n",
    "\n",
    "# How often was there 1 pair?\n",
    "k <- sum(z == 1)\n",
    "\n",
    "# Convert to proportion.\n",
    "kk = k / 10000\n",
    "\n",
    "# Show the result.\n",
    "message(kk)"
   ]
  }
 ],
 "metadata": {
  "jupytext": {
   "cell_metadata_filter": "-all",
   "main_language": "R",
   "notebook_metadata_filter": "-all"
  },
  "kernelspec": {
   "display_name": "R (webR)",
   "name": "webR"
  }
 },
 "nbformat": 4,
 "nbformat_minor": 5
}
