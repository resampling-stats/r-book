{
 "cells": [
  {
   "cell_type": "markdown",
   "id": "40334fbe",
   "metadata": {},
   "source": [
    "# Do Slugs hits and misses tend to cluster?"
   ]
  },
  {
   "cell_type": "markdown",
   "id": "9c6204d3",
   "metadata": {},
   "source": [
    "We will draw 100 values at random with a 25% probability of a Hit, and\n",
    "75% probability of a miss. Treat these as a sequence of Hits and Misses\n",
    "from the null-world. Do these random draws cluster more or less than\n",
    "Slug’s own sequences of hits and misses?\n",
    "\n",
    "First let us work out how to calculate the number of clusters as defined\n",
    "above.\n",
    "\n",
    "This is Slug’s record:"
   ]
  },
  {
   "cell_type": "code",
   "execution_count": null,
   "id": "cd4cba1e",
   "metadata": {},
   "outputs": [],
   "source": [
    "slug = c(\n",
    "    'X', 'X', 'X', 'X', 'X', 'X', 'H', 'X', 'X', 'H', 'X', 'H', 'H', 'X', 'X',\n",
    "    'X', 'X', 'X', 'X', 'X', 'X', 'H', 'X', 'X', 'X', 'X', 'X', 'H', 'X', 'X',\n",
    "    'X', 'X', 'H', 'H', 'X', 'X', 'X', 'X', 'X', 'H', 'X', 'X', 'H', 'X', 'H',\n",
    "    'X', 'X', 'X', 'H', 'H', 'X', 'X', 'X', 'X', 'X', 'H', 'X', 'H', 'X', 'X',\n",
    "    'X', 'X', 'H', 'H', 'X', 'H', 'H', 'X', 'X', 'X', 'X', 'X', 'X', 'X', 'X',\n",
    "    'X', 'X', 'H', 'X', 'X', 'X', 'H', 'X', 'X', 'H', 'X', 'X', 'H', 'X', 'H',\n",
    "    'X', 'X', 'H', 'X', 'X', 'X', 'H', 'X', 'X', 'X'\n",
    ")"
   ]
  },
  {
   "cell_type": "markdown",
   "id": "a0a7c844",
   "metadata": {},
   "source": [
    "Here’s how we can calculate the number of runs:"
   ]
  },
  {
   "cell_type": "code",
   "execution_count": null,
   "id": "c55d06d3",
   "metadata": {},
   "outputs": [],
   "source": [
    "slug_runs <- 0\n",
    "current_element <- 'start-marker'  # Something that is always != to the elements.\n",
    "for (element in slug) {\n",
    "    if (element != current_element) {  # The previous cluster has finished.\n",
    "        slug_runs <- slug_runs + 1  # Record we are in a new cluster.\n",
    "        current_element <- element  # Give the starting element for the new cluster.\n",
    "    }\n",
    "}\n",
    "# Show the count.\n",
    "slug_runs"
   ]
  },
  {
   "cell_type": "markdown",
   "id": "16ccfd5c",
   "metadata": {},
   "source": [
    "For practice, let us count the number of clusters in the random set of\n",
    "cards above:"
   ]
  },
  {
   "cell_type": "code",
   "execution_count": null,
   "id": "77a4026f",
   "metadata": {},
   "outputs": [],
   "source": [
    "random_hand = c(\n",
    "    'X', 'X', 'H', 'X', 'X', 'X', 'X', 'H', 'H', 'X', 'X', 'X', 'H', 'H', 'H',\n",
    "    'X', 'X', 'X', 'X', 'X', 'H', 'X', 'X', 'X', 'H', 'X', 'X', 'H', 'X', 'X',\n",
    "    'X', 'X', 'H', 'X', 'H', 'H', 'X', 'X', 'X', 'X', 'X', 'X', 'X', 'X', 'X',\n",
    "    'H', 'X', 'X', 'X', 'X', 'X', 'X', 'H', 'H', 'X', 'X', 'X', 'X', 'X', 'H',\n",
    "    'H', 'H', 'X', 'X', 'X', 'X', 'X', 'X', 'H', 'X', 'H', 'X', 'H', 'X', 'X',\n",
    "    'H', 'X', 'H', 'X', 'X', 'X', 'X', 'X', 'X', 'X', 'X', 'X', 'H', 'X', 'X',\n",
    "    'X', 'X', 'X', 'X', 'X', 'H', 'H', 'H', 'X', 'X'\n",
    ")\n",
    "random_runs <- 0\n",
    "current_element <- 'start-marker'  # Something that is always != to the elements.\n",
    "for (element in random_hand) {\n",
    "    if (element != current_element) {  # The previous cluster has finished.\n",
    "        random_runs <- random_runs + 1  # Record we are in a new cluster.\n",
    "        current_element <- element  # Give the starting element for the new cluster.\n",
    "    }\n",
    "}\n",
    "# Show the result.\n",
    "random_runs"
   ]
  },
  {
   "cell_type": "markdown",
   "id": "404f7260",
   "metadata": {},
   "source": [
    "We will use that code in the procedure below."
   ]
  },
  {
   "cell_type": "code",
   "execution_count": null,
   "id": "48f37142",
   "metadata": {},
   "outputs": [],
   "source": [
    "# Set the number of trials.\n",
    "n_trials <- 10000\n",
    "\n",
    "# An empty array to store the trials.\n",
    "results <- numeric(n_trials)\n",
    "\n",
    "for (i in 1:n_trials) {\n",
    "    # Sample 100 \"at-bats\" with Slug's own probabilities.\n",
    "    hits_misses <- sample(c('H', 'X'), size=100, replace=TRUE, prob=c(0.25, 0.75))\n",
    "    # How many runs (of any length >=1) are there in the 100 at-bats?\n",
    "    fake_runs <- 0\n",
    "    current_element <- 'start-marker'  # Something always != to the elements.\n",
    "    for (element in hits_misses) {\n",
    "        if (element != current_element) {  # The previous cluster has finished.\n",
    "            fake_runs <- fake_runs + 1  # Record we are in a new cluster.\n",
    "            current_element <- element  # Give the starting element for the new cluster.\n",
    "        }\n",
    "    }\n",
    "    # Record the result.\n",
    "    results[i] <- fake_runs\n",
    "}\n",
    "\n",
    "hist(results, breaks=25,\n",
    "    main='Distribution of number of clusters in random hit/miss arrays',\n",
    "    xlab='Number of clusters')"
   ]
  },
  {
   "cell_type": "markdown",
   "id": "d6430e2b",
   "metadata": {},
   "source": [
    "Examining the histogram, we see that 43 runs is not at all an unusual\n",
    "occurrence."
   ]
  }
 ],
 "metadata": {
  "jupytext": {
   "cell_metadata_filter": "-all",
   "main_language": "R",
   "notebook_metadata_filter": "-all"
  },
  "kernelspec": {
   "display_name": "R (webR)",
   "name": "webR"
  }
 },
 "nbformat": 4,
 "nbformat_minor": 5
}
