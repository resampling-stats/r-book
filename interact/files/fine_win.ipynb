{
 "cells": [
  {
   "cell_type": "markdown",
   "id": "8965622b",
   "metadata": {},
   "source": [
    "# Fine day and win"
   ]
  },
  {
   "cell_type": "markdown",
   "id": "c06d0185",
   "metadata": {},
   "source": [
    "This notebook calculates the chances that the Commanders win on a fine\n",
    "day.\n",
    "\n",
    "We also go through the logic of the `if` statement, and its associated\n",
    "`else` clause."
   ]
  },
  {
   "cell_type": "code",
   "execution_count": null,
   "id": "976af848",
   "metadata": {},
   "outputs": [],
   "source": [
    "# blue means \"nice day\", yellow means \"not nice\".\n",
    "bucket_A <- rep(c('blue', 'yellow'), c(7, 3))\n",
    "bucket_A"
   ]
  },
  {
   "cell_type": "markdown",
   "id": "192548d9",
   "metadata": {},
   "source": [
    "Now let us draw a ball at random from bucket_A:"
   ]
  },
  {
   "cell_type": "code",
   "execution_count": null,
   "id": "4d077f16",
   "metadata": {},
   "outputs": [],
   "source": [
    "a_ball <- sample(bucket_A, size=1)\n",
    "a_ball"
   ]
  },
  {
   "cell_type": "markdown",
   "id": "211dd292",
   "metadata": {},
   "source": [
    "How we run our first `if` statement. Running this code will display “The\n",
    "ball was blue” if the ball was blue, otherwise it will not display\n",
    "anything:"
   ]
  },
  {
   "cell_type": "code",
   "execution_count": null,
   "id": "723b4d08",
   "metadata": {},
   "outputs": [],
   "source": [
    "if (a_ball == 'blue') {\n",
    "    message('The ball was blue')\n",
    "}"
   ]
  },
  {
   "cell_type": "markdown",
   "id": "50d241bd",
   "metadata": {},
   "source": [
    "Notice that the header line has `if`, followed by an open parenthesis\n",
    "`(` introducing the *conditional expression* `a_ball == 'blue'`. There\n",
    "follows close parenthesis `)` to finish the conditional expression. Next\n",
    "there is a open curly brace `{` to signal the start of the body of the\n",
    "`if` statement. The *body* of the `if` statement is one or more lines of\n",
    "code, followed by the close curly brace `}`. Here there is only one\n",
    "line: `message('The ball was blue')`. R only runs the body of the if\n",
    "statement if the *condition* is `TRUE`.[^1]\n",
    "\n",
    "To confirm we see “The ball was blue” if `a_ball` is `'blue'` and\n",
    "nothing otherwise, we can set `a_ball` and re-run the code:"
   ]
  },
  {
   "cell_type": "code",
   "execution_count": null,
   "id": "405a204a",
   "metadata": {},
   "outputs": [],
   "source": [
    "# Set value of a_ball so we know what it is.\n",
    "a_ball <- 'blue'"
   ]
  },
  {
   "cell_type": "code",
   "execution_count": null,
   "id": "8c7a6e10",
   "metadata": {},
   "outputs": [],
   "source": [
    "if (a_ball == 'blue') {\n",
    "    # The conditional statement is True in this case, so the body does run.\n",
    "    message('The ball was blue')\n",
    "}"
   ]
  },
  {
   "cell_type": "code",
   "execution_count": null,
   "id": "1458b6ba",
   "metadata": {},
   "outputs": [],
   "source": [
    "a_ball <- 'yellow'"
   ]
  },
  {
   "cell_type": "code",
   "execution_count": null,
   "id": "f61691df",
   "metadata": {},
   "outputs": [],
   "source": [
    "if (a_ball == 'blue') {\n",
    "    # The conditional statement is False, so the body does not run.\n",
    "    message('The ball was blue')\n",
    "}"
   ]
  },
  {
   "cell_type": "markdown",
   "id": "089635c4",
   "metadata": {},
   "source": [
    "We can add an `else` clause to the `if` statement. Remember the *body*\n",
    "of the `if` statement runs if the *conditional expression* (here\n",
    "`a_ball == 'blue')` is `TRUE`. The `else` clause runs if the conditional\n",
    "statement is `FALSE`. This may be clearer with an example:"
   ]
  },
  {
   "cell_type": "code",
   "execution_count": null,
   "id": "20dc7f79",
   "metadata": {},
   "outputs": [],
   "source": [
    "a_ball <- 'blue'"
   ]
  },
  {
   "cell_type": "code",
   "execution_count": null,
   "id": "0103476b",
   "metadata": {},
   "outputs": [],
   "source": [
    "if (a_ball == 'blue') {\n",
    "    # The conditional expression is True in this case, so the body runs.\n",
    "    message('The ball was blue')\n",
    "} else {\n",
    "    # The conditional expression was True, so the else clause does not run.\n",
    "    message('The ball was not blue')\n",
    "}"
   ]
  },
  {
   "cell_type": "markdown",
   "id": "5118b156",
   "metadata": {},
   "source": [
    "Notice that the `else` clause of the `if` statement starts with the end\n",
    "of the `if` body with the closing curly brace `}`. `else` follows,\n",
    "followed in turn by the opening curly brace `{` to start the body of the\n",
    "`else` clause. The body of the `else` clause only runs if the initial\n",
    "conditional expression is *not* `TRUE`."
   ]
  },
  {
   "cell_type": "code",
   "execution_count": null,
   "id": "ff196464",
   "metadata": {},
   "outputs": [],
   "source": [
    "a_ball <- 'yellow'"
   ]
  },
  {
   "cell_type": "code",
   "execution_count": null,
   "id": "04aa2840",
   "metadata": {},
   "outputs": [],
   "source": [
    "if (a_ball == 'yellow') {\n",
    "    # The conditional expression was False, so the body does not run.\n",
    "    message('The ball was blue')\n",
    "} else {\n",
    "    # but the else clause does run.\n",
    "    message('The ball was not blue')\n",
    "}"
   ]
  },
  {
   "cell_type": "markdown",
   "id": "6428b978",
   "metadata": {},
   "source": [
    "With this machinery, we can now implement the full logic of step 4\n",
    "above:\n",
    "\n",
    "    If you have drawn a blue ball from bucket A:\n",
    "        Draw a ball from bucket B\n",
    "        if the ball is green:\n",
    "            record \"yes\"\n",
    "        otherwise:\n",
    "            record \"no\".\n",
    "\n",
    "Here is bucket B. Remember green means “win” (65% of the time) and red\n",
    "means “lose” (35% of the time). We could call this the “Commanders win\n",
    "when it is a nice day” bucket:"
   ]
  },
  {
   "cell_type": "code",
   "execution_count": null,
   "id": "2f1b13e1",
   "metadata": {},
   "outputs": [],
   "source": [
    "bucket_B <- rep(c('green', 'red'), c(65, 35))"
   ]
  },
  {
   "cell_type": "markdown",
   "id": "33fcaf35",
   "metadata": {},
   "source": [
    "The full logic for step 4 is:\n",
    "\n",
    "Now we have everything we need to run many trials with the same logic."
   ]
  },
  {
   "cell_type": "code",
   "execution_count": null,
   "id": "7e9ba7a9",
   "metadata": {},
   "outputs": [],
   "source": [
    "# By default, say we have no result.\n",
    "result = 'No result'\n",
    "a_ball <- sample(bucket_A, size=1)\n",
    "# If you have drawn a blue ball from bucket A: (then run code between {})\n",
    "if (a_ball == 'blue') {\n",
    "    # Draw a ball at random from bucket B\n",
    "    b_ball <- sample(bucket_B, size=1)\n",
    "    # if the ball is green: (then run code between {})\n",
    "    if (b_ball == 'green') {\n",
    "        # record \"yes\"\n",
    "        result <- 'yes'\n",
    "    # otherwise:\n",
    "    } else {\n",
    "        # record \"no\".\n",
    "        result <- 'no'\n",
    "    }\n",
    "}\n",
    "# Show what we got in this case.\n",
    "result"
   ]
  },
  {
   "cell_type": "code",
   "execution_count": null,
   "id": "90c76c37",
   "metadata": {},
   "outputs": [],
   "source": [
    "# The result of each trial.\n",
    "# To start with, say we have no result for all the trials.\n",
    "z <- rep('No result', 10000)\n",
    "\n",
    "# Repeat trial procedure 10000 times\n",
    "for (i in 1:10000) {\n",
    "    # draw one \"ball\" for the weather, store in \"a_ball\"\n",
    "    # blue is \"nice day\", yellow is \"not nice\"\n",
    "    a_ball <- sample(bucket_A, size=1)\n",
    "    if (a_ball == 'blue') {  # nice day\n",
    "        # if no rain, check on game outcome\n",
    "        # green is \"win\" (give nice day), red is \"lose\" (given nice day).\n",
    "        b_ball <- sample(bucket_B, size=1)\n",
    "        if (b_ball == 'green') {  # Commanders win\n",
    "            # Record result.\n",
    "            z[i] <- 'yes'\n",
    "        } else {\n",
    "            z[i] <- 'no'\n",
    "        }\n",
    "    }\n",
    "    # End of trial, go back to the beginning until done.\n",
    "}\n",
    "\n",
    "# Count of the number of times we got \"yes\".\n",
    "k <- sum(z == 'yes')\n",
    "# Show the proportion of *both* fine day *and* wins\n",
    "kk <- k / 10000\n",
    "kk"
   ]
  },
  {
   "cell_type": "markdown",
   "id": "99075c37",
   "metadata": {},
   "source": [
    "The above procedure gives us the probability that it will be a nice day\n",
    "and the Commanders will win — about 46.1%.\n",
    "\n",
    "[^1]: In this case, the result of the conditional expression is in fact\n",
    "    either `TRUE` or `FALSE`. R is more liberal on what it allows in the\n",
    "    conditional expression; it will take whatever the result is, and\n",
    "    then force the result into either `TRUE` or `FALSE`, in fact, by\n",
    "    wrapping the result with the `logical` function, that takes anything\n",
    "    as input, and returns either `TRUE` or `FALSE`. Therefore, we could\n",
    "    refer to the result of the conditional expression as something\n",
    "    “truthy” — that is - something that comes back as `TRUE` or `FALSE`\n",
    "    from the `logical` function. In the case here, that does not arise,\n",
    "    because the result is in fact either exactly `TRUE` or exactly\n",
    "    `FALSE`."
   ]
  }
 ],
 "metadata": {
  "jupytext": {
   "cell_metadata_filter": "-all",
   "main_language": "R",
   "notebook_metadata_filter": "-all"
  },
  "kernelspec": {
   "display_name": "R (webR)",
   "name": "webR"
  }
 },
 "nbformat": 4,
 "nbformat_minor": 5
}
