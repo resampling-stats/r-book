{
 "cells": [
  {
   "cell_type": "markdown",
   "id": "378441f1",
   "metadata": {},
   "source": [
    "# The Birthday Problem"
   ]
  },
  {
   "cell_type": "markdown",
   "id": "c1a1bfff",
   "metadata": {},
   "source": [
    "Here we answer the question: “What is the probability that two or more\n",
    "people among a roomful of (say) twenty-five people will have the same\n",
    "birthday?”"
   ]
  },
  {
   "cell_type": "code",
   "execution_count": null,
   "id": "619e16b4",
   "metadata": {},
   "outputs": [],
   "source": [
    "n_with_same_birthday <- numeric(10000)\n",
    "\n",
    "# All the days of the year from \"1\" through \"365\"\n",
    "all_days <- 1:365\n",
    "\n",
    "# Do 10000 trials (experiments)\n",
    "for (i in 1:10000) {\n",
    "    # Generate 25 numbers randomly between \"1\" and \"365,\" put them in a.\n",
    "    a <- sample(all_days, size=25, replace=TRUE)\n",
    "\n",
    "    # Looking in a, count the number of multiples and put the result in\n",
    "    # \"counts\".\n",
    "    counts <- tabulate(a)\n",
    "\n",
    "    # We request multiples > 1 because we are interested in any multiple,\n",
    "    # whether it is a duplicate, triplicate, etc. Had we been interested only\n",
    "    # in duplicates, we would have put in sum(counts == 2).\n",
    "    n_duplicates <- sum(counts > 1)\n",
    "\n",
    "    # Score the result of each trial to our store\n",
    "    n_with_same_birthday[i] <- n_duplicates\n",
    "\n",
    "    # End the loop for the trial, go back and repeat the trial until all 10000\n",
    "    # are complete, then proceed.\n",
    "}\n",
    "\n",
    "# Determine how many trials had at least one multiple.\n",
    "k <- sum(n_with_same_birthday)\n",
    "\n",
    "# Convert to a proportion.\n",
    "kk <- k / 10000\n",
    "\n",
    "# Print the result.\n",
    "message(kk)"
   ]
  }
 ],
 "metadata": {
  "jupytext": {
   "cell_metadata_filter": "-all",
   "main_language": "R",
   "notebook_metadata_filter": "-all"
  },
  "kernelspec": {
   "display_name": "R (webR)",
   "name": "webR"
  }
 },
 "nbformat": 4,
 "nbformat_minor": 5
}
