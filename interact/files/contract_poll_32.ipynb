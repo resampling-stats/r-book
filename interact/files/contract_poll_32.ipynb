{
 "cells": [
  {
   "cell_type": "markdown",
   "id": "164d78d0",
   "metadata": {},
   "source": [
    "# Contract poll looking for >=32"
   ]
  },
  {
   "cell_type": "markdown",
   "id": "070fb091",
   "metadata": {},
   "source": [
    "This R notebook generates samples of 50 simulated voters on the\n",
    "assumption that only 50 percent are in favor of the contract. Then it\n",
    "counts the number of generated samples where 32 or more of the 50\n",
    "respondents said they were in favor of the contract."
   ]
  },
  {
   "cell_type": "code",
   "execution_count": null,
   "id": "473de99f",
   "metadata": {},
   "outputs": [],
   "source": [
    "n_trials <- 10000\n",
    "\n",
    "yeses <- numeric(n_trials)\n",
    "\n",
    "for (i in 1:n_trials) {\n",
    "    answers <- sample(c('No', 'Yes'), size=50, replace=TRUE)\n",
    "    yeses[i] <- sum(answers == 'Yes')\n",
    "}\n",
    "\n",
    "k <- sum(yeses >= 32)\n",
    "kk <- k / n_trials\n",
    "\n",
    "message('Proportion >= 32: ', round(kk, 2))"
   ]
  }
 ],
 "metadata": {
  "jupytext": {
   "cell_metadata_filter": "-all",
   "main_language": "R",
   "notebook_metadata_filter": "-all"
  },
  "kernelspec": {
   "display_name": "R (webR)",
   "name": "webR"
  }
 },
 "nbformat": 4,
 "nbformat_minor": 5
}
