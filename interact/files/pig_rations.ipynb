{
 "cells": [
  {
   "cell_type": "markdown",
   "id": "dab6ff17",
   "metadata": {},
   "source": [
    "# Weight gain on pig rations"
   ]
  },
  {
   "cell_type": "markdown",
   "id": "d98dd8cc",
   "metadata": {},
   "source": [
    "We do a simulation of weight gain ranks for two different pig rations.\n",
    "\n",
    "The `ranks <- 1:24` statement creates a vector of numbers 1 through 24,\n",
    "which will represent the rankings of weight gains for each of the 24\n",
    "pigs. We repeat the following procedure for 10000 trials. First we\n",
    "shuffle the elements of vector `ranks` so that the rank numbers for\n",
    "weight gains are randomized and placed in vector `shuffled`. We then\n",
    "select the first 12 elements of `shuffled` and place them in `first_12`;\n",
    "this represents the rankings of a randomly-selected group of 12 pigs. We\n",
    "next count (`sum`) in `n_top` the number of pigs whose rankings for\n",
    "weight gain were in the top half — that is, a rank of less than 13. We\n",
    "record that number in `top_ranks`, and then continue the loop, until we\n",
    "finish our `n` trials.\n",
    "\n",
    "Since we did not know beforehand the direction of the effect of ration A\n",
    "on weight gain, we want to count the times that *either more than 8* of\n",
    "the random selection of 12 pigs were in the top half of the rankings,\n",
    "*or that fewer than 4* of these pigs were in the top half of the weight\n",
    "gain rankings — (The latter is the same as counting the number of times\n",
    "that more than 8 of the 12 *non-selected* random pigs were in the top\n",
    "half in weight gain.)\n",
    "\n",
    "We do so with the final two `sum` statements. By adding the two results\n",
    "`n_gte_9` and `n_lte_3` together, we have the number of times out of\n",
    "10,000 that differences in weight gains in two groups as dramatic as\n",
    "those obtained in the actual experiment would occur by chance."
   ]
  },
  {
   "cell_type": "code",
   "execution_count": null,
   "id": "4658fe57",
   "metadata": {},
   "outputs": [],
   "source": [
    "# Constitute the set of the weight gain rank orders. ranks is now a vector\n",
    "# consisting of the numbers 1 — 24, in that order.\n",
    "ranks <- 1:24\n",
    "\n",
    "n <- 10000\n",
    "\n",
    "top_ranks <- numeric(n)\n",
    "\n",
    "for (i in 1:n) {\n",
    "    # Shuffle the ranks of the weight gains.\n",
    "    shuffled <- sample(ranks)\n",
    "    # Take the first 12 ranks.\n",
    "    first_12 <- shuffled[1:12]\n",
    "    # Determine how many of these randomly selected 12 ranks are less than\n",
    "    # 12 (i.e. 1-12), put that result in n_top.\n",
    "    n_top <- sum(first_12 <= 12)\n",
    "    # Keep track of each trial result in top_ranks\n",
    "    top_ranks[i] <- n_top\n",
    "}\n",
    "\n",
    "hist(top_ranks, breaks=1:11,\n",
    "     main='Number of top 12 ranks in pig-ration trials')"
   ]
  },
  {
   "cell_type": "markdown",
   "id": "02e33d9a",
   "metadata": {},
   "source": [
    "We see from the histogram that, in about 3 percent of the trials, either\n",
    "more than 8 or fewer than 4 top half ranks (1-12) made it into the\n",
    "random group of twelve that we selected. R will calculate this for us as\n",
    "follows:"
   ]
  },
  {
   "cell_type": "code",
   "execution_count": null,
   "id": "a19e3cdc",
   "metadata": {},
   "outputs": [],
   "source": [
    "# Determine how many of the trials yielded 9 or more top ranks.\n",
    "n_gte_9 <- sum(top_ranks >= 9)\n",
    "# Determine how many trials yielded 3 or fewer of the top ranks.\n",
    "# If there were 3 or fewer, then 9 or more of the top ranks must\n",
    "# have been in the other group (not selected).\n",
    "n_lte_3 <- sum(top_ranks <= 3)\n",
    "# Add the two together.\n",
    "n_both <- n_gte_9 + n_lte_3\n",
    "# Convert to a proportion.\n",
    "prop_both <- n_both / n\n",
    "\n",
    "message('Trial proportion >=9 top ranks in either group: ',\n",
    "        round(prop_both, 2))"
   ]
  },
  {
   "cell_type": "markdown",
   "id": "09ad3543",
   "metadata": {},
   "source": [
    "The decisions that are warranted on the basis of the results depend upon\n",
    "one’s purpose. If writing a scientific paper on the merits of ration A\n",
    "is the ultimate purpose, it would be sensible to test another batch of\n",
    "pigs to get further evidence. (Or you could proceed to employ another\n",
    "sort of test for a slightly more precise evaluation.) But if the goal is\n",
    "a decision on which type of ration to buy for a small farm and they are\n",
    "the same price, just go ahead and buy ration A because, even if it is no\n",
    "better than ration B, you have strong evidence that it is *no worse* ."
   ]
  }
 ],
 "metadata": {
  "jupytext": {
   "cell_metadata_filter": "-all",
   "main_language": "R",
   "notebook_metadata_filter": "-all"
  },
  "kernelspec": {
   "display_name": "R (webR)",
   "name": "webR"
  }
 },
 "nbformat": 4,
 "nbformat_minor": 5
}
