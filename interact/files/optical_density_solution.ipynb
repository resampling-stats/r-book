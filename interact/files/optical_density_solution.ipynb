{
 "cells": [
  {
   "cell_type": "markdown",
   "id": "a6e0b49a",
   "metadata": {},
   "source": [
    "# Optical density solution"
   ]
  },
  {
   "cell_type": "markdown",
   "id": "4427ffb0",
   "metadata": {},
   "source": [
    "Suppose we have 10 measurements of Optical Density on a batch of HIV\n",
    "negative control samples:"
   ]
  },
  {
   "cell_type": "code",
   "execution_count": null,
   "id": "d9b9c7aa",
   "metadata": {},
   "outputs": [],
   "source": [
    "density <- c(.02, .026, .023, .017, .022, .019, .018, .018, .017, .022)"
   ]
  },
  {
   "cell_type": "markdown",
   "id": "b78cd1c6",
   "metadata": {},
   "source": [
    "Derive a 95 percent confidence interval for the sample mean. Are there\n",
    "enough measurements to produce a satisfactory answer?"
   ]
  },
  {
   "cell_type": "code",
   "execution_count": null,
   "id": "a9a3b9b1",
   "metadata": {},
   "outputs": [],
   "source": [
    "n_density <- length(density)\n",
    "\n",
    "n_trials <- 10000\n",
    "results <- numeric(n_trials)\n",
    "\n",
    "for (i in 1:n_trials) {\n",
    "    fake_density <- sample(density, size=n_density, replace=TRUE)\n",
    "    results[i] <- mean(fake_density)\n",
    "}\n",
    "\n",
    "hist(results, breaks=25,\n",
    "    main='Bootstrap distribution of density means',\n",
    "    xlab='Bootstrap density means')\n",
    "\n",
    "mean_limits <- quantile(results, c(0.025, 0.975))\n",
    "rounded <- round(mean_limits, 3)\n",
    "message('95% percent limits for density mean: ',\n",
    "        rounded[1], ' ', rounded[2])"
   ]
  }
 ],
 "metadata": {
  "jupytext": {
   "cell_metadata_filter": "-all",
   "main_language": "R",
   "notebook_metadata_filter": "-all"
  },
  "kernelspec": {
   "display_name": "R (webR)",
   "name": "webR"
  }
 },
 "nbformat": 4,
 "nbformat_minor": 5
}
