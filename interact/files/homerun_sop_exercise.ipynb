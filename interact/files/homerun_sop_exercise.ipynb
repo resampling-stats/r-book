{
 "cells": [
  {
   "cell_type": "markdown",
   "id": "189d6310",
   "metadata": {},
   "source": [
    "# Homeruns and strikeout sum of products."
   ]
  },
  {
   "cell_type": "markdown",
   "id": "49307fe0",
   "metadata": {},
   "source": [
    "Exercise on relationship of home runs and strikeouts, using sum of\n",
    "products."
   ]
  },
  {
   "cell_type": "code",
   "execution_count": null,
   "id": "5e689b60",
   "metadata": {},
   "outputs": [],
   "source": [
    "homeruns <- c(14, 20, 0, 38, 9, 38, 22, 31, 33,\n",
    "              11, 40, 5, 15, 32, 3, 29, 5, 32)\n",
    "strikeout <- c(135, 153, 120, 161, 138, 175, 126, 200, 205,\n",
    "               147, 165, 124, 169, 156, 36, 98, 82, 131)\n",
    "\n",
    "# Exercise - complete this program."
   ]
  }
 ],
 "metadata": {
  "jupytext": {
   "cell_metadata_filter": "-all",
   "main_language": "R",
   "notebook_metadata_filter": "-all"
  },
  "kernelspec": {
   "display_name": "R (webR)",
   "name": "webR"
  }
 },
 "nbformat": 4,
 "nbformat_minor": 5
}
