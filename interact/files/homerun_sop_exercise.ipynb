{
 "cells": [
  {
   "cell_type": "markdown",
   "id": "4a401dd0",
   "metadata": {},
   "source": [
    "# Homeruns and strikeout sum of products."
   ]
  },
  {
   "cell_type": "markdown",
   "id": "ccd38ed1",
   "metadata": {},
   "source": [
    "Exercise on relationship of home runs and strikeouts, using sum of\n",
    "products."
   ]
  },
  {
   "cell_type": "code",
   "execution_count": null,
   "id": "22bc7924",
   "metadata": {},
   "outputs": [],
   "source": [
    "homeruns <- c(14, 20, 0, 38, 9, 38, 22, 31, 33,\n",
    "              11, 40, 5, 15, 32, 3, 29, 5, 32)\n",
    "strikeout <- c(135, 153, 120, 161, 138, 175, 126, 200, 205,\n",
    "               147, 165, 124, 169, 156, 36, 98, 82, 131)\n",
    "\n",
    "# Exercise - complete this program."
   ]
  }
 ],
 "metadata": {
  "jupytext": {
   "cell_metadata_filter": "-all",
   "main_language": "R",
   "notebook_metadata_filter": "-all"
  },
  "kernelspec": {
   "display_name": "R (webR)",
   "name": "webR"
  }
 },
 "nbformat": 4,
 "nbformat_minor": 5
}
