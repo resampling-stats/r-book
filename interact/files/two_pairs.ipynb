{
 "cells": [
  {
   "cell_type": "markdown",
   "id": "a14b22c1",
   "metadata": {},
   "source": [
    "# Two pairs"
   ]
  },
  {
   "cell_type": "markdown",
   "id": "3173d7e1",
   "metadata": {},
   "source": [
    "We count the number of times we get two pairs in a random hand of five\n",
    "cards."
   ]
  },
  {
   "cell_type": "code",
   "execution_count": null,
   "id": "7ef0322c",
   "metadata": {},
   "outputs": [],
   "source": [
    "deck <- rep(1:13, 4)"
   ]
  },
  {
   "cell_type": "code",
   "execution_count": null,
   "id": "9e0ecfcf",
   "metadata": {},
   "outputs": [],
   "source": [
    "pairs_per_trial <- numeric(10000)\n",
    "\n",
    "# Repeat the following steps 10000 times\n",
    "for (i in 1:10000) {\n",
    "    # Shuffle the deck\n",
    "    shuffled <- sample(deck)\n",
    "\n",
    "    # Take the first five cards.\n",
    "    hand <- shuffled[1:5]\n",
    "\n",
    "    # How many pairs?\n",
    "    # Counts for each card rank.\n",
    "    repeat_nos <- tabulate(hand)\n",
    "    n_pairs <- sum(repeat_nos == 2)\n",
    "\n",
    "    # Keep score of # of pairs\n",
    "    pairs_per_trial[i] <- n_pairs\n",
    "\n",
    "    # End loop, go back and repeat\n",
    "}\n",
    "\n",
    "# How often were there 2 pairs?\n",
    "n_two_pairs <- sum(pairs_per_trial == 2)\n",
    "\n",
    "# Convert to proportion\n",
    "print(n_two_pairs / 10000)"
   ]
  }
 ],
 "metadata": {
  "jupytext": {
   "cell_metadata_filter": "-all",
   "main_language": "R",
   "notebook_metadata_filter": "-all"
  },
  "kernelspec": {
   "display_name": "R (webR)",
   "name": "webR"
  }
 },
 "nbformat": 4,
 "nbformat_minor": 5
}
