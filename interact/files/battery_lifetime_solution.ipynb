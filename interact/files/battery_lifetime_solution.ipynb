{
 "cells": [
  {
   "cell_type": "markdown",
   "id": "45863ccb",
   "metadata": {},
   "source": [
    "# Battery lifetime solution\n"
   ]
  },
  {
   "cell_type": "code",
   "execution_count": null,
   "id": "9f8b3284",
   "metadata": {},
   "outputs": [],
   "source": [
    "lifetimes <- c(30, 32, 31, 28, 31, 29, 29, 24, 30, 31,\n",
    "               28, 28, 32, 31, 24, 23, 31, 27, 27, 31)\n",
    "\n",
    "message('Mean is: ', mean(lifetimes))"
   ]
  },
  {
   "cell_type": "code",
   "execution_count": null,
   "id": "6c3b31ca",
   "metadata": {},
   "outputs": [],
   "source": [
    "n_lifetimes <- length(lifetimes)\n",
    "results <- numeric(n_trials)\n",
    "\n",
    "for (i in 1:n_trials) {\n",
    "    # Draw 20 lifetimes from \"lifetimes, randomly and with replacement.\n",
    "    fake_lifetimes <- sample(lifetimes, size=n_lifetimes, replace=TRUE)\n",
    "    # Find the average lifetime of the 20.\n",
    "    fake_mean <- mean(fake_lifetimes)\n",
    "    # Keep score.\n",
    "    results[i] <- fake_mean\n",
    "}\n",
    "\n",
    "hist(results, breaks=25,\n",
    "    main='Bootstrap distribution of mean battery lifetimes',\n",
    "    xlab='Bootstrap mean battery lifetime')\n",
    "\n",
    "mean_limits <- quantile(results, c(0.025, 0.975))\n",
    "rounded <- round(mean_limits, 2)\n",
    "message('95% percent limits for mean lifetimes: ',\n",
    "        rounded[1], ' ', rounded[2])"
   ]
  }
 ],
 "metadata": {
  "jupytext": {
   "cell_metadata_filter": "-all",
   "main_language": "R",
   "notebook_metadata_filter": "-all"
  },
  "kernelspec": {
   "display_name": "R (webR)",
   "name": "webR"
  }
 },
 "nbformat": 4,
 "nbformat_minor": 5
}
