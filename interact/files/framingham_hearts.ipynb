{
 "cells": [
  {
   "cell_type": "markdown",
   "id": "14ac017a",
   "metadata": {},
   "source": [
    "# Framingham heart data"
   ]
  },
  {
   "cell_type": "markdown",
   "id": "b31a0b69",
   "metadata": {},
   "source": [
    "We use simulation to investigate the relationship between serum\n",
    "cholesterol and heart attacks in the Framingham data.\n",
    "\n",
    "Before come to the simulation, we need some new code to tune our\n",
    "histograms (see <a href=\"#sec-on-histograms\" class=\"quarto-xref\"><span\n",
    "class=\"quarto-unresolved-ref\">sec-on-histograms</span></a>). We are\n",
    "going to set the bins for the histogram using advanced ranges.\n",
    "\n",
    "### 21.2.8 Advanced ranges\n",
    "\n",
    "So far (<a href=\"#sec-ranges\" class=\"quarto-xref\"><span\n",
    "class=\"quarto-unresolved-ref\">sec-ranges</span></a>) we have used the\n",
    "colon syntax to make regular sequences of integers. For example, to make\n",
    "a vector of the sequential integers from 3 through 12, we could use:"
   ]
  },
  {
   "cell_type": "code",
   "execution_count": null,
   "id": "054e93e2",
   "metadata": {},
   "outputs": [],
   "source": [
    "3:12"
   ]
  },
  {
   "cell_type": "markdown",
   "id": "4d53b5aa",
   "metadata": {},
   "source": [
    "R also has a function `seq` that makes sequences. In practice we would\n",
    "likely use the colon syntax for the problem above, but we could also use\n",
    "`seq`, like this:"
   ]
  },
  {
   "cell_type": "code",
   "execution_count": null,
   "id": "46ed996a",
   "metadata": {},
   "outputs": [],
   "source": [
    "seq(3, 12)"
   ]
  },
  {
   "cell_type": "markdown",
   "id": "bab1f0ce",
   "metadata": {},
   "source": [
    "The first argument is the starting value, and the second is the stopping\n",
    "value. The result is all the sequential integers, up to and including\n",
    "the stopping value.\n",
    "\n",
    "Sometimes we want to be able to specify a step size — the gap between\n",
    "the numbers in the sequence. In the sequence above, the gap (step)\n",
    "between each number is 1. We might want some other step size. To create\n",
    "a sequence of integers from 3 through 33 in steps of 5, we could write:"
   ]
  },
  {
   "cell_type": "code",
   "execution_count": null,
   "id": "09b20781",
   "metadata": {},
   "outputs": [],
   "source": [
    "seq(3, 33, by=5)"
   ]
  },
  {
   "cell_type": "markdown",
   "id": "cc4b66a6",
   "metadata": {},
   "source": [
    "Read this as “give me the sequence (range) of numbers, starting at 3, up\n",
    "to and including 33, in steps(`by`) of 5.\n",
    "\n",
    "So far we have used integers as the start, stop and step(`by`) values,\n",
    "but we could also use floating point values. For example, to get a\n",
    "sequence of values starting at 0.1 up to and including 0.9, in steps of\n",
    "0.2:"
   ]
  },
  {
   "cell_type": "code",
   "execution_count": null,
   "id": "6b33ef1b",
   "metadata": {},
   "outputs": [],
   "source": [
    "seq(0.1, 0.9, by=0.2)"
   ]
  },
  {
   "cell_type": "markdown",
   "id": "739d58bc",
   "metadata": {},
   "source": [
    "### 21.2.9 Simulation for infarction and cholesterol\n",
    "\n",
    "With that background, we can proceed with the simulation."
   ]
  },
  {
   "cell_type": "code",
   "execution_count": null,
   "id": "b8a5b068",
   "metadata": {},
   "outputs": [],
   "source": [
    "n <- 10000\n",
    "\n",
    "men <- rep(c('infarction', 'no infarction'), c(31, 574))\n",
    "\n",
    "n_high <- 135  # Number of men with high cholesterol\n",
    "n_low <- 470  # Number of men with low cholesterol\n",
    "\n",
    "infarct_differences <- numeric(n)\n",
    "\n",
    "for (i in 1:n) {\n",
    "    highs <- sample(men, size=n_high, replace=TRUE)\n",
    "    lows <- sample(men, size=n_low, replace=TRUE)\n",
    "    high_infarcts <- sum(highs == 'infarction')\n",
    "    low_infarcts <- sum(lows == 'infarction')\n",
    "    high_prop <- high_infarcts / n_high\n",
    "    low_prop <- low_infarcts / n_low\n",
    "    infarct_differences[i] <- high_prop - low_prop\n",
    "}\n",
    "\n",
    "# Set the histogram bin edges to the sequence starting at -0.1, up to\n",
    "# (including) 0.1, in steps of 0.005.\n",
    "hist(infarct_differences, breaks=seq(-0.1, 0.1, by=0.005),\n",
    "     main='Infarct proportion differences in null universe')\n",
    "\n",
    "# How often was the resampled difference >= the observed difference?\n",
    "k <- sum(infarct_differences >= 0.029)\n",
    "# Convert this result to a proportion\n",
    "kk <- k / n\n",
    "\n",
    "message('Proportion of trials with difference >= observed: ',\n",
    "        round(kk, 2))"
   ]
  },
  {
   "cell_type": "markdown",
   "id": "bfd5920e",
   "metadata": {},
   "source": [
    "The results of the test using this program may be seen in the histogram.\n",
    "We find — perhaps surprisingly — that a difference as large as observed\n",
    "would occur by chance around 10 percent of the time. (If we were not\n",
    "guided by the theoretical expectation that high serum cholesterol\n",
    "produces heart disease, we might include the 10 percent difference going\n",
    "in the other direction, giving a 20 percent chance). Even a ten percent\n",
    "chance is sufficient to call into question the conclusion that high\n",
    "serum cholesterol is dangerous. At a minimum, this statistical result\n",
    "should call for more research before taking any strong action clinically\n",
    "or otherwise."
   ]
  }
 ],
 "metadata": {
  "jupytext": {
   "cell_metadata_filter": "-all",
   "main_language": "R",
   "notebook_metadata_filter": "-all"
  },
  "kernelspec": {
   "display_name": "R (webR)",
   "name": "webR"
  }
 },
 "nbformat": 4,
 "nbformat_minor": 5
}
