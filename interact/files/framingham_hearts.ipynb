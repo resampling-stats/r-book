{
 "cells": [
  {
   "cell_type": "markdown",
   "id": "90ec9f8e",
   "metadata": {},
   "source": [
    "# Framingham heart data"
   ]
  },
  {
   "cell_type": "markdown",
   "id": "176ba983",
   "metadata": {},
   "source": [
    "We use simulation to investigate the relationship between serum\n",
    "cholesterol and heart attacks in the Framingham data."
   ]
  },
  {
   "cell_type": "code",
   "execution_count": null,
   "id": "4d83fe71",
   "metadata": {},
   "outputs": [],
   "source": [
    "n <- 10000\n",
    "\n",
    "men <- rep(c('infarction', 'no infarction'), c(31, 574))\n",
    "\n",
    "n_high <- 135  # Number of men with high cholesterol\n",
    "n_low <- 470  # Number of men with low cholesterol\n",
    "\n",
    "infarct_differences <- numeric(n)\n",
    "\n",
    "for (i in 1:n) {\n",
    "    highs <- sample(men, size=n_high, replace=TRUE)\n",
    "    lows <- sample(men, size=n_low, replace=TRUE)\n",
    "    high_infarcts <- sum(highs == 'infarction')\n",
    "    low_infarcts <- sum(lows == 'infarction')\n",
    "    high_prop <- high_infarcts / n_high\n",
    "    low_prop <- low_infarcts / n_low\n",
    "    infarct_differences[i] <- high_prop - low_prop\n",
    "}\n",
    "\n",
    "# Set the histogram bin edges to the sequence starting at -0.1, up to\n",
    "# (including) 0.1, in steps of 0.005.\n",
    "hist(infarct_differences, breaks=seq(-0.1, 0.1, by=0.005),\n",
    "     main='Infarct proportion differences in null universe')\n",
    "\n",
    "# How often was the resampled difference >= the observed difference?\n",
    "k <- sum(infarct_differences >= 0.029)\n",
    "# Convert this result to a proportion\n",
    "kk <- k / n\n",
    "\n",
    "message('Proportion of trials with difference >= observed: ',\n",
    "        round(kk, 2))"
   ]
  },
  {
   "cell_type": "markdown",
   "id": "dadb0714",
   "metadata": {},
   "source": [
    "The results of the test using this program may be seen in the histogram.\n",
    "We find — perhaps surprisingly — that a difference as large as observed\n",
    "would occur by chance around 10 percent of the time. (If we were not\n",
    "guided by the theoretical expectation that high serum cholesterol\n",
    "produces heart disease, we might include the 10 percent difference going\n",
    "in the other direction, giving a 20 percent chance). Even a ten percent\n",
    "chance is sufficient to call into question the conclusion that high\n",
    "serum cholesterol is dangerous. At a minimum, this statistical result\n",
    "should call for more research before taking any strong action clinically\n",
    "or otherwise."
   ]
  }
 ],
 "metadata": {
  "jupytext": {
   "cell_metadata_filter": "-all",
   "main_language": "R",
   "notebook_metadata_filter": "-all"
  },
  "kernelspec": {
   "display_name": "R (webR)",
   "name": "webR"
  }
 },
 "nbformat": 4,
 "nbformat_minor": 5
}
