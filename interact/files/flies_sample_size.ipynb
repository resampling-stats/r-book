{
 "cells": [
  {
   "cell_type": "markdown",
   "id": "060d2790",
   "metadata": {},
   "source": [
    "# Sample size for detecting fruitfly sex difference"
   ]
  },
  {
   "cell_type": "markdown",
   "id": "2d61ba16",
   "metadata": {},
   "source": [
    "We are interested in a procedure to change the sex ratio of fruit flies\n",
    "to give more males. We are going to take samples of 80 flies. We know\n",
    "that, in order to detect a convincing difference from a 50:50 ratio, we\n",
    "need 48 of 80, or more, to be male. We suspect that the treatment gives\n",
    "a 60:40 ratio. Drawing random samples in this 60:40 universe, how often\n",
    "do we get the convincing \\>=48 male count? In other words, for how many\n",
    "trials in this situation, will we see a convincing answer?"
   ]
  },
  {
   "cell_type": "code",
   "execution_count": null,
   "id": "482bed5a",
   "metadata": {},
   "outputs": [],
   "source": [
    "n_trials <- 10000\n",
    "\n",
    "# Results for each trial.\n",
    "results <- numeric(n_trials)\n",
    "\n",
    "# Do 10,000 trials\n",
    "for (i in 1:n_trials) {\n",
    "    # Generate 80 \"flies\" with 0.6 chance of male, 0.4 of female>\n",
    "    flies <- sample(c('male', 'female'), size=80, replace=TRUE, prob=c(0.6, 0.4))\n",
    "    # Count the males.\n",
    "    n_males <- sum(flies == 'male')\n",
    "    # Keep score.\n",
    "    results[i] <- n_males\n",
    "}\n",
    "\n",
    "# How many of the trials produced more than 48 males?\n",
    "k <- sum(results >= 48)\n",
    "# Convert to a proportion\n",
    "kk <- k / n_trials\n",
    "\n",
    "message('Proportion of 60/40 trials giving >= 48 males: ', kk)"
   ]
  },
  {
   "cell_type": "markdown",
   "id": "bb33ba98",
   "metadata": {},
   "source": [
    "If the result `kk` is close to 1, we then know that samples of size 80\n",
    "will almost always produce samples with enough males to avoid misleading\n",
    "us into thinking that they could have come from a universe in which\n",
    "males and females are split 50-50."
   ]
  }
 ],
 "metadata": {
  "jupytext": {
   "cell_metadata_filter": "-all",
   "main_language": "R",
   "notebook_metadata_filter": "-all"
  },
  "kernelspec": {
   "display_name": "R (webR)",
   "name": "webR"
  }
 },
 "nbformat": 4,
 "nbformat_minor": 5
}
