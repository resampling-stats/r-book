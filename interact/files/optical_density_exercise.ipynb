{
 "cells": [
  {
   "cell_type": "markdown",
   "id": "677ad1e0",
   "metadata": {},
   "source": [
    "# Optical density exercise"
   ]
  },
  {
   "cell_type": "markdown",
   "id": "d5747819",
   "metadata": {},
   "source": [
    "Suppose we have 10 measurements of Optical Density on a batch of HIV\n",
    "negative control samples:"
   ]
  },
  {
   "cell_type": "code",
   "execution_count": null,
   "id": "1bc0ba5a",
   "metadata": {},
   "outputs": [],
   "source": [
    "density <- c(.02, .026, .023, .017, .022, .019, .018, .018, .017, .022)"
   ]
  },
  {
   "cell_type": "markdown",
   "id": "cda0a6a7",
   "metadata": {},
   "source": [
    "Derive a 95 percent confidence interval for the sample mean. Are there\n",
    "enough measurements to produce a satisfactory answer?"
   ]
  }
 ],
 "metadata": {
  "jupytext": {
   "cell_metadata_filter": "-all",
   "main_language": "R",
   "notebook_metadata_filter": "-all"
  },
  "kernelspec": {
   "display_name": "R (webR)",
   "name": "webR"
  }
 },
 "nbformat": 4,
 "nbformat_minor": 5
}
