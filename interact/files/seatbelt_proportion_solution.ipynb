{
 "cells": [
  {
   "cell_type": "markdown",
   "id": "7a1a6712",
   "metadata": {},
   "source": [
    "# Seatbelt proportion solution\n"
   ]
  },
  {
   "cell_type": "code",
   "execution_count": null,
   "id": "445e5f7c",
   "metadata": {},
   "outputs": [],
   "source": [
    "pittsburgh <- rep(c('seatbelt', 'none'), c(36, 36))\n",
    "n_pitts <- length(pittsburgh)\n",
    "chicago <- rep(c('seatbelt', 'none'), c(77, 52))\n",
    "n_chicago <- length(chicago)\n",
    "\n",
    "n_trials <- 10000\n",
    "results <- numeric(n_trials)\n",
    "\n",
    "for (i in 1:n_trials) {\n",
    "    fake_pitts <- sample(pittsburgh, size=n_pitts, replace=TRUE)\n",
    "    fake_chicago <- sample(chicago, size=n_chicago, replace=TRUE)\n",
    "    fake_p_pitts <- sum(fake_pitts == 'seatbelt') / n_pitts\n",
    "    fake_p_chicago <- sum(fake_chicago == 'seatbelt') / n_chicago\n",
    "    fake_p_diff <- fake_p_pitts - fake_p_chicago\n",
    "    results[i] <- fake_p_diff\n",
    "}\n",
    "\n",
    "hist(results, breaks=25,\n",
    "    main='Bootstrap distribution of p differences',\n",
    "    xlab='Bootstrap p differences')\n",
    "\n",
    "p_limits <- quantile(results, c(0.025, 0.975))\n",
    "rounded <- round(p_limits, 3)\n",
    "message('95% percent limits for p differences: ', rounded[1], ' ', rounded[2])"
   ]
  }
 ],
 "metadata": {
  "jupytext": {
   "cell_metadata_filter": "-all",
   "main_language": "R",
   "notebook_metadata_filter": "-all"
  },
  "kernelspec": {
   "display_name": "R (webR)",
   "name": "webR"
  }
 },
 "nbformat": 4,
 "nbformat_minor": 5
}
