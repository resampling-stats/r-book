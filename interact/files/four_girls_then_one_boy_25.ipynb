{
 "cells": [
  {
   "cell_type": "markdown",
   "id": "bf8e3b32",
   "metadata": {},
   "source": [
    "# Four girls then one boy from 25/25"
   ]
  },
  {
   "cell_type": "markdown",
   "id": "de1ae2b5",
   "metadata": {},
   "source": [
    "**In this problem, order matters; we are sampling without replacement,\n",
    "with two outcomes, several of each item.**\n",
    "\n",
    "What is the probability of getting an ordered series of *four girls and\n",
    "then one boy* , from a universe of 25 girls and 25 boys? This\n",
    "illustrates Case 3 above. Clearly we can use the same sampling mechanism\n",
    "as in the example\n",
    "<a href=\"#sec-four-girls-one-boy\" class=\"quarto-xref\"><span\n",
    "class=\"quarto-unresolved-ref\">sec-four-girls-one-boy</span></a>, but now\n",
    "we record “yes” for a smaller number of composite events.\n",
    "\n",
    "We record “no” even if a single one boy is chosen but he is chosen 1st,\n",
    "2nd, 3rd, or 4th, whereas in\n",
    "<a href=\"#sec-four-girls-one-boy\" class=\"quarto-xref\"><span\n",
    "class=\"quarto-unresolved-ref\">sec-four-girls-one-boy</span></a>, such\n",
    "outcomes are recorded as “yes”-es.\n",
    "\n",
    "- **Step 1.** Generate a class (vector) of length 50, consisting of 25\n",
    "  strings valued “boy” and 25 strings valued “girl”.\n",
    "- **Step 2.** Shuffle the class array, and select the first five\n",
    "  elements.\n",
    "- **Step 3.** If the first five elements are exactly\n",
    "  `'girl', 'girl', 'girl',   'girl', 'boy'`, write “yes,” otherwise\n",
    "  “no.”\n",
    "- **Step 4.** Repeat steps 2 and 3, say, 10,000 times, and count the\n",
    "  proportion of “yes” results, which estimates the probability sought.\n",
    "\n",
    "Let us start the single trial procedure like so:"
   ]
  },
  {
   "cell_type": "code",
   "execution_count": null,
   "id": "9bb685ca",
   "metadata": {},
   "outputs": [],
   "source": [
    "# Constitute the set of 25 girls and 25 boys.\n",
    "whole_class <- rep(c('girl', 'boy'), c(25, 25))\n",
    "\n",
    "# Shuffle the class into a random order.\n",
    "shuffled <- sample(whole_class)\n",
    "# Take the first 5 class members, call them c.\n",
    "c <- shuffled[1:5]\n",
    "# Show the result.\n",
    "c"
   ]
  },
  {
   "cell_type": "markdown",
   "id": "3c86f39f",
   "metadata": {},
   "source": [
    "Our next step (step 3) is to check whether `c` is exactly equal to the\n",
    "result of interest. The result of interest is:"
   ]
  },
  {
   "cell_type": "code",
   "execution_count": null,
   "id": "4b19ceab",
   "metadata": {},
   "outputs": [],
   "source": [
    "# The result we are looking for - four girls and then a boy.\n",
    "result_of_interest <- rep(c('girl', 'boy'), c(4, 1 ))\n",
    "result_of_interest"
   ]
  },
  {
   "cell_type": "markdown",
   "id": "033bbf5a",
   "metadata": {},
   "source": [
    "We can then use a vector *comparison* with `==` to do an element by\n",
    "element (*elementwise*) check, asking whether the corresponding elements\n",
    "are equal:"
   ]
  },
  {
   "cell_type": "code",
   "execution_count": null,
   "id": "f7374e95",
   "metadata": {},
   "outputs": [],
   "source": [
    "# A Boolean array, with True where corresponding elements are equal, False\n",
    "# otherwise.\n",
    "are_equal <- c == result_of_interest\n",
    "are_equal"
   ]
  },
  {
   "cell_type": "markdown",
   "id": "13912aeb",
   "metadata": {},
   "source": [
    "We are nearly finished with step 3 — it only remains to check whether\n",
    "*all* of the elements were equal, by checking whether *all* of the\n",
    "values in `are_equal` are `TRUE`.\n",
    "\n",
    "We know that there are 5 elements, so we could check whether there are 5\n",
    "`TRUE` values with `sum`:"
   ]
  },
  {
   "cell_type": "code",
   "execution_count": null,
   "id": "9a1ebe68",
   "metadata": {},
   "outputs": [],
   "source": [
    "# Are there exactly 5 TRUE values in `are_equal`?\n",
    "sum(are_equal) == 5"
   ]
  },
  {
   "cell_type": "markdown",
   "id": "e367056b",
   "metadata": {},
   "source": [
    "Another way to ask the same question is by using the `all` function on\n",
    "`are_equal`. This returns `TRUE` if *all* the elements in `are_equal`\n",
    "are `TRUE`, and `FALSE` otherwise.\n",
    "\n",
    "<div class=\"callout callout-style-default callout-note callout-titled\">\n",
    "\n",
    "<div class=\"callout-header d-flex align-content-center\">\n",
    "\n",
    "<div class=\"callout-icon-container\">\n",
    "\n",
    "<i class='callout-icon'></i>\n",
    "\n",
    "</div>\n",
    "\n",
    "<div class=\"callout-title-container flex-fill\">\n",
    "\n",
    "Testing whether all elements of a vector are the same\n",
    "\n",
    "</div>\n",
    "\n",
    "</div>\n",
    "\n",
    "<div class=\"callout-body-container callout-body\">\n",
    "\n",
    "The `all`, applied to a Boolean vector (as here), checks whether *all*\n",
    "of the elements in the Boolean vector are `TRUE`. If so, it returns\n",
    "`TRUE`, otherwise, it returns `FALSE`.\n",
    "\n",
    "For example:"
   ]
  },
  {
   "cell_type": "code",
   "execution_count": null,
   "id": "f1754cde",
   "metadata": {},
   "outputs": [],
   "source": [
    "# All elements are TRUE, `all` returns TRUE\n",
    "all(c(TRUE, TRUE, TRUE, TRUE))"
   ]
  },
  {
   "cell_type": "code",
   "execution_count": null,
   "id": "f3c67613",
   "metadata": {},
   "outputs": [],
   "source": [
    "# At least one element is FALSE, `all` returns FALSE\n",
    "all(c(TRUE, TRUE, FALSE, TRUE))"
   ]
  },
  {
   "cell_type": "markdown",
   "id": "b7af1f3b",
   "metadata": {},
   "source": [
    "</div>\n",
    "\n",
    "</div>\n",
    "\n",
    "Here is the full procedure for steps 2 and 3 (a single trial):"
   ]
  },
  {
   "cell_type": "code",
   "execution_count": null,
   "id": "bf2a6214",
   "metadata": {},
   "outputs": [],
   "source": [
    "# Shuffle the class into a random order.\n",
    "shuffled <- sample(whole_class)\n",
    "# Take the first 5 class members, call them c.\n",
    "c <- shuffled[1:5]\n",
    "# For each element, test whether the result is the result of interest.\n",
    "are_equal <- c == result_of_interest\n",
    "# Check whether we have the result we are looking for.\n",
    "is_four_girls_then_one_boy <- all(are_equal)"
   ]
  },
  {
   "cell_type": "markdown",
   "id": "82d1a19b",
   "metadata": {},
   "source": [
    "All that remains is to put the single trial procedure into a loop."
   ]
  },
  {
   "cell_type": "code",
   "execution_count": null,
   "id": "78296db4",
   "metadata": {},
   "outputs": [],
   "source": [
    "N <- 10000\n",
    "trial_results <- numeric(N)\n",
    "\n",
    "# Repeat the following steps 1000 times.\n",
    "for (i in 1:N) {\n",
    "\n",
    "    # Shuffle the class into a random order.\n",
    "    shuffled <- sample(whole_class)\n",
    "    # Take the first 5 class members, call them c.\n",
    "    c <- shuffled[1:5]\n",
    "    # For each element, test whether the result is the result of interest.\n",
    "    are_equal <- c == result_of_interest\n",
    "    # Check whether we have the result we are looking for.\n",
    "    is_four_girls_then_one_boy <- all(are_equal)\n",
    "\n",
    "    # Store the result of this trial.\n",
    "    trial_results[i] <- is_four_girls_then_one_boy\n",
    "\n",
    "    # End the experiment, go back and repeat until all N trials are\n",
    "    # complete.\n",
    "}\n",
    "\n",
    "# Count the number of times we got four girls then a boy\n",
    "k <- sum(trial_results)\n",
    "\n",
    "# Convert to a proportion.\n",
    "kk <- k / N\n",
    "\n",
    "# Print the result.\n",
    "message(kk)"
   ]
  },
  {
   "cell_type": "markdown",
   "id": "83336906",
   "metadata": {},
   "source": [
    "This type of problem is conventionally done with a *permutation*\n",
    "formula."
   ]
  }
 ],
 "metadata": {
  "jupytext": {
   "cell_metadata_filter": "-all",
   "main_language": "R",
   "notebook_metadata_filter": "-all"
  },
  "kernelspec": {
   "display_name": "R (webR)",
   "name": "webR"
  }
 },
 "nbformat": 4,
 "nbformat_minor": 5
}
