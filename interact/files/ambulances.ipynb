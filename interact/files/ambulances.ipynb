{
 "cells": [
  {
   "cell_type": "markdown",
   "id": "79bd3f54",
   "metadata": {},
   "source": [
    "# Ambulances"
   ]
  },
  {
   "cell_type": "markdown",
   "id": "d593dd46",
   "metadata": {},
   "source": [
    "The first thing to say about the code you will see below is there are\n",
    "some lines that do not do anything; these are the lines beginning with a\n",
    "`#` character (read `#` as “hash”). Lines beginning with `#` are called\n",
    "*comments*. When R sees a `#` at the start of a line, it ignores\n",
    "everything else on that line, and skips to the next. Here’s an example\n",
    "of a comment:"
   ]
  },
  {
   "cell_type": "code",
   "execution_count": null,
   "id": "572abda1",
   "metadata": {},
   "outputs": [],
   "source": [
    "# R will completely ignore this text."
   ]
  },
  {
   "cell_type": "markdown",
   "id": "3f979ce4",
   "metadata": {},
   "source": [
    "Because R ignores lines beginning with `#`, the text after the `#` is\n",
    "just for us, the humans reading the code. The person writing the code\n",
    "will often use comments to explain what the code is doing.\n",
    "\n",
    "Our next task is to use R to simulate a single day of ambulances. We\n",
    "will again represent each ambulance by a random number from 0 through 9.\n",
    "20 of these numbers represents a simulation of all 20 ambulances\n",
    "available to the contractor. We call a simulation of all ambulances for\n",
    "a specific day one *trial*.\n",
    "\n",
    "Recall that we want twenty 10-sided dice — one per ambulance. Our dice\n",
    "should be 10-sided, because each ambulance has a 1-in-10 chance of being\n",
    "out of order.\n",
    "\n",
    "The program to simulate one trial of the ambulances problem therefore\n",
    "begins with these commands:"
   ]
  },
  {
   "cell_type": "code",
   "execution_count": null,
   "id": "cd70ffb3",
   "metadata": {},
   "outputs": [],
   "source": [
    "# Ask R to generate 20 numbers from 0 through 9.\n",
    "\n",
    "# These are the numbers we will ask R to select from.\n",
    "numbers <- c(0, 1, 2, 3, 4, 5, 6, 7, 8, 9)\n",
    "\n",
    "# Get 20 values from the *numbers* sequence.\n",
    "# Store the 20 numbers with the name \"a\"\n",
    "# We will explain the replace=TRUE later.\n",
    "a <- sample(numbers, 20, replace=TRUE)\n",
    "\n",
    "# The result is a sequence of 20 numbers.\n",
    "a"
   ]
  },
  {
   "cell_type": "markdown",
   "id": "ae65ce51",
   "metadata": {},
   "source": [
    "The commands above ask the computer to store the results of the random\n",
    "drawing in a location in the computer’s memory to which we give a name\n",
    "such as “a” or “ambulances” or “aardvark” — the name is up to us.\n",
    "\n",
    "Next, we need to count the number of defective ambulances:"
   ]
  },
  {
   "cell_type": "code",
   "execution_count": null,
   "id": "6f4bb4c5",
   "metadata": {},
   "outputs": [],
   "source": [
    "# Count the number of nines in the random numbers.\n",
    "# The \"a == 9\" part identifies all the numbers equal to 9.\n",
    "# The \"sum\" part counts how many numbers \"a == 9\" found.\n",
    "b <- sum(a == 9)\n",
    "# Show the result\n",
    "b"
   ]
  },
  {
   "cell_type": "markdown",
   "id": "b34ae615",
   "metadata": {},
   "source": [
    "<div class=\"callout callout-style-default callout-note callout-titled\">\n",
    "\n",
    "<div class=\"callout-header d-flex align-content-center\">\n",
    "\n",
    "<div class=\"callout-icon-container\">\n",
    "\n",
    "<i class='callout-icon'></i>\n",
    "\n",
    "</div>\n",
    "\n",
    "<div class=\"callout-title-container flex-fill\">\n",
    "\n",
    "Counting sequence elements\n",
    "\n",
    "</div>\n",
    "\n",
    "</div>\n",
    "\n",
    "<div class=\"callout-body-container callout-body\">\n",
    "\n",
    "We see that the code uses:"
   ]
  },
  {
   "cell_type": "code",
   "execution_count": null,
   "id": "984fa511",
   "metadata": {},
   "outputs": [],
   "source": [
    "sum(a == 9)"
   ]
  },
  {
   "cell_type": "markdown",
   "id": "3ba3259c",
   "metadata": {},
   "source": [
    "What exactly happens here under the hood? First `a == 9` creates an\n",
    "sequence of values that only contains\n",
    "\n",
    "`TRUE` or `FALSE`\n",
    "\n",
    "values, depending on whether each element is equal to 9 or not.\n",
    "\n",
    "Then, we ask R to add up (`sum`). R counts `TRUE` as 1, and `FALSE` as\n",
    "0; thus we can use `sum` to count the number of `TRUE` values.\n",
    "\n",
    "This comes down to asking “how many elements in `a` are equal to 9”.\n",
    "\n",
    "Don’t worry, we will go over this again in the next chapter.\n",
    "\n",
    "</div>\n",
    "\n",
    "</div>\n",
    "\n",
    "The `sum` command is a *counting* operation. It asks the computer to\n",
    "*count* the number of `9`s among the twenty numbers that are in location\n",
    "`a` following the random draw carried out by the `sample` operation. The\n",
    "result of the `sum` operation will be somewhere between 0 and 20, the\n",
    "number of simulated ambulances that were out-of-order on a given\n",
    "simulated day. The result is then placed in another location in the\n",
    "computer’s memory that we label `b`.\n",
    "\n",
    "Above you see that we have worked out how to tell the computer to do a\n",
    "single trial — one simulated day.\n",
    "\n",
    "### 2.3.1 Repeating trials\n",
    "\n",
    "We could run the code above for one trial over and over, and write down\n",
    "the result on a piece of paper. If we did this 100 times we would have\n",
    "100 counts of the number of simulated ambulances that had broken down\n",
    "for each simulated day. To answer our question, we will then count the\n",
    "number of times the count was more than three, and divide by 100, to get\n",
    "an estimate of the proportion of days with more than three out-of-order\n",
    "ambulances.\n",
    "\n",
    "One of the great things about the computer is that it is very good at\n",
    "repeating tasks many times, so we do not have to. Our next task is to\n",
    "ask the computer to repeat the single trial many times — say 1000 times\n",
    "— and count up the results for us.\n",
    "\n",
    "Of course R is very good at repeating things, but the instructions to\n",
    "tell R to repeat things will take a little while to get used to. Soon,\n",
    "we will spend some time going over it in more detail. For now though, we\n",
    "show you how what it looks like, and ask you to take our word for it.\n",
    "\n",
    "The standard way to repeat steps in R is a `for` loop. For example, let\n",
    "us say we wanted to display “Hello” five times. Here is how we would do\n",
    "that with a `for` loop:"
   ]
  },
  {
   "cell_type": "code",
   "execution_count": null,
   "id": "1f4e87a2",
   "metadata": {},
   "outputs": [],
   "source": [
    "# Read the next line as \"repeat the following steps five times\".\n",
    "for (i in 1:5) {\n",
    "    # The stuff between the curly brackets is the code we\n",
    "    # repeat five times.\n",
    "    # Print \"Hello\" to the screen.\n",
    "    message(\"Hello\")\n",
    "}"
   ]
  },
  {
   "cell_type": "markdown",
   "id": "f4d83052",
   "metadata": {},
   "source": [
    "You can probably see where we are going here. We are going to put the\n",
    "code for one trial inside a `for` loop, to repeat that trial code many\n",
    "times.\n",
    "\n",
    "Our next job is to *store* the results of each trial. If we are going to\n",
    "run 1000 trials, we need to store 1000 results.\n",
    "\n",
    "To do this, we start with a sequence of 1000 zeros, that we will fill in\n",
    "later, like this:"
   ]
  },
  {
   "cell_type": "code",
   "execution_count": null,
   "id": "868a84b5",
   "metadata": {},
   "outputs": [],
   "source": [
    "# Ask R to make a sequence of 1000 zeros that we will use\n",
    "# to store the results of our 1000 trials.\n",
    "# Call this sequence \"z\"\n",
    "z <- numeric(1000)"
   ]
  },
  {
   "cell_type": "markdown",
   "id": "81c924f8",
   "metadata": {},
   "source": [
    "For now, `z` contains 1000 zeros, but we will soon use a `for` loop to\n",
    "execute 1000 trials. For each trial we will calculate our result (the\n",
    "number of broken-down ambulances), and we will store the result in the\n",
    "`z` store. We end up with 1000 trial results stored in `z`.\n",
    "\n",
    "With these parts, we are now ready to solve the ambulance problem, using\n",
    "R.\n",
    "\n",
    "### 2.3.2 The solution\n",
    "\n",
    "This is our big moment! Here we will combine the elements shown above to\n",
    "perform our ambulance simulation over, say, 1000 days. Just a quick\n",
    "reminder: we do not expect you to understand all the detail of the code\n",
    "below; we will cover that later. For now, see if you can follow along\n",
    "with the gist of it.\n",
    "\n",
    "To solve resampling problems, we typically proceed as we have done\n",
    "above. We figure out the structure of a single trial and then place that\n",
    "trial in a `for` loop that executes it multiple times (once for each\n",
    "day, in our case).\n",
    "\n",
    "Now, let us apply this procedure to our ambulance problem. We simulate\n",
    "1000 days. You will see that we have just taken the parts above, and put\n",
    "them together. The only new part here, is the step at the end, where we\n",
    "store the result of the trial. Bear with us for that; we will come to it\n",
    "soon."
   ]
  },
  {
   "cell_type": "code",
   "execution_count": null,
   "id": "c5b95e5d",
   "metadata": {},
   "outputs": [],
   "source": [
    "# Ask R to make a sequence of 1000 zeros that we will use\n",
    "# to store the results of our 1000 trials.\n",
    "# Call this sequence \"z\"\n",
    "z <- numeric(1000)\n",
    "\n",
    "# These are the numbers we will ask R to select from.\n",
    "numbers <- 0:9\n",
    "\n",
    "# Read the next line as \"repeat the following steps 1000 times\".\n",
    "for (i in 1:1000) {\n",
    "    # The stuff between the curly brackets is the code we\n",
    "    # repeat 1000 times.\n",
    "\n",
    "    # Get 20 values from the *numbers* sequence.\n",
    "    # Store the 20 numbers with the name \"a\"\n",
    "    a <- sample(numbers, 20, replace=TRUE)\n",
    "\n",
    "    # Count the number of nines in the random numbers.\n",
    "    # The \"a == 9\" part identifies all the numbers equal to 9.\n",
    "    # The \"sum\" part counts how many numbers \"a == 9\" found.\n",
    "    b <- sum(a == 9)\n",
    "\n",
    "    # Store the result from this trial in the sequence \"z\"\n",
    "    z[i] <- b\n",
    "\n",
    "    # Now go back and repeat the trial, until done.\n",
    "}"
   ]
  },
  {
   "cell_type": "markdown",
   "id": "d45268b9",
   "metadata": {},
   "source": [
    "The `z[i] <- b` statement that follows the `sum` *counting* operation\n",
    "simply keeps track of the results of each trial, placing the number of\n",
    "defective ambulances for each trial inside the sequence called `z`. The\n",
    "sequence has 1000 positions: one for each trial.\n",
    "\n",
    "When we have run the code above, we have stored 1000 trial results in\n",
    "the sequence `z`. These are 1000 counts of out-of-order ambulances, one\n",
    "for each of our simulated days. Our last task is to calculate the\n",
    "proportion of these days for which we had more than three broken-down\n",
    "ambulances.\n",
    "\n",
    "Since our aim is to count the number of days in which more than 3 (4 or\n",
    "more) defective ambulances occur, we use another *counting* `sum`\n",
    "command at the end of the 1000 trials. This command *counts* how many\n",
    "times more than 3 defects occurred in the 1000 days recorded in our `z`\n",
    "sequence, and we place the result in another location, `k`. This gives\n",
    "us the total number of days where 4 or more defective ambulances are\n",
    "seen to occur. Then we divide the number in `k` by 1000, the number of\n",
    "trials. Thus we obtain an estimate of the chance, expressed as a\n",
    "probability between 0 and 1, that 4 or more ambulances will be defective\n",
    "on a given day. And we store that result in a location that we call\n",
    "`kk`, which R subsequently prints to the screen."
   ]
  },
  {
   "cell_type": "code",
   "execution_count": null,
   "id": "64702a74",
   "metadata": {},
   "outputs": [],
   "source": [
    "# How many trials resulted in more than 3 ambulances out of order?\n",
    "k <- sum(z > 3)\n",
    "\n",
    "# Convert to a proportion.\n",
    "kk <- k / 1000\n",
    "\n",
    "# Show the result.\n",
    "message(kk)"
   ]
  },
  {
   "cell_type": "markdown",
   "id": "f798aeb2",
   "metadata": {},
   "source": [
    "This is the estimate we wanted; the proportion of days where more than\n",
    "three ambulances were out of action.\n",
    "\n",
    "We have crept up on the solution, so it might not be clear to you how\n",
    "few steps you needed to do this task. Here is the whole solution to the\n",
    "problem, without the comments:"
   ]
  },
  {
   "cell_type": "code",
   "execution_count": null,
   "id": "33395af0",
   "metadata": {},
   "outputs": [],
   "source": [
    "z <- numeric(1000)\n",
    "numbers <- 0:9\n",
    "\n",
    "for (i in 1:1000) {\n",
    "    a <- sample(numbers, 20, replace=TRUE)\n",
    "    b <- sum(a == 9)\n",
    "    z[i] <- b\n",
    "}\n",
    "\n",
    "k <- sum(z > 3)\n",
    "kk <- k / 1000\n",
    "message(kk)"
   ]
  }
 ],
 "metadata": {
  "jupytext": {
   "cell_metadata_filter": "-all",
   "main_language": "R",
   "notebook_metadata_filter": "-all"
  },
  "kernelspec": {
   "display_name": "R (webR)",
   "name": "webR"
  }
 },
 "nbformat": 4,
 "nbformat_minor": 5
}
