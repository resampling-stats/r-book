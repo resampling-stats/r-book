{
 "cells": [
  {
   "cell_type": "markdown",
   "id": "7f5b60d4",
   "metadata": {},
   "source": [
    "# Five spades, four girls"
   ]
  },
  {
   "cell_type": "markdown",
   "id": "6ff98100",
   "metadata": {},
   "source": [
    "This is a compound problem: what are the chances of *both* five or more\n",
    "spades in one bridge hand, and four girls and a boy in a five-child\n",
    "family?\n",
    "\n",
    "“Compound” does not necessarily mean “complicated”. It means that the\n",
    "problem is a compound of two or more simpler problems.\n",
    "\n",
    "A natural way to handle such a compound problem is in stages, as we saw\n",
    "in the archery problem of\n",
    "<a href=\"#sec-one-black-archery\" class=\"quarto-xref\"><span\n",
    "class=\"quarto-unresolved-ref\">sec-one-black-archery</span></a>. If a\n",
    "“success” is achieved in the first stage, go on to the second stage; if\n",
    "not, don’t go on. More specifically in this example:\n",
    "\n",
    "- **Step 1.** Use a bridge card deck, and five coins with heads =\n",
    "  “girl”.\n",
    "- **Step 2.** Deal a 13-card bridge hand and count the spades. If 5 or\n",
    "  more spades, record “no” and end the experimental trial. Otherwise,\n",
    "  continue to step 3.\n",
    "- **Step 3.** Throw five coins, and count “heads.” If four heads, record\n",
    "  “yes,” otherwise record “no.”\n",
    "- **Step 4.** Repeat steps 2 and 3 a thousand times.\n",
    "- **Step 5.** Compute the proportion of “yes” in step 3. This estimates\n",
    "  the probability sought.\n",
    "\n",
    "The R solution to this compound problem is neither long nor difficult.\n",
    "We tackle it almost as if the two parts of the problem were to be dealt\n",
    "with separately. We first determine, in a random bridge hand, whether 5\n",
    "spades or more are dealt, as was done in the problem\n",
    "<a href=\"#sec-five-spades-four-clubs\" class=\"quarto-xref\"><span\n",
    "class=\"quarto-unresolved-ref\">sec-five-spades-four-clubs</span></a>.\n",
    "Then, `if` 5 or more spades are found, we use `sample` to generate a\n",
    "random family of 5 children. This means that we need not generate\n",
    "families if 5 or more spades were not dealt to the bridge hand, because\n",
    "a “success” is only recorded if both conditions are met. After we record\n",
    "the number of girls in each sample of 5 children, we need only finish\n",
    "the loop (by `}` and then use `sum` to count the number of samples that\n",
    "had 4 girls, storing the result in `k`. Since we only drew samples of\n",
    "children for those trials in which a bridge hand of 5 spades had already\n",
    "been dealt, `k` will have the number of trials out of 10000 in which\n",
    "both conditions were met."
   ]
  },
  {
   "cell_type": "code",
   "execution_count": null,
   "id": "09aabcba",
   "metadata": {},
   "outputs": [],
   "source": [
    "N <- 10000\n",
    "trial_results <- numeric(N)\n",
    "\n",
    "# Deck with 13 spades and 39 other cards\n",
    "deck <- rep(c('spade', 'others'), c(13, 52 - 13))\n",
    "\n",
    "for (i in 1:N) {\n",
    "    # Shuffle deck and draw 13 cards\n",
    "    hand <- sample(deck, 13)  # replace=FALSE is default\n",
    "\n",
    "    n_spades <- sum(hand == 'spade')\n",
    "\n",
    "    if (n_spades >= 5) {\n",
    "        # Generate a family, zeros for boys, ones for girls\n",
    "        children <- sample(c('girl', 'boy'), 5, replace=TRUE)\n",
    "        n_girls <- sum(children == 'girl')\n",
    "        trial_results[i] <- n_girls\n",
    "    }\n",
    "}\n",
    "\n",
    "k <- sum(trial_results == 4)\n",
    "\n",
    "kk <- k / N\n",
    "\n",
    "print(kk)"
   ]
  },
  {
   "cell_type": "markdown",
   "id": "5ca075ad",
   "metadata": {},
   "source": [
    "Here is an alternative approach to the same problem, but getting the\n",
    "result at the end of the loop, by combining Boolean vectors (see\n",
    "<a href=\"#sec-combine-booleans\" class=\"quarto-xref\"><span\n",
    "class=\"quarto-unresolved-ref\">sec-combine-booleans</span></a>)."
   ]
  },
  {
   "cell_type": "code",
   "execution_count": null,
   "id": "45764f10",
   "metadata": {},
   "outputs": [],
   "source": [
    "N <- 10000\n",
    "trial_spades <- numeric(N)\n",
    "trial_girls <- numeric(N)\n",
    "\n",
    "# Deck with 13 spades and 39 other cards\n",
    "deck <- rep(c('spade', 'other'), c(13, 39))\n",
    "\n",
    "for (i in 1:N) {\n",
    "    # Shuffle deck and draw 13 cards\n",
    "    hand <- sample(deck, 13)  # replace=FALSE is default\n",
    "    # Count and store the number of spades.\n",
    "    n_spades <- sum(hand == 'spade')\n",
    "    trial_spades[i] <- n_spades\n",
    "\n",
    "    # Generate a family, zeros for boys, ones for girls\n",
    "    children <- sample(c('girl', 'boy'), 5, replace=TRUE)\n",
    "    # Count and store the number of girls.\n",
    "    n_girls <- sum(children == 'girl')\n",
    "    trial_girls[i] <- n_girls\n",
    "}\n",
    "\n",
    "k <- sum((trial_spades >= 5) & (trial_girls == 4))\n",
    "\n",
    "kk <- k / N\n",
    "\n",
    "# Show the result\n",
    "message(kk)"
   ]
  }
 ],
 "metadata": {
  "jupytext": {
   "cell_metadata_filter": "-all",
   "main_language": "R",
   "notebook_metadata_filter": "-all"
  },
  "kernelspec": {
   "display_name": "R (webR)",
   "name": "webR"
  }
 },
 "nbformat": 4,
 "nbformat_minor": 5
}
