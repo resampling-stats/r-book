{
 "cells": [
  {
   "cell_type": "markdown",
   "id": "22929618",
   "metadata": {},
   "source": [
    "# Plotting histograms"
   ]
  },
  {
   "cell_type": "markdown",
   "id": "c0436bac",
   "metadata": {},
   "source": [
    "A histogram is a visual way to show the *distribution* of a sequence of\n",
    "values.\n"
   ]
  },
  {
   "cell_type": "markdown",
   "id": "335c913f",
   "metadata": {},
   "source": [
    "The easiest way to explain histograms is to show one.\n",
    "\n",
    "Let’s start with a sequence of values we are interested in:\n",
    "\n",
    "Here are the 24 values for whiskey prices in states that did not have a\n",
    "liquor monopoly (`priv`)."
   ]
  },
  {
   "cell_type": "code",
   "execution_count": null,
   "id": "47b71649",
   "metadata": {},
   "outputs": [],
   "source": [
    "priv <- c(4.82, 5.29, 4.89, 4.95, 4.55, 4.90, 5.25, 5.30, 4.29, 4.85, 4.54,\n",
    "          4.75, 4.85, 4.85, 4.50, 4.75, 4.79, 4.85, 4.79, 4.95, 4.95, 4.75,\n",
    "          5.20, 5.10, 4.80, 4.29)"
   ]
  },
  {
   "cell_type": "markdown",
   "id": "15f001a0",
   "metadata": {},
   "source": [
    "These are the 16 values for states with a liquor monopoly (`govt`):"
   ]
  },
  {
   "cell_type": "code",
   "execution_count": null,
   "id": "cb4a4e5a",
   "metadata": {},
   "outputs": [],
   "source": [
    "govt <- c(4.65, 4.55, 4.11, 4.15, 4.20, 4.55, 3.80, 4.00, 4.19, 4.75, 4.74,\n",
    "          4.50, 4.10, 4.00, 5.05, 4.20)"
   ]
  },
  {
   "cell_type": "markdown",
   "id": "523bcd10",
   "metadata": {},
   "source": [
    "We concatenate these values to get a sequence (a vector) of all 40\n",
    "liquor prices:"
   ]
  },
  {
   "cell_type": "code",
   "execution_count": null,
   "id": "d6d4ef70",
   "metadata": {},
   "outputs": [],
   "source": [
    "prices <- c(priv, govt)\n",
    "prices"
   ]
  },
  {
   "cell_type": "markdown",
   "id": "2fb75292",
   "metadata": {},
   "source": [
    "We are interested in the distribution of these 40 values. To show the\n",
    "distribution, we can make and show a histogram of these prices, using\n",
    "the `hist` function in R."
   ]
  },
  {
   "cell_type": "code",
   "execution_count": null,
   "id": "211bd815",
   "metadata": {},
   "outputs": [],
   "source": [
    "hist_res <- hist(prices)"
   ]
  },
  {
   "cell_type": "markdown",
   "id": "8e73c5c6",
   "metadata": {},
   "source": [
    "`hist` has calculated a vector of suitable intervals (*bins*) to divide\n",
    "up the range of values, and then counted how many values in `prices`\n",
    "fall into each interval (bin).\n",
    "\n",
    "You will notice that `hist` has sent back some results from the process\n",
    "of making the histogram.\n",
    "\n",
    "The first result of interest to us is the definition of the intervals\n",
    "(bins) into which the histogram has divided the range of `prices`\n",
    "values.\n"
   ]
  },
  {
   "cell_type": "markdown",
   "id": "382643fc",
   "metadata": {},
   "source": [
    "In fact, `hist` sent back the edges (or *breaks*) of these bins as part\n",
    "of the `hist_res` results. `hist_res` is a special R value to contain\n",
    "the results of the histogram. It contains various relevant values."
   ]
  },
  {
   "cell_type": "code",
   "execution_count": null,
   "id": "77c05fb5",
   "metadata": {},
   "outputs": [],
   "source": [
    "hist_res"
   ]
  },
  {
   "cell_type": "markdown",
   "id": "0564abab",
   "metadata": {},
   "source": [
    "Notice that the values attached to the `hist_res` result have *names*,\n",
    "such as `breaks`, `counts` and so on. To get the attached values from\n",
    "the `hist_res` results, we use the `$` character to mean *attached to*.\n",
    "So read:"
   ]
  },
  {
   "cell_type": "code",
   "execution_count": null,
   "id": "eff7c645",
   "metadata": {},
   "outputs": [],
   "source": [
    "hist_res$counts"
   ]
  },
  {
   "cell_type": "markdown",
   "id": "5ee85b22",
   "metadata": {},
   "source": [
    "as “get the value called `counts` that is attached to the `hist_res`\n",
    "value.”\n",
    "\n",
    "When we called `hist(prices)`, the `hist` function had to decide how\n",
    "many bins to use, and the edges of the bins. By default, it does this\n",
    "with an algorithm called [Sturge’s\n",
    "rule](https://en.wikipedia.org/wiki/Sturges%27s_rule). The details of\n",
    "the algorithm are not important to us, but the result is that `hist`\n",
    "decided to make 9 bins, with the edges you see in the `breaks` value of\n",
    "`hist_res`."
   ]
  },
  {
   "cell_type": "code",
   "execution_count": null,
   "id": "481b33e2",
   "metadata": {},
   "outputs": [],
   "source": [
    "# Bin edges\n",
    "hist_res$breaks"
   ]
  },
  {
   "cell_type": "markdown",
   "id": "92716eff",
   "metadata": {},
   "source": [
    "Think of the `breaks` values as: the value that starts the first bin,\n",
    "followed by the 9 values that end each of the 9 bins.\n",
    "\n",
    "The `breaks` vector shows that the first bin was from (including) 3.8 up\n",
    "to, *and including* 4.0, the second bin was from (not including) 4.0 up\n",
    "to, and including 4.2 and so on. The last bin is from (not including)\n",
    "5.2 through (including) 5.4. There are 10 edges (breaks), forming 9\n",
    "bins.[^1]\n",
    "\n",
    "Put another way, the edges (boundaries) that `hist` sent back start with\n",
    "the left-hand (inclusive) edge of the first bin, followed by the 9\n",
    "right-hand (inclusive) edges of the 9 bins.\n",
    "\n",
    "The list of results in `hist_res` includes the vector of *counts* of\n",
    "values in `prices` that fall within each bin."
   ]
  },
  {
   "cell_type": "code",
   "execution_count": null,
   "id": "d0dbc6f8",
   "metadata": {},
   "outputs": [],
   "source": [
    "# Counts of values falling into each bin.\n",
    "hist_res$counts"
   ]
  },
  {
   "cell_type": "markdown",
   "id": "efa67cf5",
   "metadata": {},
   "source": [
    "The `counts` vector shows that 3 values from `prices` fell in the range\n",
    "3.8 through 4.0, 6 values fell in the range from (not including) 4.0\n",
    "through 4.2, and so on.\n",
    "\n",
    "The counts correspond to the heights of the bars on the histogram, so\n",
    "the first bar has height 3, the second bar has height 6, and so on.\n",
    "\n",
    "By default, `hist` uses Sturge’s rule to decide on the number of bins.\n",
    "You can also *suggest* to R that it uses another number of bins, by\n",
    "sending a number for the `breaks` argument to `hist`. For example, you\n",
    "might want to suggest 20 bins:"
   ]
  },
  {
   "cell_type": "code",
   "execution_count": null,
   "id": "f616509e",
   "metadata": {},
   "outputs": [],
   "source": [
    "results_20 <- hist(prices, breaks=20)"
   ]
  },
  {
   "cell_type": "markdown",
   "id": "7001c3e0",
   "metadata": {},
   "source": [
    "Notice that R treats this number as a suggestion, and will adjust the\n",
    "actual number of bins to something close to the suggestion and that\n",
    "result in suitably rounded bin edges. In fact, R responded to the\n",
    "suggestion of 20 by giving 15 bins:"
   ]
  },
  {
   "cell_type": "code",
   "execution_count": null,
   "id": "fbcaabf1",
   "metadata": {},
   "outputs": [],
   "source": [
    "length(results_20$counts)"
   ]
  },
  {
   "cell_type": "markdown",
   "id": "578c9aed",
   "metadata": {},
   "source": [
    "We now have 16 new edges (boundaries), the first value giving the\n",
    "(inclusive) left-hand edge of the first bin, and the subsequent 15\n",
    "values giving the (inclusive) right-hand edges."
   ]
  },
  {
   "cell_type": "code",
   "execution_count": null,
   "id": "873eb7a9",
   "metadata": {},
   "outputs": [],
   "source": [
    "results_20$breaks"
   ]
  },
  {
   "cell_type": "markdown",
   "id": "03c5dc47",
   "metadata": {},
   "source": [
    "We can also specify our own `breaks`, in order to bypass `hist`s default\n",
    "algorithm. For example, we might prefer exactly 16 bins of size 0.1,\n",
    "with edges starting at 3.8:"
   ]
  },
  {
   "cell_type": "code",
   "execution_count": null,
   "id": "14e7a477",
   "metadata": {},
   "outputs": [],
   "source": [
    "our_edges <- 3.8 + 0:15 * 0.1\n",
    "our_edges"
   ]
  },
  {
   "cell_type": "markdown",
   "id": "014f7797",
   "metadata": {},
   "source": [
    "We can send these directly to `hist` to specify the edges (and the\n",
    "number of bins):"
   ]
  },
  {
   "cell_type": "code",
   "execution_count": null,
   "id": "86f49ff6",
   "metadata": {},
   "outputs": [],
   "source": [
    "results_16 = hist(prices, breaks=our_edges)"
   ]
  },
  {
   "cell_type": "code",
   "execution_count": null,
   "id": "1ba8bc1b",
   "metadata": {
    "lines_to_next_cell": 0
   },
   "outputs": [],
   "source": [
    "# Show the edges that come back (these are the edges we sent).\n",
    "results_16$breaks"
   ]
  },
  {
   "cell_type": "markdown",
   "id": "37709095",
   "metadata": {},
   "source": []
  },
  {
   "cell_type": "markdown",
   "id": "4743b4c2",
   "metadata": {},
   "source": [
    "[^1]: You can customize the calculation and meaning of the `breaks`\n",
    "    values using various arguments to the `hist` function. See the\n",
    "    documentation of `hist` for more details."
   ]
  }
 ],
 "metadata": {
  "jupytext": {
   "cell_metadata_filter": "-all",
   "main_language": "R",
   "notebook_metadata_filter": "-all"
  },
  "kernelspec": {
   "display_name": "R (webR)",
   "name": "webR"
  }
 },
 "nbformat": 4,
 "nbformat_minor": 5
}
