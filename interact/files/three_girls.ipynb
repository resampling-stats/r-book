{
 "cells": [
  {
   "cell_type": "markdown",
   "id": "966e7375",
   "metadata": {},
   "source": [
    "# Three Girls"
   ]
  },
  {
   "cell_type": "markdown",
   "id": "159aba9f",
   "metadata": {},
   "source": [
    "This notebook estimates the probability that a family of four children\n",
    "will have exactly three girls."
   ]
  },
  {
   "cell_type": "code",
   "execution_count": null,
   "id": "a6cfac37",
   "metadata": {},
   "outputs": [],
   "source": [
    "girl_counts <- numeric(10000)\n",
    "\n",
    "# Do 10000 trials\n",
    "for (i in 1:10000) {\n",
    "\n",
    "    # Select 'girl' or 'boy' at random, four times.\n",
    "    children <- sample(c('girl', 'boy'), size=4, replace=TRUE)\n",
    "\n",
    "    # Count the number of girls and put the result in b.\n",
    "    b <- sum(children == 'girl')\n",
    "\n",
    "    # Keep track of each trial result in z.\n",
    "    girl_counts[i] <- b\n",
    "\n",
    "    # End this trial, repeat the experiment until 10000 trials are complete,\n",
    "    # then proceed.\n",
    "}\n",
    "\n",
    "# Count the number of experiments where we got exactly 3 girls, and put this\n",
    "# result in k.\n",
    "n_three_girls <- sum(girl_counts == 3)\n",
    "\n",
    "# Convert to a proportion.\n",
    "three_girls_prop <- n_three_girls / 10000\n",
    "\n",
    "# Print the results.\n",
    "message(three_girls_prop)"
   ]
  }
 ],
 "metadata": {
  "jupytext": {
   "cell_metadata_filter": "-all",
   "main_language": "R",
   "notebook_metadata_filter": "-all"
  },
  "kernelspec": {
   "display_name": "R (webR)",
   "name": "webR"
  }
 },
 "nbformat": 4,
 "nbformat_minor": 5
}
