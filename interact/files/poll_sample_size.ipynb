{
 "cells": [
  {
   "cell_type": "markdown",
   "id": "6acdac79",
   "metadata": {},
   "source": [
    "# Sample size for an internet contract poll"
   ]
  },
  {
   "cell_type": "markdown",
   "id": "9b85d4b2",
   "metadata": {},
   "source": [
    "We want to know how many voters we should survey to be confident that\n",
    "the ratio that approve a proposal (to give an internet contract) has\n",
    "better than 50:50 approval. We are thinking of taking a sample size of\n",
    "50. We believe that the actual proportion in favor is 70%. We have\n",
    "estimated that we can be confident the sample does not reflect a 50:50\n",
    "universe if there are 32 or more voters in favor of the proposal. For\n",
    "the 70:30 universe, how many simulated samples give us this value of 32,\n",
    "or greater?"
   ]
  },
  {
   "cell_type": "code",
   "execution_count": null,
   "id": "535d5bf3",
   "metadata": {},
   "outputs": [],
   "source": [
    "# Number of trials.\n",
    "n_trials <- 10000\n",
    "\n",
    "# Make array to store results for each trial.\n",
    "results <- numeric(n_trials)\n",
    "\n",
    "# Do 10,00 trials\n",
    "for (i in 1:n_trials) {\n",
    "    # Generate 50 voters with 70% chance of \"yes“.\n",
    "    voters <- sample(c(\"yes\", \"no\"), size=50, replace=TRUE, prob=c(0.7, 0.3))\n",
    "    # Count the \"yeses\".\n",
    "    n_yes <- sum(voters == 'yes')\n",
    "    # Keep score of the result.\n",
    "    results[i] <- n_yes\n",
    "}\n",
    "\n",
    "# Count how often the sample result >= our 32 cutoff (recall that samples\n",
    "# with 31 or fewer \"yeses\" cannot be ruled out of a 50/50 universe).\n",
    "k <- sum(results >= 32)\n",
    "# Convert to a proportion\n",
    "kk <- k / n_trials\n",
    "\n",
    "message('p of 50 voter samples in 70:30 universe >= 32 \"yes\": ', kk)"
   ]
  }
 ],
 "metadata": {
  "jupytext": {
   "cell_metadata_filter": "-all",
   "main_language": "R",
   "notebook_metadata_filter": "-all"
  },
  "kernelspec": {
   "display_name": "R (webR)",
   "name": "webR"
  }
 },
 "nbformat": 4,
 "nbformat_minor": 5
}
