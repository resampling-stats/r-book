{
 "cells": [
  {
   "cell_type": "markdown",
   "id": "3ef88271",
   "metadata": {},
   "source": [
    "# Ships with gold and silver"
   ]
  },
  {
   "cell_type": "markdown",
   "id": "55a046c8",
   "metadata": {},
   "source": [
    "In which we solve the problem of gold and silver chests in a discovered\n",
    "ship."
   ]
  },
  {
   "cell_type": "code",
   "execution_count": null,
   "id": "99409aec",
   "metadata": {},
   "outputs": [],
   "source": [
    "# The 3 buckets.  Each bucket represents a ship.  Each has two chests.\n",
    "bucket1 <- c('Gold', 'Gold')  # Chests in first ship.\n",
    "bucket2 <- c('Gold',  'Silver')  # Chests in second ship.\n",
    "bucket3 <- c('Silver', 'Silver')  # Chests in third ship."
   ]
  },
  {
   "cell_type": "code",
   "execution_count": null,
   "id": "ec010a88",
   "metadata": {},
   "outputs": [],
   "source": [
    "# Mark trials as not valid to start with.\n",
    "# Trials where we don't get a gold chest first will\n",
    "# keep this 'No gold in chest 1, chest 2 never opened' marker.\n",
    "second_chests <- rep('No gold in chest 1, chest 2 never opened', 10000)\n",
    "\n",
    "for (i in 1:10000) {\n",
    "    # Select a ship at random from the three ships.\n",
    "    ship_no <- sample(1:3, size=1)\n",
    "    # Get the chests from this ship (represented by a bucket).\n",
    "    if (ship_no == 1) {\n",
    "        bucket <- bucket1\n",
    "    }\n",
    "    if (ship_no == 2) {\n",
    "        bucket <- bucket2\n",
    "    }\n",
    "    if (ship_no == 3) {\n",
    "        bucket <- bucket3\n",
    "    }\n",
    "\n",
    "    # We shuffle the order of the chests in this ship, to simulate\n",
    "    # the fact that we don't know which of the two chests we have\n",
    "    # found first.\n",
    "    shuffled <- sample(bucket)\n",
    "\n",
    "    if (shuffled[1] == 'Gold') {  # We found a gold chest first.\n",
    "        # Store whether the Second chest was silver or gold.\n",
    "        second_chests[i] <- shuffled[2]\n",
    "    }\n",
    "}  # End loop, go back to beginning.\n",
    "\n",
    "# Number of times we found gold in the second chest.\n",
    "n_golds <- sum(second_chests == 'Gold')\n",
    "# Number of times we found silver in the second chest.\n",
    "n_silvers <- sum(second_chests == 'Silver')\n",
    "# As a ratio of golds to all second chests (where the first was gold).\n",
    "message(n_golds / (n_golds + n_silvers))"
   ]
  }
 ],
 "metadata": {
  "jupytext": {
   "cell_metadata_filter": "-all",
   "main_language": "R",
   "notebook_metadata_filter": "-all"
  },
  "kernelspec": {
   "display_name": "R (webR)",
   "name": "webR"
  }
 },
 "nbformat": 4,
 "nbformat_minor": 5
}
