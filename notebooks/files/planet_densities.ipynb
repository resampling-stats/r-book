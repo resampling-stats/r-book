{
 "cells": [
  {
   "cell_type": "markdown",
   "id": "9972af52",
   "metadata": {},
   "source": [
    "# Planet densities and distance"
   ]
  },
  {
   "cell_type": "markdown",
   "id": "c8ceb98a",
   "metadata": {},
   "source": [
    "We apply the logic of resampling to the problem of close and distant\n",
    "planets and their densities."
   ]
  },
  {
   "cell_type": "code",
   "execution_count": null,
   "id": "9d54e9ac",
   "metadata": {},
   "outputs": [],
   "source": [
    "# Steps 1 and 2.\n",
    "actual_mean_diff <- 8 / 2 - 7 / 3\n",
    "\n",
    "# Step 3\n",
    "ranks <- 1:5\n",
    "\n",
    "n <- 10000\n",
    "\n",
    "mean_differences <- numeric(n)\n",
    "\n",
    "for (i in 1:n) {\n",
    "    # Step 4\n",
    "    shuffled <- sample(ranks)\n",
    "    # Step 5\n",
    "    closer <- shuffled[1:2]  # First 2\n",
    "    further <- shuffled[3:5] # Last 3\n",
    "    # Step 6\n",
    "    mean_close <- mean(closer)\n",
    "    mean_far <- mean(further)\n",
    "    # Step 7\n",
    "    mean_differences[i] <- mean_close - mean_far\n",
    "}\n",
    "\n",
    "# Step 9\n",
    "k <- sum(mean_differences >= actual_mean_diff)\n",
    "prob <- k / n\n",
    "\n",
    "message('Proportion of trials with mean difference >= 1.67: ',\n",
    "        round(prob, 2))"
   ]
  },
  {
   "cell_type": "markdown",
   "id": "99150e88",
   "metadata": {},
   "source": [
    "Interpretation: 20 percent of the time, random shufflings produced a\n",
    "difference in ranks as great as or greater than observed. Hence, on the\n",
    "strength of this evidence, we should *not* conclude that there is a\n",
    "statistically surprising difference in densities between the further\n",
    "planets and the closer planets."
   ]
  }
 ],
 "metadata": {
  "jupytext": {
   "cell_metadata_filter": "-all",
   "main_language": "R",
   "notebook_metadata_filter": "-all"
  },
  "kernelspec": {
   "display_name": "R (webR)",
   "name": "webR"
  }
 },
 "nbformat": 4,
 "nbformat_minor": 5
}
