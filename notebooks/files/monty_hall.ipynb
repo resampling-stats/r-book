{
 "cells": [
  {
   "cell_type": "markdown",
   "id": "b3460119",
   "metadata": {},
   "source": [
    "# The Monty Hall problem"
   ]
  },
  {
   "cell_type": "markdown",
   "id": "a7540294",
   "metadata": {},
   "source": [
    "Here we do a R simulation of the Monty Hall problem.\n",
    "\n",
    "The Monty Hall problem has a slightly complicated structure, so we will\n",
    "start by looking at the procedure for one trial. When we have that\n",
    "clear, we will put that procedure into a `for` loop for the simulation.\n",
    "\n",
    "Let’s start with some variables. Let’s call the door I choose `my_door`.\n",
    "\n",
    "We choose that door at random from a sequence of all possible doors.\n",
    "Call the doors 1, 2 and 3 from left to right."
   ]
  },
  {
   "cell_type": "code",
   "execution_count": null,
   "id": "d011f23d",
   "metadata": {},
   "outputs": [],
   "source": [
    "# Vector of doors to chose from.\n",
    "doors = c(1, 2, 3)\n",
    "\n",
    "# We choose one door at random.\n",
    "my_door <- sample(doors, size=1)\n",
    "\n",
    "# Show the result\n",
    "my_door"
   ]
  },
  {
   "cell_type": "markdown",
   "id": "12a4b02d",
   "metadata": {},
   "source": [
    "We choose one of the doors to be the door with the car behind it:"
   ]
  },
  {
   "cell_type": "code",
   "execution_count": null,
   "id": "adaddda3",
   "metadata": {},
   "outputs": [],
   "source": [
    "# One door at random has the car behind it.\n",
    "car_door <- sample(doors, size=1)\n",
    "\n",
    "# Show the result\n",
    "car_door"
   ]
  },
  {
   "cell_type": "markdown",
   "id": "2d97d743",
   "metadata": {},
   "source": [
    "Now we need to decide which door Monty will open.\n",
    "\n",
    "By our set up, Monty cannot open our door (`my_door`). By the set up, he\n",
    "has not opened (and cannot open) the door with the car behind it\n",
    "(`car_door`).\n",
    "\n",
    "`my_door` and `car_door` might be the same.\n",
    "\n",
    "So, to get Monty’s choices, we want to take all doors (`doors`) and\n",
    "remove `my_door` and `car_door`. That leaves the door or doors Monty can\n",
    "open.\n",
    "\n",
    "Here are the doors Monty cannot open. Remember, a third of the time\n",
    "`my_door` and `car_door` will be the same, so we will include the same\n",
    "door twice, as doors Monty can’t open."
   ]
  },
  {
   "cell_type": "code",
   "execution_count": null,
   "id": "293d442a",
   "metadata": {},
   "outputs": [],
   "source": [
    "cant_open = c(my_door, car_door)\n",
    "cant_open"
   ]
  },
  {
   "cell_type": "markdown",
   "id": "ca9adaad",
   "metadata": {},
   "source": [
    "We want to find the remaining doors from `doors` after removing the\n",
    "doors named in `cant_open`.\n",
    "\n",
    "R has a good function for this, called `setdiff`. It calculates the *set\n",
    "difference* between two sequences, such as vectors.\n",
    "\n",
    "The set difference between two sequences is the members that *are* in\n",
    "the first sequence, but are *not* in the second sequence. Here are a few\n",
    "examples of this set difference function in R."
   ]
  },
  {
   "cell_type": "code",
   "execution_count": null,
   "id": "686c29d4",
   "metadata": {},
   "outputs": [],
   "source": [
    "# Members in c(1, 2, 3) that are *not* in c(1)\n",
    "# 1, 2, 3, removing 1, if present.\n",
    "setdiff(c(1, 2, 3), c(1))"
   ]
  },
  {
   "cell_type": "code",
   "execution_count": null,
   "id": "7fa4dbb8",
   "metadata": {},
   "outputs": [],
   "source": [
    "# Members in c(1, 2, 3) that are *not* in c(2, 3)\n",
    "# 1, 2, 3, removing 2 and 3, if present.\n",
    "setdiff(c(1, 2, 3), c(2, 3))"
   ]
  },
  {
   "cell_type": "code",
   "execution_count": null,
   "id": "4f0d56b1",
   "metadata": {},
   "outputs": [],
   "source": [
    "# Members in c(1, 2, 3) that are *not* in c(2, 2)\n",
    "# 1, 2, 3, removing 2 and 2 again, if present.\n",
    "setdiff(c(1, 2, 3), c(2, 2))"
   ]
  },
  {
   "cell_type": "markdown",
   "id": "ce633d75",
   "metadata": {},
   "source": [
    "This logic allows us to choose the doors Monty can open:"
   ]
  },
  {
   "cell_type": "code",
   "execution_count": null,
   "id": "5609c04f",
   "metadata": {},
   "outputs": [],
   "source": [
    "montys_choices <- setdiff(doors, c(my_door, car_door))\n",
    "montys_choices"
   ]
  },
  {
   "cell_type": "markdown",
   "id": "84a54be4",
   "metadata": {},
   "source": [
    "Notice that `montys_choices` will only have one element left when\n",
    "`my_door` and `car_door` were different, but it will have two elements\n",
    "if `my_door` and `car_door` were the same.\n",
    "\n",
    "Let’s play out those two cases:"
   ]
  },
  {
   "cell_type": "code",
   "execution_count": null,
   "id": "38e4fbcf",
   "metadata": {},
   "outputs": [],
   "source": [
    "my_door <- 1  # For example.\n",
    "car_door <- 2  # For example.\n",
    "# Monty can only choose door 3 now.\n",
    "montys_choices <- setdiff(doors, c(my_door, car_door))\n",
    "montys_choices"
   ]
  },
  {
   "cell_type": "code",
   "execution_count": null,
   "id": "9804ddb1",
   "metadata": {},
   "outputs": [],
   "source": [
    "my_door <- 1  # For example.\n",
    "car_door <- 1  # For example.\n",
    "# Monty can choose either door 2 or door 3.\n",
    "montys_choices <- setdiff(doors, c(my_door, car_door))\n",
    "montys_choices"
   ]
  },
  {
   "cell_type": "markdown",
   "id": "aad425a8",
   "metadata": {},
   "source": [
    "If Monty can only choose one door, we’ll take that. Otherwise we’ll\n",
    "chose a door at random from the two doors available."
   ]
  },
  {
   "cell_type": "code",
   "execution_count": null,
   "id": "3ff97c88",
   "metadata": {},
   "outputs": [],
   "source": [
    "if (length(montys_choices) == 1) {  # Only one door available.\n",
    "    montys_door <- montys_choices[1]  # Take the first (of 1!).\n",
    "} else {  # Two doors to choose from:\n",
    "    # Choose at random.\n",
    "    montys_door <- sample(montys_choices, size=1)\n",
    "}\n",
    "montys_door"
   ]
  },
  {
   "cell_type": "markdown",
   "id": "fcf9ca4f",
   "metadata": {},
   "source": [
    "Now we know Monty’s door, we can identify the other door, by removing\n",
    "our door, and Monty’s door, from the available options:"
   ]
  },
  {
   "cell_type": "code",
   "execution_count": null,
   "id": "c13244de",
   "metadata": {},
   "outputs": [],
   "source": [
    "remaining_doors <- setdiff(doors, c(my_door, montys_door))\n",
    "# There is only one remaining door, take that.\n",
    "other_door <- remaining_doors[1]\n",
    "other_door"
   ]
  },
  {
   "cell_type": "markdown",
   "id": "bc028ecb",
   "metadata": {},
   "source": [
    "The logic above gives us the full procedure for one trial."
   ]
  },
  {
   "cell_type": "code",
   "execution_count": null,
   "id": "e9176543",
   "metadata": {},
   "outputs": [],
   "source": [
    "my_door <- sample(doors, size=1)\n",
    "car_door <- sample(doors, size=1)\n",
    "# Which door will Monty open?\n",
    "montys_choices <- setdiff(doors, c(my_door, car_door))\n",
    "# Choose single door left to choose, or door at random if two.\n",
    "if (length(montys_choices) == 1) {  # Only one door available.\n",
    "    montys_door <- montys_choices[1]  # Take the first (of 1!).\n",
    "} else {  # Two doors to choose from:\n",
    "    # Choose at random.\n",
    "    montys_door <- sample(montys_choices, size=1)\n",
    "}\n",
    "# Now find the door we'll open if we switch.\n",
    "# There is only one door left.\n",
    "remaining_doors <- setdiff(doors, c(my_door, montys_door))\n",
    "other_door <- remaining_doors[1]\n",
    "# Calculate the result of this trial.\n",
    "if (my_door == car_door) {\n",
    "    stay_wins <- TRUE\n",
    "}\n",
    "if (other_door == car_door) {\n",
    "    switch_wins <- TRUE\n",
    "}"
   ]
  },
  {
   "cell_type": "markdown",
   "id": "ed04e9dd",
   "metadata": {},
   "source": [
    "All that remains is to put that trial procedure into a loop, and collect\n",
    "the results as we repeat the procedure many times."
   ]
  },
  {
   "cell_type": "code",
   "execution_count": null,
   "id": "e50b730c",
   "metadata": {},
   "outputs": [],
   "source": [
    "# Vectors to store the results for each trial.\n",
    "stay_wins <- rep(FALSE, 10000)\n",
    "switch_wins <- rep(FALSE, 10000)\n",
    "\n",
    "# Doors to chose from.\n",
    "doors <- c(1, 2, 3)\n",
    "\n",
    "for (i in 1:10000) {\n",
    "    # You will recognize the below as the single-trial procedure above.\n",
    "    my_door <- sample(doors, size=1)\n",
    "    car_door <- sample(doors, size=1)\n",
    "    # Which door will Monty open?\n",
    "    montys_choices <- setdiff(doors, c(my_door, car_door))\n",
    "    # Choose single door left to choose, or door at random if two.\n",
    "    if (length(montys_choices) == 1) {  # Only one door available.\n",
    "        montys_door <- montys_choices[1]  # Take the first (of 1!).\n",
    "    } else {  # Two doors to choose from:\n",
    "        # Choose at random.\n",
    "        montys_door <- sample(montys_choices, size=1)\n",
    "    }\n",
    "    # Now find the door we'll open if we switch.\n",
    "    # There is only one door left.\n",
    "    remaining_doors <- setdiff(doors, c(my_door, montys_door))\n",
    "    other_door <- remaining_doors[1]\n",
    "    # Calculate the result of this trial.\n",
    "    if (my_door == car_door) {\n",
    "        stay_wins[i] <- TRUE\n",
    "    }\n",
    "    if (other_door == car_door) {\n",
    "        switch_wins[i] <- TRUE\n",
    "    }\n",
    "}\n",
    "\n",
    "p_for_stay <- sum(stay_wins) / 10000\n",
    "p_for_switch <- sum(switch_wins) / 10000\n",
    "\n",
    "message('p for stay: ', p_for_stay)"
   ]
  },
  {
   "cell_type": "code",
   "execution_count": null,
   "id": "d92cca5b",
   "metadata": {},
   "outputs": [],
   "source": [
    "message('p for switch: ', p_for_switch)"
   ]
  },
  {
   "cell_type": "markdown",
   "id": "b635fd9a",
   "metadata": {},
   "source": [
    "We can also follow the same strategy as we used for the second\n",
    "implementation of the two-ships problem\n",
    "(<a href=\"#sec-ships-booleans\" class=\"quarto-xref\"><span\n",
    "class=\"quarto-unresolved-ref\">sec-ships-booleans</span></a>).\n",
    "\n",
    "Here, as in the second two-ships implementation, we do not calculate the\n",
    "trial results (`stay_wins`, `switch_wins`) in each trial. Instead, we\n",
    "store the *doors* for each trial, and then use Boolean vectors to\n",
    "calculate the results for all trials, at the end."
   ]
  },
  {
   "cell_type": "code",
   "execution_count": null,
   "id": "05a0a3cc",
   "metadata": {},
   "outputs": [],
   "source": [
    "# Instead of storing the trial results, we store the doors for each trial.\n",
    "my_doors <- numeric(10000)\n",
    "car_doors <- numeric(10000)\n",
    "other_doors <- numeric(10000)\n",
    "\n",
    "# Doors to chose from.\n",
    "doors <- c(1, 2, 3)\n",
    "\n",
    "for (i in 1:10000) {\n",
    "    my_door <- sample(doors, size=1)\n",
    "    car_door <- sample(doors, size=1)\n",
    "    # Which door will Monty open?\n",
    "    montys_choices <- setdiff(doors, c(my_door, car_door))\n",
    "    # Choose single door left to choose, or door at random if two.\n",
    "    if (length(montys_choices) == 1) {  # Only one door available.\n",
    "        montys_door <- montys_choices[1]  # Take the first (of 1!).\n",
    "    } else {  # Two doors to choose from:\n",
    "        # Choose at random.\n",
    "        montys_door <- sample(montys_choices, size=1)\n",
    "    }\n",
    "    # Now find the door we'll open if we switch.\n",
    "    # There is only one door left.\n",
    "    remaining_doors <- setdiff(doors, c(my_door, montys_door))\n",
    "    other_door <- remaining_doors[1]\n",
    "\n",
    "    # Store the doors we chose.\n",
    "    my_doors[i] <- my_door\n",
    "    car_doors[i] <- car_door\n",
    "    other_doors[i] <- other_door\n",
    "}\n",
    "\n",
    "# Now - at the end of all the trials, we use Boolean vectors to calculate the\n",
    "# results.\n",
    "stay_wins <- my_doors == car_doors\n",
    "switch_wins <- other_doors == car_doors\n",
    "\n",
    "p_for_stay <- sum(stay_wins) / 10000\n",
    "p_for_switch <- sum(switch_wins) / 10000\n",
    "\n",
    "message('p for stay: ', p_for_stay)"
   ]
  },
  {
   "cell_type": "code",
   "execution_count": null,
   "id": "9cc5fdf6",
   "metadata": {},
   "outputs": [],
   "source": [
    "message('p for switch: ', p_for_switch)"
   ]
  },
  {
   "cell_type": "markdown",
   "id": "a5d8c8d0",
   "metadata": {},
   "source": [
    "### 10.7.1 Insight from the Monty Hall simulation\n",
    "\n",
    "The code simulation gives us an estimate of the right answer, but it\n",
    "also forces us to set out the exact mechanics of the problem. For\n",
    "example, by looking at the code, we see that we can calculate\n",
    "“stay_wins” with this code alone:"
   ]
  },
  {
   "cell_type": "code",
   "execution_count": null,
   "id": "f717df84",
   "metadata": {},
   "outputs": [],
   "source": [
    "# Just choose my door and the car door for each trial.\n",
    "my_doors <- numeric(10000)\n",
    "car_doors <- numeric(10000)\n",
    "doors <- c(1, 2, 3)\n",
    "\n",
    "for (i in 1:10000) {\n",
    "    my_doors[i] <- sample(doors, size=1)\n",
    "    car_doors[i] <- sample(doors, size=1)\n",
    "}\n",
    "\n",
    "# Calculate whether I won by staying.\n",
    "stay_wins <- my_doors == car_doors\n",
    "p_for_stay <- sum(stay_wins) / 10000\n",
    "\n",
    "message('p for stay: ', p_for_stay)"
   ]
  },
  {
   "cell_type": "markdown",
   "id": "211ff724",
   "metadata": {},
   "source": [
    "This calculation, on its own, tells us the answer, but it also points to\n",
    "another insight — whatever Monty does with the doors, it doesn’t change\n",
    "the probability that our *initial guess* is right, and that must be 1 in\n",
    "3 (0.333). If the probability of `stay_win` is 1 in 3, and we only have\n",
    "one other door to switch to, the probability of winning after switching\n",
    "must be 2 in 3 (0.666).\n",
    "\n",
    "### 10.7.2 Simulation and a variant of Monty Hall\n",
    "\n",
    "You have seen that you can avoid the silly mistakes that many of us make\n",
    "with probability — by asking the computer to tell you the result\n",
    "*before* you start to reason from first principles.\n",
    "\n",
    "As an example, consider the following variant of the Monty Hall problem.\n",
    "\n",
    "The set up to the problem has us choosing a door (`my_door` above), and\n",
    "then Monty opens one of the other two doors.\n",
    "\n",
    "Sometimes (in fact, 2/3 of the time) there is a car behind one of\n",
    "Monty’s doors. We’ve obliged Monty to open the *other* door, and his\n",
    "choice is forced.\n",
    "\n",
    "When his choice was not forced, we had Monty choose the door at random.\n",
    "\n",
    "For example, let us say we chose door 1.\n",
    "\n",
    "Let us say that the car is also under door 1.\n",
    "\n",
    "Monty has the option of choosing door 2 or door 3, and he chooses\n",
    "randomly between them."
   ]
  },
  {
   "cell_type": "code",
   "execution_count": null,
   "id": "d8de7eb7",
   "metadata": {},
   "outputs": [],
   "source": [
    "my_door <- 1  # We chose door 1 at random.\n",
    "car_door <- 1  # This trial, by chance, the car door is 1.\n",
    "# Monty is left with doors 2 and 3 to choose from.\n",
    "montys_choices <- setdiff(doors, c(my_door, car_door))\n",
    "# He chooses randomly.\n",
    "montys_door <- sample(montys_choices, size=1)\n",
    "# Show the result\n",
    "montys_door"
   ]
  },
  {
   "cell_type": "markdown",
   "id": "660cf4b0",
   "metadata": {},
   "source": [
    "Now — let us say we happen to know that Monty is rather lazy, and he\n",
    "will always choose the left-most (lower-numbered) door of the two\n",
    "options.\n",
    "\n",
    "In the previous example, Monty had the option of choosing door 2 and 3.\n",
    "In this new scenario, we know that he will always choose door 2 (the\n",
    "left-most door)."
   ]
  },
  {
   "cell_type": "code",
   "execution_count": null,
   "id": "1af22f97",
   "metadata": {},
   "outputs": [],
   "source": [
    "my_door <- 1  # We chose door 1 at random.\n",
    "car_door <- 1  # This trial, by chance, the car door is 1.\n",
    "# Monty is left with doors 2 and 3 to choose from.\n",
    "montys_choices <- setdiff(doors, c(my_door, car_door))\n",
    "# He chooses the left-most door, always.\n",
    "montys_door <- montys_choices[1]\n",
    "# Show the result\n",
    "montys_door"
   ]
  },
  {
   "cell_type": "markdown",
   "id": "6217ee76",
   "metadata": {},
   "source": [
    "It feels as if we have more information about where the car is, when we\n",
    "know this. Consider the situation where we have chosen door 1, and Monty\n",
    "opens door 3. We know that he would have preferred to open door 2, if he\n",
    "was allowed. We therefore know he wasn’t allowed to open door 2, and\n",
    "that means the car is definitely under door 2."
   ]
  },
  {
   "cell_type": "code",
   "execution_count": null,
   "id": "1e485ba4",
   "metadata": {},
   "outputs": [],
   "source": [
    "my_door <- 1  # We chose door 1 at random.\n",
    "car_door <- 1  # This trial, by chance, the car door is 1.\n",
    "# Monty is left with door 3 only to choose from.\n",
    "montys_choices <- setdiff(doors, c(my_door, car_door))\n",
    "# He chooses the left-most door, always.  But in this case, the left-most\n",
    "# available door is 3 (he can't choose 2, it is the car_door).\n",
    "# Notice the doors were in order, so the left-most door is the first door\n",
    "# in the vector.\n",
    "montys_door <- montys_choices[1]\n",
    "# Show the result\n",
    "montys_door"
   ]
  },
  {
   "cell_type": "markdown",
   "id": "44663fdc",
   "metadata": {},
   "source": [
    "To take that into account, we might try a different strategy. We will\n",
    "stick to our own choice if Monty has chosen the left-most of the two\n",
    "doors he had available to him, because he might have chosen that door\n",
    "because there was a car underneath the other door, or because there was\n",
    "a car under neither, but he preferred the left door. But, if Monty\n",
    "chooses the right-most of the two-doors available to him, we will switch\n",
    "from our own choice to the other (unopened) door, because we can be sure\n",
    "that the car is under the other (unopened) door.\n",
    "\n",
    "Call this the “switch if Monty chooses right door” strategy, or “switch\n",
    "if right” for short.\n",
    "\n",
    "Can you see quickly whether this will be better than the “always stay”\n",
    "strategy? Will it be better than the “always switch” strategy? Take a\n",
    "moment to think it through, and write down your answers.\n",
    "\n",
    "If you can quickly see the answer to both questions — well done — but,\n",
    "are you sure you are right?\n",
    "\n",
    "We can test by simulation.\n",
    "\n",
    "For our test of the “switch is right” strategy, we can tell if one door\n",
    "is to the right of another door by comparison; higher numbers mean\n",
    "further to the right: 2 is right of 1, and 3 is right of 2."
   ]
  },
  {
   "cell_type": "code",
   "execution_count": null,
   "id": "164db2de",
   "metadata": {},
   "outputs": [],
   "source": [
    "# Door 3 is right of door 1.\n",
    "3 > 1"
   ]
  },
  {
   "cell_type": "code",
   "execution_count": null,
   "id": "744afc6e",
   "metadata": {},
   "outputs": [],
   "source": [
    "# A test of the switch-if-right strategy.\n",
    "# The car doors.\n",
    "car_doors <- numeric(10000)\n",
    "# The door we chose using the strategy.\n",
    "strategy_doors <- numeric(10000)\n",
    "\n",
    "doors <- c(1, 2, 3)\n",
    "\n",
    "for (i in 1:10000) {\n",
    "    my_door <- sample(doors, size=1)\n",
    "    car_door <- sample(doors, size=1)\n",
    "    # Which door will Monty open?\n",
    "    montys_choices <- setdiff(doors, c(my_door, car_door))\n",
    "    # Choose Monty's door from the remaining options.\n",
    "    # This time, he always prefers the left door.\n",
    "    montys_door <- montys_choices[1]\n",
    "    # Now find the door we'll open if we switch.\n",
    "    remaining_doors <- setdiff(doors, c(my_door, montys_door))\n",
    "    # There is only one door remaining - but is Monty's door\n",
    "    # to the right of this one?  Then Monty had to shift.\n",
    "    other_door <- remaining_doors[1]\n",
    "    if (montys_door > other_door) {\n",
    "        # Monty's door was the right-hand door, the car is under the other one.\n",
    "        strategy_doors[i] <- other_door\n",
    "    } else {  # We stick with the door we first thought of.\n",
    "        strategy_doors[i] <- my_door\n",
    "    }\n",
    "    # Store the car door for this trial.\n",
    "    car_doors[i] <- car_door\n",
    "}\n",
    "\n",
    "strategy_wins <- strategy_doors == car_doors\n",
    "\n",
    "p_for_strategy <- sum(strategy_wins) / 10000\n",
    "\n",
    "message('p for strategy: ', p_for_strategy)"
   ]
  },
  {
   "cell_type": "markdown",
   "id": "e12d0afd",
   "metadata": {},
   "source": [
    "We find that the “switch-if-right” has around the same chance of success\n",
    "as the “always-switch” strategy — of about 66.6%, or 2 in 3. Were your\n",
    "initial answers right? Now you’ve seen the result, can you see why it\n",
    "should be so? It may not be obvious — the Monty Hall problem is\n",
    "deceptively difficult. But our case here is that the simulation first\n",
    "gives you an estimate of the correct answer, and then, gives you a good\n",
    "basis for thinking more about the problem. That is:\n",
    "\n",
    "- simulation is useful for estimation and\n",
    "- simulation is useful for reflection."
   ]
  }
 ],
 "metadata": {
  "jupytext": {
   "cell_metadata_filter": "-all",
   "main_language": "R",
   "notebook_metadata_filter": "-all"
  },
  "kernelspec": {
   "display_name": "R (webR)",
   "name": "webR"
  }
 },
 "nbformat": 4,
 "nbformat_minor": 5
}
