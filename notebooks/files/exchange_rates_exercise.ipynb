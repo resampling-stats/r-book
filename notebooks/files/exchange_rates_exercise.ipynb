{
 "cells": [
  {
   "cell_type": "markdown",
   "id": "384f9fcc",
   "metadata": {},
   "source": [
    "# Exchange rates and money supply"
   ]
  },
  {
   "cell_type": "markdown",
   "id": "2b03f815",
   "metadata": {},
   "source": [
    "Notebook for exercise on exchange rates and money supply."
   ]
  },
  {
   "cell_type": "code",
   "execution_count": null,
   "id": "e47dc6d1",
   "metadata": {},
   "outputs": [],
   "source": [
    "exchange_df <- read.csv('https://resampling-stats.github.io/data/exchange_rates.csv')\n",
    "exchange_rates <- exchange_df$exchange_rate\n",
    "money_supply <- exchange_df$money_supply"
   ]
  }
 ],
 "metadata": {
  "jupytext": {
   "cell_metadata_filter": "-all",
   "main_language": "R",
   "notebook_metadata_filter": "-all"
  },
  "kernelspec": {
   "display_name": "R (webR)",
   "name": "webR"
  }
 },
 "nbformat": 4,
 "nbformat_minor": 5
}
