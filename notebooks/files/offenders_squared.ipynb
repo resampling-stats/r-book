{
 "cells": [
  {
   "cell_type": "markdown",
   "id": "a13a1c0f",
   "metadata": {},
   "source": [
    "# Simulation of offender strategies using squared differences"
   ]
  },
  {
   "cell_type": "markdown",
   "id": "2f324c64",
   "metadata": {},
   "source": [
    "This notebook uses squared differences in a simulation to test the null\n",
    "hypothesis that the four treatments in question were each equally\n",
    "effective.\n",
    "\n",
    "The first step is to examine our data and calculate this measure: The\n",
    "mean is 11, the differences (call *deviations from the mean*) are 6, 1,\n",
    "1, and 4, the squared deviations are 36, 1, 1, and 16, and their sum is\n",
    "54. In R:"
   ]
  },
  {
   "cell_type": "code",
   "execution_count": null,
   "id": "8396ec03",
   "metadata": {},
   "outputs": [],
   "source": [
    "# The actual scores for each treatment.\n",
    "treat_scores <- c(17, 10, 10, 7)\n",
    "# The mean.\n",
    "m <- mean(treat_scores)\n",
    "# The four deviations from the mean\n",
    "deviations <- treat_scores - m\n",
    "# Squared deviations.\n",
    "sq_deviations <- deviations ** 2\n",
    "# Sum of squared deviations.\n",
    "actual_sum_sq_deviations <- sum(sq_deviations)\n",
    "# Show the result.\n",
    "actual_sum_sq_deviations"
   ]
  },
  {
   "cell_type": "markdown",
   "id": "6f7462d5",
   "metadata": {},
   "source": [
    "Our experiment will be, as before, to constitute four groups of 20 at\n",
    "random from a universe with a 55 percent rehabilitation rate. We then\n",
    "calculate this same measure for the random groups. If it is frequently\n",
    "larger than 54, then we conclude that a uniform cure rate of 55 percent\n",
    "could easily have produced the observed results. The program that\n",
    "follows also generates the four treatments by using a `for` loop, rather\n",
    "than spelling out the `sample` command 4 times as above. In R:"
   ]
  },
  {
   "cell_type": "code",
   "execution_count": null,
   "id": "ffcf24b2",
   "metadata": {},
   "outputs": [],
   "source": [
    "# Set the number of trials.\n",
    "n_trials <- 10000\n",
    "\n",
    "# Set the sample size for each trial.\n",
    "sample_size <- 20\n",
    "\n",
    "# An empty vector to store the trials.\n",
    "scores <- numeric(n_trials)\n",
    "\n",
    "# Do 10000 trials.\n",
    "for (i in 1:n_trials) {\n",
    "    # Repeat the following steps 4 times to constitute 4 groups of 20 and\n",
    "    # count their success rates.\n",
    "    group_scores <- numeric(4)\n",
    "    for (group_no in 1:4) {\n",
    "        # A treatment group\n",
    "        group <- sample(c('success', 'failure'),\n",
    "                        size=20,\n",
    "                        prob=c(0.55, 0.45),\n",
    "                        replace=TRUE)\n",
    "        # Count successes.\n",
    "        group_count <- sum(group == 'success')\n",
    "        # Store result.\n",
    "        group_scores[group_no] <- group_count\n",
    "        # End the procedure for one group of 20, go back and repeat until all 4\n",
    "        # are done.\n",
    "    }\n",
    "    # Calculate the mean\n",
    "    m <- mean(group_scores)\n",
    "    # Calculate the deviations of the scores from the mean of the scores.\n",
    "    deviations <- group_scores - m\n",
    "    # Square them, making them them positive.\n",
    "    sq_deviations <- deviations ** 2\n",
    "    # Sum up the squared deviations.\n",
    "    sum_sq_deviations <- sum(sq_deviations)\n",
    "    # Keep track of the result for each trial.\n",
    "    scores[i] <- sum_sq_deviations\n",
    "\n",
    "    # End a trial, go back and repeat until all 10000 are complete.\n",
    "}\n",
    "\n",
    "# Produce a histogram of the trial results.\n",
    "hist(scores, breaks=50,\n",
    "     main='Distribution of sum of squared deviations, in null universe')"
   ]
  },
  {
   "cell_type": "markdown",
   "id": "aaa5c1a4",
   "metadata": {},
   "source": [
    "From this histogram, we see that in only about 1 percent of the cases\n",
    "did our trial sum of squared differences equal or exceed 54, confirming\n",
    "our conclusion that this is an unusual result. We can have R calculate\n",
    "this proportion:"
   ]
  },
  {
   "cell_type": "code",
   "execution_count": null,
   "id": "2e2a746b",
   "metadata": {},
   "outputs": [],
   "source": [
    "# How many of the trials yielded a maximum difference greater than the\n",
    "# observed maximum difference?\n",
    "k <- sum(scores >= actual_sum_sq_deviations)\n",
    "# Convert to a proportion\n",
    "kk <- k / n_trials\n",
    "\n",
    "message('Proportion >= ', actual_sum_sq_deviations, ' was: ', kk)"
   ]
  },
  {
   "cell_type": "markdown",
   "id": "1494204b",
   "metadata": {},
   "source": [
    "The conventional way to approach this problem would be with what is\n",
    "known as a [chi-squared\n",
    "test](https://en.wikipedia.org/wiki/Chi-squared_test)."
   ]
  }
 ],
 "metadata": {
  "jupytext": {
   "cell_metadata_filter": "-all",
   "main_language": "R",
   "notebook_metadata_filter": "-all"
  },
  "kernelspec": {
   "display_name": "R (webR)",
   "name": "webR"
  }
 },
 "nbformat": 4,
 "nbformat_minor": 5
}
