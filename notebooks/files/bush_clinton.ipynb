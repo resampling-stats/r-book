{
 "cells": [
  {
   "cell_type": "markdown",
   "id": "0d299300",
   "metadata": {},
   "source": [
    "# Simulation of Bush / Clinton polling"
   ]
  },
  {
   "cell_type": "markdown",
   "id": "66d228e7",
   "metadata": {},
   "source": [
    "The notebook estimates the chances that Bush is in fact equal or behind\n",
    "in the population of eventual voters, despite the poll giving him a\n",
    "narrow lead."
   ]
  },
  {
   "cell_type": "code",
   "execution_count": null,
   "id": "5a1a1c8d",
   "metadata": {},
   "outputs": [],
   "source": [
    "# Number of voters who expressed a preference.\n",
    "n_voters <- 705\n",
    "\n",
    "# Benchmark proportions.\n",
    "bench_ps <- c(0.35, 0.35, 0.30)\n",
    "\n",
    "# Set the number of trials.\n",
    "n_trials <- 10000\n",
    "\n",
    "# An empty array to store the trials.\n",
    "scores <- numeric(n_trials)\n",
    "\n",
    "# Do 10000 trials\n",
    "for (i in 1:n_trials) {\n",
    "    # Take a sample of 705 votes, with replacement.\n",
    "    samp <- sample(c('Bush', 'Perot', 'Clinton'),\n",
    "                   size=n_voters,\n",
    "                   prob=bench_ps,\n",
    "                   replace=TRUE)\n",
    "    # Count the Bush voters, etc.\n",
    "    n_bush <- sum(samp == 'Bush')\n",
    "    n_perot <- sum(samp == 'Perot')\n",
    "    n_clinton <- sum(samp == 'Clinton')\n",
    "    # Join Perot & Clinton votes into a vector.\n",
    "    others <- c(n_perot, n_clinton)\n",
    "    # Find the larger of the other two.\n",
    "    n_second <- max(others)\n",
    "    # Find Bush's margin over 2nd.\n",
    "    lead <- n_bush - n_second\n",
    "    # Convert vote difference to percent lead.\n",
    "    pct_lead <- lead / n_voters * 100\n",
    "    # Store the result.\n",
    "    scores[i] <- pct_lead\n",
    "}\n",
    "\n",
    "hist(scores, breaks=50,\n",
    "     main='Distribution of Bush margin over second candidate')\n",
    "\n",
    "# Compare to the observed margin in the sample of 705 corresponding to a 6.4\n",
    "# percent margin by Bush over 2nd place finisher (rounded).\n",
    "k <- sum(scores >= 6.4)\n",
    "kk <- k / n_trials\n",
    "\n",
    "message('Proportion of trials where Bush margin >= 6.4%: ', kk)"
   ]
  }
 ],
 "metadata": {
  "jupytext": {
   "cell_metadata_filter": "-all",
   "main_language": "R",
   "notebook_metadata_filter": "-all"
  },
  "kernelspec": {
   "display_name": "R (webR)",
   "name": "webR"
  }
 },
 "nbformat": 4,
 "nbformat_minor": 5
}
