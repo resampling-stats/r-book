{
 "cells": [
  {
   "cell_type": "markdown",
   "id": "514fc62e",
   "metadata": {},
   "source": [
    "# Voter participation in 1844 election"
   ]
  },
  {
   "cell_type": "markdown",
   "id": "4716bef3",
   "metadata": {},
   "source": [
    "Solution for voter participation exercise."
   ]
  },
  {
   "cell_type": "code",
   "execution_count": null,
   "id": "772a0caf",
   "metadata": {},
   "outputs": [],
   "source": [
    "# Read data from web URL instead of local data directory\n",
    "# (so that notebook works in online version).\n",
    "voter_df <- read.csv('https://resampling-stats.github.io/data/election_1844.csv')\n",
    "participation <- voter_df$Participation\n",
    "spread <- voter_df$Spread"
   ]
  },
  {
   "cell_type": "code",
   "execution_count": null,
   "id": "e4fa2431",
   "metadata": {},
   "outputs": [],
   "source": [
    "# Compute correlation.  It's -0.425.\n",
    "actual_r <- cor(participation, spread)\n",
    "actual_r"
   ]
  },
  {
   "cell_type": "code",
   "execution_count": null,
   "id": "7d387334",
   "metadata": {},
   "outputs": [],
   "source": [
    "n_trials <- 10000\n",
    "results <- numeric(n_trials)\n",
    "\n",
    "for (i in 1:n_trials) {\n",
    "    # Shuffle the participation rates.\n",
    "    shuffled <- sample(participation)\n",
    "    # Compute re-sampled correlation.\n",
    "    fake_r <- cor(shuffled, spread)\n",
    "    # Keep the value in the results.\n",
    "    results[i] <- fake_r\n",
    "}\n",
    "\n",
    "hist(results, breaks=25,\n",
    "     main='Distribution of shuffled correlations',\n",
    "     xlab='Correlation with shuffled participation')\n",
    "\n",
    "# Count the trials when result <= observed.\n",
    "k <- sum(results <= actual_r)\n",
    "# Compute the proportion of such trials.\n",
    "kk <- k / n_trials\n",
    "\n",
    "message('Proportion of shuffled r <= observed: ', round(kk, 2))"
   ]
  }
 ],
 "metadata": {
  "jupytext": {
   "cell_metadata_filter": "-all",
   "main_language": "R",
   "notebook_metadata_filter": "-all"
  },
  "kernelspec": {
   "display_name": "R (webR)",
   "name": "webR"
  }
 },
 "nbformat": 4,
 "nbformat_minor": 5
}
