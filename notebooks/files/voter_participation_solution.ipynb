{
 "cells": [
  {
   "cell_type": "markdown",
   "id": "067b28f8",
   "metadata": {},
   "source": [
    "# Voter participation in 1844 election"
   ]
  },
  {
   "cell_type": "markdown",
   "id": "5ad5247f",
   "metadata": {},
   "source": [
    "Solution for voter participation exercise."
   ]
  },
  {
   "cell_type": "code",
   "execution_count": null,
   "id": "c2a2a4a5",
   "metadata": {},
   "outputs": [],
   "source": [
    "voter_df <- read.csv('https://resampling-stats.github.io/data/election_1844.csv')\n",
    "participation <- voter_df$Participation\n",
    "spread <- voter_df$Spread"
   ]
  },
  {
   "cell_type": "code",
   "execution_count": null,
   "id": "e4814365",
   "metadata": {},
   "outputs": [],
   "source": [
    "# Compute correlation.  It's -0.425.\n",
    "actual_r <- cor(participation, spread)\n",
    "actual_r"
   ]
  },
  {
   "cell_type": "code",
   "execution_count": null,
   "id": "dda75ae4",
   "metadata": {},
   "outputs": [],
   "source": [
    "n_trials <- 10000\n",
    "results <- numeric(n_trials)\n",
    "\n",
    "for (i in 1:n_trials) {\n",
    "    # Shuffle the participation rates.\n",
    "    shuffled <- sample(participation)\n",
    "    # Compute re-sampled correlation.\n",
    "    fake_r <- cor(shuffled, spread)\n",
    "    # Keep the value in the results.\n",
    "    results[i] <- fake_r\n",
    "}\n",
    "\n",
    "hist(results, breaks=25,\n",
    "     main='Distribution of shuffled correlations',\n",
    "     xlab='Correlation with shuffled participation')\n",
    "\n",
    "# Count the trials when result <= observed.\n",
    "k <- sum(results <= actual_r)\n",
    "# Compute the proportion of such trials.\n",
    "kk <- k / n_trials\n",
    "\n",
    "message('Proportion of shuffled r <= observed: ', round(kk, 2))"
   ]
  }
 ],
 "metadata": {
  "jupytext": {
   "cell_metadata_filter": "-all",
   "main_language": "R",
   "notebook_metadata_filter": "-all"
  },
  "kernelspec": {
   "display_name": "R (webR)",
   "name": "webR"
  }
 },
 "nbformat": 4,
 "nbformat_minor": 5
}
