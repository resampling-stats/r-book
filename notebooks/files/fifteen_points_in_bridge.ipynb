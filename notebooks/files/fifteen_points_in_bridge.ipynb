{
 "cells": [
  {
   "cell_type": "markdown",
   "id": "43415dcb",
   "metadata": {},
   "source": [
    "# Fifteen points in a bridge hand"
   ]
  },
  {
   "cell_type": "markdown",
   "id": "e42620ba",
   "metadata": {},
   "source": [
    "Let us assume that ace counts as 4, king = 3, queen = 2, and jack = 1."
   ]
  },
  {
   "cell_type": "code",
   "execution_count": null,
   "id": "d3770273",
   "metadata": {},
   "outputs": [],
   "source": [
    "# Constitute a deck with 4 jacks (point value 1), 4 queens (value 2), 4\n",
    "# kings (value 3), 4 aces (value 4), and 36 other cards with no point\n",
    "# value\n",
    "whole_deck <- rep(c(1, 2, 3, 4, 0), c(4, 4, 4, 4, 36))\n",
    "whole_deck"
   ]
  },
  {
   "cell_type": "code",
   "execution_count": null,
   "id": "576c090b",
   "metadata": {},
   "outputs": [],
   "source": [
    "N <- 10000\n",
    "trial_results <- numeric(N)\n",
    "\n",
    "# Do N trials.\n",
    "for (i in 1:N) {\n",
    "    # Shuffle the deck of cards and draw 13\n",
    "    hand <- sample(whole_deck, size=13)  # replace=FALSE is default.\n",
    "\n",
    "    # Total the points.\n",
    "    points <- sum(hand)\n",
    "\n",
    "    # Keep score of the result.\n",
    "    trial_results[i] <- points\n",
    "\n",
    "    # End one experiment, go back and repeat until all N trials are done.\n",
    "}"
   ]
  },
  {
   "cell_type": "code",
   "execution_count": null,
   "id": "3abb7ccc",
   "metadata": {},
   "outputs": [],
   "source": [
    "# Produce a histogram of trial results.\n",
    "hist(trial_results, breaks=0:max(trial_results), main='Points in bridge hands')"
   ]
  },
  {
   "cell_type": "markdown",
   "id": "578b7ba6",
   "metadata": {},
   "source": [
    "From this histogram, we see that in about 4 percent of our trials we\n",
    "obtained a total of exactly 15 points. We can also compute this\n",
    "directly:"
   ]
  },
  {
   "cell_type": "code",
   "execution_count": null,
   "id": "d315d95a",
   "metadata": {},
   "outputs": [],
   "source": [
    "# How many times did we have a hand with fifteen points?\n",
    "k <- sum(trial_results == 15)\n",
    "\n",
    "# Convert to a proportion.\n",
    "kk <- k / N\n",
    "\n",
    "# Show the result.\n",
    "kk"
   ]
  }
 ],
 "metadata": {
  "jupytext": {
   "cell_metadata_filter": "-all",
   "main_language": "R",
   "notebook_metadata_filter": "-all"
  },
  "kernelspec": {
   "display_name": "R (webR)",
   "name": "webR"
  }
 },
 "nbformat": 4,
 "nbformat_minor": 5
}
