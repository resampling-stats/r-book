{
 "cells": [
  {
   "cell_type": "markdown",
   "id": "f1464015",
   "metadata": {},
   "source": [
    "# Bootstrap test of birthweight difference"
   ]
  },
  {
   "cell_type": "markdown",
   "id": "0939f347",
   "metadata": {},
   "source": [
    "We run bootstrap resampling from pooled drug and control birthweights,\n",
    "to establish the null-world distribution of the mean difference in\n",
    "weights. Then we compare the observed difference in means to the\n",
    "null-world distribution to ask if the actual value is plausible in the\n",
    "null world.\n",
    "\n",
    "Proceed with the simulation:"
   ]
  },
  {
   "cell_type": "code",
   "execution_count": null,
   "id": "a4a97952",
   "metadata": {},
   "outputs": [],
   "source": [
    "# Get treatment and control values from data file.\n",
    "birth_df <- read.csv('https://resampling-stats.github.io/data/birthweights.csv')\n",
    "# Birthweidhts for Drug A participants.\n",
    "treat_df <- subset(birth_df, birth_df$Treatment == 'Drug A')\n",
    "# Birthweigts as vector.\n",
    "treat <- treat_df$Birthweight\n",
    "# Control birthweights.\n",
    "control_df <- subset(birth_df, birth_df$Treatment == 'Control')\n",
    "# Birthweigts as vector.\n",
    "control <- control_df$Birthweight\n",
    "\n",
    "# Actual difference.\n",
    "actual_diff <- mean(treat) - mean(control)\n",
    "# Show the actual difference.\n",
    "actual_diff"
   ]
  },
  {
   "cell_type": "markdown",
   "id": "28fe6696",
   "metadata": {},
   "source": [
    "Proceed with the simulation:"
   ]
  },
  {
   "cell_type": "code",
   "execution_count": null,
   "id": "45505f3f",
   "metadata": {},
   "outputs": [],
   "source": [
    "# Concatenate treatment and control vectors.\n",
    "both <- c(treat, control)\n",
    "\n",
    "# Number of trials.\n",
    "n_trials <- 10000\n",
    "\n",
    "# Make vector to store results for each trial.\n",
    "results <- numeric(n_trials)\n",
    "\n",
    "# Do 10000 simulations\n",
    "for (i in 1:n_trials) {\n",
    "    # Take a resample of 15 from all birth weights.\n",
    "    fake_treat <- sample(both, size=15, replace=TRUE)\n",
    "    # Take a second, similar resample.\n",
    "    fake_control <- sample(both, size=15, replace=TRUE)\n",
    "    # Find the means of the two resamples.\n",
    "    mt <- mean(fake_treat)\n",
    "    mc <- mean(fake_control)\n",
    "    # Find the difference between the means of the two resamples.\n",
    "    diff <- mt - mc\n",
    "    # Keep score of the result.\n",
    "    results[i] <- diff\n",
    "    # End the simulation experiment, go back and repeat\n",
    "}\n",
    "# Produce a histogram of the resample differences\n",
    "hist(results, breaks=25,\n",
    "    main='Null-world distribution of treatment/control difference',\n",
    "    xlab='Null-world mean treatment - mean control')\n",
    "# How often did resample differences exceed the observed difference of\n",
    "# .82?\n",
    "k <- sum(results >= actual_diff)\n",
    "kk <- k / n_trials\n",
    "message('Proportion null-world differences >= actual difference: ', kk)"
   ]
  }
 ],
 "metadata": {
  "jupytext": {
   "cell_metadata_filter": "-all",
   "main_language": "R",
   "notebook_metadata_filter": "-all"
  },
  "kernelspec": {
   "display_name": "R (webR)",
   "name": "webR"
  }
 },
 "nbformat": 4,
 "nbformat_minor": 5
}
