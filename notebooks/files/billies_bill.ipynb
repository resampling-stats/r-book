{
 "cells": [
  {
   "cell_type": "markdown",
   "id": "7fc36df7",
   "metadata": {},
   "source": [
    "# Billie's Bill"
   ]
  },
  {
   "cell_type": "markdown",
   "id": "545bf31d",
   "metadata": {},
   "source": [
    "The text in this notebook section assumes you have opened the page as an\n",
    "interactive notebook, on your own computer, or one of the RStudio web\n",
    "interfaces.\n",
    "\n",
    "A notebook can contain blocks of text — like this one — as well as code,\n",
    "and the results from running the code.\n",
    "\n",
    "RMarkdown notebooks contain text — like this, but they can also contain\n",
    "snippets of code, in *code chunks*. You will see examples of code chunks\n",
    "soon.\n",
    "\n",
    "Notebook text can have formatting, such as links.\n",
    "\n",
    "For example, this sentence ends with a link to the earlier [second\n",
    "edition of this\n",
    "book](https://resample.statistics.com/intro-text-online).\n",
    "\n",
    "If you are in the notebook interface (rather than reading this in the\n",
    "textbook), you will see the RStudio menu near the top of the page, with\n",
    "headings “File”, “Edit” and so on.\n",
    "\n",
    "Underneath that, by default, you may see a row of icons - the “Toolbar”.\n",
    "\n",
    "In the toolbar, you may see a list box that will allow you to run the\n",
    "code in the notebook, among other icons.\n",
    "\n",
    "When we get to code chunks, you will also see a green play icon at the\n",
    "right edge of the interface, in the chunk. This will allow you to run\n",
    "the code chunk.\n",
    "\n",
    "Although you can use this “run” button, we suggest you get used to using\n",
    "the keyboard shortcut. The default shortcut on Windows or Linux is to\n",
    "hold down the Control key and the Shift key and the Enter (Return) key\n",
    "at the same time. We will call this Control-Shift-Enter. On Mac the\n",
    "default combination is Command-Shift-Enter, where Command is the key\n",
    "with the four-leaf-clover-like icon to the left of the space-bar. To\n",
    "save us having to say this each time, we will call this combination\n",
    "Ctl/Cmd-Shift-Enter.\n",
    "\n",
    "In this, our first notebook, we will be using R to solve one of those\n",
    "difficult and troubling problems in life — working out the bill in a\n",
    "restaurant.\n",
    "\n",
    "## 4.3 The meal in question\n",
    "\n",
    "Alex and Billie are at a restaurant, getting ready to order. They do not\n",
    "have much money, so they are calculating the expected bill before they\n",
    "order.\n",
    "\n",
    "Alex is thinking of having the fish for £10.50, and Billie is leaning\n",
    "towards the chicken, at £9.25. First they calculate their combined bill.\n",
    "\n",
    "Below this text you see a *code* chunk. It contains the R code to\n",
    "calculate the total bill. Press Control-Shift-Enter or Cmd-Shift-Enter\n",
    "(on Mac) in the chunk below, to see the total."
   ]
  },
  {
   "cell_type": "code",
   "execution_count": null,
   "id": "28c536cb",
   "metadata": {},
   "outputs": [],
   "source": [
    "10.50 + 9.25"
   ]
  },
  {
   "cell_type": "markdown",
   "id": "3481540b",
   "metadata": {},
   "source": [
    "The contents of the chunk above is R code. As you would predict, R\n",
    "understands numbers like `10.50`, and it understands `+` between the\n",
    "numbers as an instruction to add the numbers.\n",
    "\n",
    "When you press Ctl/Cmd-Shift-Enter, R finds `10.50`, realizes it is a\n",
    "number, and stores that number somewhere in memory. It does the same\n",
    "thing for `9.25`, and then it runs the *addition* operation on these two\n",
    "numbers in memory, which gives the number 19.75.\n",
    "\n",
    "Finally, R sends the resulting number (19.75) back to the notebook for\n",
    "display. The notebook detects that R sent back a value, and shows it to\n",
    "us.\n",
    "\n",
    "This is exactly what a calculator would do.\n",
    "\n",
    "## 4.4 Comments\n",
    "\n",
    "Unlike a calculator, we can also put notes next to our calculations, to\n",
    "remind us what they are for. One way of doing this is to use a\n",
    "“comment”. You have already seen comments in the previous chapter.\n",
    "\n",
    "A comment is some text that the computer will ignore. In R, you can make\n",
    "a comment by starting a line with the `#` (hash) character. For example,\n",
    "the next cell is a code cell, but when you run it, it does not show any\n",
    "result. In this case, that is because the computer sees the `#` at the\n",
    "beginning of the line, and then ignores the rest.\n",
    "\n",
    "Many of the code cells you see will have comments in them, to explain\n",
    "what the code is doing.\n",
    "\n",
    "Practice writing comments for your own code. It is a very good habit to\n",
    "get into. You will find that experienced programmers write many comments\n",
    "on their code. They do not do this to show off, but because they have a\n",
    "lot of experience in reading code, and they know that comments make it\n",
    "much easier to read and understand code.\n",
    "\n",
    "## 4.5 More calculations\n",
    "\n",
    "Let us continue with the struggle that Alex and Billie are having with\n",
    "their bill.\n",
    "\n",
    "They realize that they will also need to pay a tip.\n",
    "\n",
    "They think it would be reasonable to leave a 15% tip. Now they need to\n",
    "multiply their total bill by 0.15, to get the tip. The bill is about\n",
    "£20, so they know that the tip will be about £3.\n",
    "\n",
    "In R `*` means multiplication. This is the equivalent of the “×” key on\n",
    "a calculator.\n",
    "\n",
    "What about this, for the correct calculation?"
   ]
  },
  {
   "cell_type": "code",
   "execution_count": null,
   "id": "c8cce739",
   "metadata": {},
   "outputs": [],
   "source": [
    "# The tip - with a nasty mistake.\n",
    "10.50 + 9.25 * 0.15"
   ]
  },
  {
   "cell_type": "markdown",
   "id": "f1bf66f6",
   "metadata": {},
   "source": [
    "Oh dear, no, that isn’t doing the right calculation.\n",
    "\n",
    "R follows the normal rules of *precedence* with calculations. These\n",
    "rules tell us to do multiplication before addition.\n",
    "\n",
    "See <https://en.wikipedia.org/wiki/Order_of_operations> for more detail\n",
    "on the standard rules.\n",
    "\n",
    "In the case above the rules tell R to first calculate `9.25 * 0.15` (to\n",
    "get `1.3875`) and then to add the result to `10.50`, giving `11.8875`.\n",
    "\n",
    "We need to tell R we want it to do the *addition* and *then* the\n",
    "multiplication. We do this with round brackets (parentheses):\n",
    "\n",
    "<div class=\"callout callout-style-default callout-note callout-titled\">\n",
    "\n",
    "<div class=\"callout-header d-flex align-content-center\">\n",
    "\n",
    "<div class=\"callout-icon-container\">\n",
    "\n",
    "<i class='callout-icon'></i>\n",
    "\n",
    "</div>\n",
    "\n",
    "<div class=\"callout-title-container flex-fill\">\n",
    "\n",
    "Note\n",
    "\n",
    "</div>\n",
    "\n",
    "</div>\n",
    "\n",
    "<div class=\"callout-body-container callout-body\">\n",
    "\n",
    "There are three types of brackets in R.\n",
    "\n",
    "These are:\n",
    "\n",
    "- *round brackets* or *parentheses*: `()`;\n",
    "- *square brackets*: `[]`;\n",
    "- *curly brackets*: `{}`.\n",
    "\n",
    "Each type of bracket has a different meaning in R. In the examples, play\n",
    "close to attention to the type of brackets we are using.\n",
    "\n",
    "</div>\n",
    "\n",
    "</div>"
   ]
  },
  {
   "cell_type": "code",
   "execution_count": null,
   "id": "a2bcc063",
   "metadata": {},
   "outputs": [],
   "source": [
    "# The bill plus tip - mistake fixed.\n",
    "(10.50 + 9.25) * 0.15"
   ]
  },
  {
   "cell_type": "markdown",
   "id": "3d7d4c24",
   "metadata": {},
   "source": [
    "The obvious next step is to calculate the bill *including the tip*."
   ]
  },
  {
   "cell_type": "code",
   "execution_count": null,
   "id": "132b2729",
   "metadata": {},
   "outputs": [],
   "source": [
    "# The bill, including the tip\n",
    "10.50 + 9.25 + (10.50 + 9.25) * 0.15"
   ]
  },
  {
   "cell_type": "markdown",
   "id": "bce510b6",
   "metadata": {},
   "source": [
    "At this stage we start to feel that we are doing too much typing. Notice\n",
    "that we had to type out `10.50 + 9.25` twice there. That is a little\n",
    "boring, but it also makes it easier to make mistakes. The more we have\n",
    "to type, the greater the chance we have to make a mistake.\n",
    "\n",
    "To make things simpler, we would like to be able to *store* the result\n",
    "of the calculation `10.50 + 9.25`, and then re-use this value, to\n",
    "calculate the tip.\n",
    "\n",
    "This is the role of *variables*. A *variable* is a value with a name.\n",
    "\n",
    "Here is a variable:"
   ]
  },
  {
   "cell_type": "code",
   "execution_count": null,
   "id": "9c8da972",
   "metadata": {},
   "outputs": [],
   "source": [
    "# The cost of Alex's meal.\n",
    "a <- 10.50"
   ]
  },
  {
   "cell_type": "markdown",
   "id": "98dc6e03",
   "metadata": {},
   "source": [
    "`a` is a *name* we give to the value 10.50. You can read the line above\n",
    "as “The variable `a` *gets the value* 10.50”. We can also talk of\n",
    "*setting* the variable. Here we are *setting* `a` to equal 10.50.\n",
    "\n",
    "Now, when we use `a` in code, it refers to the value we gave it. For\n",
    "example, we can put `a` on a line on its own, and R will show us the\n",
    "*value* of `a`:"
   ]
  },
  {
   "cell_type": "code",
   "execution_count": null,
   "id": "a9f13b92",
   "metadata": {},
   "outputs": [],
   "source": [
    "# The value of a\n",
    "a"
   ]
  },
  {
   "cell_type": "markdown",
   "id": "0248f54d",
   "metadata": {},
   "source": [
    "We did not have to use the name `a` — we can choose almost any name we\n",
    "like. For example, we could have chosen `alex_meal` instead:"
   ]
  },
  {
   "cell_type": "code",
   "execution_count": null,
   "id": "1b46f4e5",
   "metadata": {},
   "outputs": [],
   "source": [
    "# The cost of Alex's meal.\n",
    "# alex_meal gets the value 10.50\n",
    "alex_meal <- 10.50"
   ]
  },
  {
   "cell_type": "markdown",
   "id": "27941504",
   "metadata": {},
   "source": [
    "We often set variables like this, and then display the result, all in\n",
    "the same chunk. We do this by first setting the variable, as above, and\n",
    "then, on the final line of the chunk, we put the variable name on a line\n",
    "on its own, to ask R to show us the value of the variable. Here we set\n",
    "`billie_meal` to have the value 9.25, and then show the value of\n",
    "`billie_meal`, all in the same chunk."
   ]
  },
  {
   "cell_type": "code",
   "execution_count": null,
   "id": "b945ec1a",
   "metadata": {},
   "outputs": [],
   "source": [
    "# The cost of Alex's meal.\n",
    "# billie_meal gets the value 10.50\n",
    "billie_meal <- 10.50\n",
    "# Show the value of billie_meal\n",
    "billie_meal"
   ]
  },
  {
   "cell_type": "markdown",
   "id": "904281c8",
   "metadata": {},
   "source": [
    "Of course, here, we did not learn much, but we often set variable values\n",
    "with the results of a calculation. For example:"
   ]
  },
  {
   "cell_type": "code",
   "execution_count": null,
   "id": "5306103e",
   "metadata": {},
   "outputs": [],
   "source": [
    "# The cost of both meals, before tip.\n",
    "bill_before_tip <- 10.50 + 9.25\n",
    "# Show the value of both meals.\n",
    "bill_before_tip"
   ]
  },
  {
   "cell_type": "markdown",
   "id": "d6cd9980",
   "metadata": {},
   "source": [
    "But wait — we can do better than typing in the calculation like this. We\n",
    "can use the values of our variables, instead of typing in the values\n",
    "again."
   ]
  },
  {
   "cell_type": "code",
   "execution_count": null,
   "id": "1b7dff85",
   "metadata": {},
   "outputs": [],
   "source": [
    "# The cost of both meals, before tip, using variables.\n",
    "bill_before_tip <- alex_meal + billie_meal\n",
    "# Show the value of both meals.\n",
    "bill_before_tip"
   ]
  },
  {
   "cell_type": "markdown",
   "id": "65c2aeda",
   "metadata": {},
   "source": [
    "We make the calculation clearer by writing the calculation this way — we\n",
    "are calculating the bill before the tip by adding the cost of Alex’s and\n",
    "Billie’s meal — and that’s what the code looks like. But this also\n",
    "allows us to *change* the variable value, and recalculate. For example,\n",
    "say Alex decided to go for the hummus plate, at £7.75. Now we can tell R\n",
    "that we want `alex_meal` to have the value 7.75 instead of 10.50:"
   ]
  },
  {
   "cell_type": "code",
   "execution_count": null,
   "id": "16a26e4d",
   "metadata": {},
   "outputs": [],
   "source": [
    "# The new cost of Alex's meal.\n",
    "# alex_meal gets the value 7.75\n",
    "alex_meal = 7.75\n",
    "# Show the value of alex_meal\n",
    "alex_meal"
   ]
  },
  {
   "cell_type": "markdown",
   "id": "b3fa7e3a",
   "metadata": {},
   "source": [
    "Notice that `alex_meal` now has a new value. It was 10.50, but now it is\n",
    "7.75. We have *reset* the value of `alex_meal`. In order to use the new\n",
    "value for `alex_meal`, we must *recalculate* the bill before tip with\n",
    "*exactly the same code as before*:"
   ]
  },
  {
   "cell_type": "code",
   "execution_count": null,
   "id": "94cd4616",
   "metadata": {},
   "outputs": [],
   "source": [
    "# The new cost of both meals, before tip.\n",
    "bill_before_tip <- alex_meal + billie_meal\n",
    "# Show the value of both meals.\n",
    "bill_before_tip"
   ]
  },
  {
   "cell_type": "markdown",
   "id": "96f1d073",
   "metadata": {},
   "source": [
    "Notice that, now we have rerun this calculation, we have *reset* the\n",
    "value for `bill_before_tip` to the correct value corresponding to the\n",
    "new value for `alex_meal`.\n",
    "\n",
    "All that remains is to recalculate the bill plus tip, using the new\n",
    "value for the variable:"
   ]
  },
  {
   "cell_type": "code",
   "execution_count": null,
   "id": "a52827e0",
   "metadata": {},
   "outputs": [],
   "source": [
    "# The cost of both meals, after tip.\n",
    "bill_after_tip = bill_before_tip + bill_before_tip * 0.15\n",
    "# Show the value of both meals, after tip.\n",
    "bill_after_tip"
   ]
  },
  {
   "cell_type": "markdown",
   "id": "af6fd947",
   "metadata": {},
   "source": [
    "Now we are using variables with relevant names, the calculation looks\n",
    "right to our eye. The code expresses the calculation as we mean it: the\n",
    "bill after tip is equal to the bill before the tip, plus the bill before\n",
    "the tip times 0.15.\n",
    "\n",
    "## 4.6 And so, on\n",
    "\n",
    "Now you have done some practice with the notebook, and with variables,\n",
    "you are ready for a new problem in probability and statistics, in the\n",
    "next chapter."
   ]
  }
 ],
 "metadata": {
  "jupytext": {
   "cell_metadata_filter": "-all",
   "main_language": "R",
   "notebook_metadata_filter": "-all"
  },
  "kernelspec": {
   "display_name": "R (webR)",
   "name": "webR"
  }
 },
 "nbformat": 4,
 "nbformat_minor": 5
}
