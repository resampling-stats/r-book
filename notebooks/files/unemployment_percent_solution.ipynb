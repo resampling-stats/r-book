{
 "cells": [
  {
   "cell_type": "markdown",
   "id": "743a7ae7",
   "metadata": {},
   "source": [
    "# Unemployment percent solution\n"
   ]
  },
  {
   "cell_type": "code",
   "execution_count": null,
   "id": "1f06a8da",
   "metadata": {},
   "outputs": [],
   "source": [
    "n_trials <- 10000\n",
    "results <- numeric(n_trials)\n",
    "\n",
    "for (i in 1:n_trials) {\n",
    "    fake_people <- sample(c('no job', 'job'),\n",
    "                          size=200,\n",
    "                          replace=TRUE,\n",
    "                          prob=c(0.07, 0.93))\n",
    "    p_unemployed <- sum(fake_people == 'no job') / 200\n",
    "    results[i] <- p_unemployed\n",
    "}\n",
    "\n",
    "hist(results, breaks=25,\n",
    "     main='Bootstrap distribution p unemployed',\n",
    "     xlab='Bootstrap p unemployed')\n",
    "\n",
    "p_limits <- quantile(results, c(0.025, 0.975))\n",
    "rounded <- round(p_limits, 3)\n",
    "message('95% percent limits for p differences: ', rounded[1], ' ', rounded[2])"
   ]
  }
 ],
 "metadata": {
  "jupytext": {
   "cell_metadata_filter": "-all",
   "main_language": "R",
   "notebook_metadata_filter": "-all"
  },
  "kernelspec": {
   "display_name": "R (webR)",
   "name": "webR"
  }
 },
 "nbformat": 4,
 "nbformat_minor": 5
}
