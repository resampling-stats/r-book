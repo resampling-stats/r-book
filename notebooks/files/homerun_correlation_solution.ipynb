{
 "cells": [
  {
   "cell_type": "markdown",
   "id": "a0c92279",
   "metadata": {},
   "source": [
    "# Homeruns and strikeout correlation"
   ]
  },
  {
   "cell_type": "markdown",
   "id": "028fc05c",
   "metadata": {},
   "source": [
    "Solution for exercise on relationship of home runs and strikeouts, using\n",
    "correlation coefficient."
   ]
  },
  {
   "cell_type": "code",
   "execution_count": null,
   "id": "2e645638",
   "metadata": {},
   "outputs": [],
   "source": [
    "homeruns <- c(14, 20, 0, 38, 9, 38, 22, 31, 33,\n",
    "              11, 40, 5, 15, 32, 3, 29, 5, 32)\n",
    "strikeout <- c(135, 153, 120, 161, 138, 175, 126, 200, 205,\n",
    "               147, 165, 124, 169, 156, 36, 98, 82, 131)"
   ]
  },
  {
   "cell_type": "code",
   "execution_count": null,
   "id": "e4404f5b",
   "metadata": {},
   "outputs": [],
   "source": [
    "# The correlation approach.\n",
    "actual_r <- cor(homeruns, strikeout)\n",
    "\n",
    "n_trials <- 10000\n",
    "results <- numeric(n_trials)\n",
    "\n",
    "for (i in 1:n_trials) {\n",
    "    shuffled_runs <- sample(homeruns)\n",
    "    fake_r <- cor(shuffled_runs, strikeout)\n",
    "    results[i] <- fake_r\n",
    "}\n",
    "\n",
    "hist(results, breaks=25,\n",
    "    main='Distribution of shuffled r',\n",
    "    xlab='r for shuffled homeruns')\n",
    "\n",
    "k <- sum(results >= actual_r)\n",
    "kk <- k / n_trials\n",
    "\n",
    "message('p shuffled r >= actual: ', round(kk, 3))"
   ]
  },
  {
   "cell_type": "markdown",
   "id": "cf7c10a0",
   "metadata": {},
   "source": [
    "Interpretation: a correlation coefficient as high as the observed value\n",
    "(.62) occurred only about 0.3% of the time by chance. Hence,\n",
    "provisionally, we choose to reject chance as an explanation for such a\n",
    "high value of the correlation coefficient.\n",
    "\n",
    "Notice, we get the same answer for correlation coefficients as we do for\n",
    "sum of products. In fact, correlation coefficients must give us the same\n",
    "answer (apart from random variation from the permutation), as the tests\n",
    "of association are equivalent when we compare between different\n",
    "orderings of the same sequences."
   ]
  }
 ],
 "metadata": {
  "jupytext": {
   "cell_metadata_filter": "-all",
   "main_language": "R",
   "notebook_metadata_filter": "-all"
  },
  "kernelspec": {
   "display_name": "R (webR)",
   "name": "webR"
  }
 },
 "nbformat": 4,
 "nbformat_minor": 5
}
