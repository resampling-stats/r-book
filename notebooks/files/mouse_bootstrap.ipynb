{
 "cells": [
  {
   "cell_type": "markdown",
   "id": "f1505de8",
   "metadata": {},
   "source": [
    "# A classic bootstrap example"
   ]
  },
  {
   "cell_type": "markdown",
   "id": "be931212",
   "metadata": {},
   "source": [
    "Draw bootstrap samples from mouse survival data to compare actual mean\n",
    "difference to those observed in the null- (bootstrap) world."
   ]
  },
  {
   "cell_type": "code",
   "execution_count": null,
   "id": "f9b40de2",
   "metadata": {},
   "outputs": [],
   "source": [
    "# Treatment group.\n",
    "treat <- c(94, 38, 23, 197, 99, 16, 141)\n",
    "# control group\n",
    "control <- c(52, 10, 40, 104, 51, 27, 146, 30, 46)\n",
    "\n",
    "# Observed difference in real world.\n",
    "actual_diff <- mean(treat) - mean(control)\n",
    "\n",
    "# Set the number of trials.\n",
    "n_trials <- 10000\n",
    "\n",
    "# An empty array to store the trials.\n",
    "results <- numeric(n_trials)\n",
    "\n",
    "# U is our universe (Step 2 above)\n",
    "u <- c(treat, control)\n",
    "\n",
    "# step 5 above.\n",
    "for (i in 1:n_trials) {\n",
    "    # Step 3 above.\n",
    "    fake_treat <- sample(u, size=7, replace=TRUE)\n",
    "    # Step 3.\n",
    "    fake_control <- sample(u, size=9, replace=TRUE)\n",
    "    # Step 4.\n",
    "    mt <- mean(fake_treat)\n",
    "    # Step 4.\n",
    "    mc <- mean(fake_control)\n",
    "    # Step 4.\n",
    "    diff <- mt - mc\n",
    "    # Step 4.\n",
    "    results[i] <- diff\n",
    "}\n",
    "\n",
    "# Step 6\n",
    "hist(results, breaks=25,\n",
    "    main='Bootstrap distribution of mean differences in survival',\n",
    "    xlab='Bootstrap mean treatment - mean control')\n",
    "\n",
    "# Step 6\n",
    "k <- sum(results >= actual_diff)\n",
    "kk <- k / n_trials\n",
    "message('Proportion bootstrap mean difference >= actual difference: ', kk)"
   ]
  }
 ],
 "metadata": {
  "jupytext": {
   "cell_metadata_filter": "-all",
   "main_language": "R",
   "notebook_metadata_filter": "-all"
  },
  "kernelspec": {
   "display_name": "R (webR)",
   "name": "webR"
  }
 },
 "nbformat": 4,
 "nbformat_minor": 5
}
