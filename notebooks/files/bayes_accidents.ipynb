{
 "cells": [
  {
   "cell_type": "markdown",
   "id": "f8d32b74",
   "metadata": {},
   "source": [
    "# Bayesian analysis for insurance premium"
   ]
  },
  {
   "cell_type": "markdown",
   "id": "5bb50581",
   "metadata": {},
   "source": [
    "A mutual insurance company charges its members according to the risk of\n",
    "having an car accident. It is known that there are two classes of people\n",
    "— 80 percent of the population with good driving judgment and with a\n",
    "probability of .06 of having an accident each year, and 20 percent with\n",
    "poor judgment and a probability of .6 of having an accident each year.\n",
    "The company’s policy is to charge \\$100 for each percent of risk, i. e.,\n",
    "a driver with a probability of .6 should pay 60\\*\\$100 = \\$6000.\n",
    "\n",
    "If nothing is known of a driver except that they had an accident last\n",
    "year, what fee should they pay?\n",
    "\n",
    "Another way to phrase this question is: given that a driver had an\n",
    "accident last year, what is the probability of them having an accident\n",
    "overall?\n",
    "\n",
    "We will proceed as follows:\n",
    "\n",
    "1.  Generate a population of N people. Label each as `good driver` or\n",
    "    `poor driver`.\n",
    "2.  Simulate the last year for each person: did they have an accident or\n",
    "    not?\n",
    "3.  Select only the ones that had an accident last year.\n",
    "4.  Among those, calculate what their average risk is of making an\n",
    "    accident. This will indicate the appropriate insurance premium."
   ]
  },
  {
   "cell_type": "code",
   "execution_count": null,
   "id": "ef88eac2",
   "metadata": {},
   "outputs": [],
   "source": [
    "n_trials <- 100000\n",
    "cost_per_percent <- 100\n",
    "\n",
    "people <- sample(\n",
    "    c('good driver', 'poor driver'),\n",
    "    size=n_trials,\n",
    "    replace=TRUE,\n",
    "    prob=c(0.8, 0.2)\n",
    ")\n",
    "\n",
    "good_driver <- (people == 'good driver')\n",
    "poor_driver <- !good_driver\n",
    "\n",
    "# Did they have an accident last year?\n",
    "had_accident <- logical(n_trials)\n",
    "had_accident[good_driver] <- sample(\n",
    "    c(TRUE, FALSE),\n",
    "    size=sum(good_driver),\n",
    "    replace=TRUE,\n",
    "    prob=c(0.06, 0.94)\n",
    ")\n",
    "had_accident[poor_driver] <- sample(\n",
    "    c(TRUE, FALSE),\n",
    "    size=sum(poor_driver),\n",
    "    replace=TRUE,\n",
    "    prob=c(0.6, 0.4)\n",
    ")\n",
    "\n",
    "ppl_with_accidents <- people[had_accident]\n",
    "n_good_driver_accidents <- sum(ppl_with_accidents == 'good driver')\n",
    "n_poor_driver_accidents <- sum(ppl_with_accidents == 'poor driver')\n",
    "n_all_with_accidents <- n_good_driver_accidents + n_poor_driver_accidents\n",
    "\n",
    "avg_risk_percent <- (n_good_driver_accidents * 0.06 +\n",
    "                     n_poor_driver_accidents * 0.6) /\n",
    "                     n_all_with_accidents * 100\n",
    "\n",
    "premium <- avg_risk_percent * cost_per_percent\n",
    "\n",
    "message('Premium is: ', round(premium))"
   ]
  },
  {
   "cell_type": "markdown",
   "id": "42d20a08",
   "metadata": {},
   "source": [
    "The answer should be around 4450 USD."
   ]
  }
 ],
 "metadata": {
  "jupytext": {
   "cell_metadata_filter": "-all",
   "main_language": "R",
   "notebook_metadata_filter": "-all"
  },
  "kernelspec": {
   "display_name": "R (webR)",
   "name": "webR"
  }
 },
 "nbformat": 4,
 "nbformat_minor": 5
}
